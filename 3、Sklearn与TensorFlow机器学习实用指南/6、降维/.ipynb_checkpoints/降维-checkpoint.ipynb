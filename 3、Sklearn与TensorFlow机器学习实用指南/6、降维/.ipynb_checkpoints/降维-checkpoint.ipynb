{
 "cells": [
  {
   "cell_type": "markdown",
   "metadata": {},
   "source": [
    "# 降维"
   ]
  },
  {
   "cell_type": "markdown",
   "metadata": {},
   "source": [
    "## 降维的主要方法\n",
    "\n",
    "* __投影__\n",
    "* __流式学习__\n",
    "\n",
    "### 投影\n",
    "\n",
    "训练实例并不是在所有维度上均匀分布的。许多特征几乎是常 数，而其他特征则高度相关，所有训练实例实际上位于（或 接近）高维空间的低维子空间内，此时我们就可以通过投影的方式实现降维，但是投影并不总是降维的最佳方法。在很多情况下，子空间可能会扭曲和转动，比如 `瑞士卷数据集`。\n",
    "\n",
    "### 流式学习\n",
    "\n",
    "许多降维算法通过对训练实例所在的流形进行建模从而达到降维目的；这叫做 `流形学习` 。。它依赖于 `流形猜想（manifold\tassumption）`，也被称为 `流形假设（manifold\thypothesis）`，__它认为大多数现实世界的高维数据集大都靠近一个更低维的流形__。\n",
    "\n",
    "### 降维必定带来信息流失\n",
    "\n",
    "因此即使这种方法可以加快训练的速度，同时也会让你的系统表现的稍微差一点。降维会让你的工作流水线更复杂因而更难维护，__所以你应该先尝试使用原始的数据来训练，如果训练速度太慢的话再考虑使用降维__。\n",
    "\n",
    "__在某些情况下，降低训练集数据的维度可能会筛选掉一些噪音和不必要的细节，这可能会让你的结果比降维之前更好__ (`这种情况通常不会发生；它只会加快你训练的速度`)"
   ]
  },
  {
   "cell_type": "markdown",
   "metadata": {},
   "source": [
    "## PCA 降维\n",
    "\n",
    "可以手动实现或者使用相关的工具库，但是值得注意的是：__如果自己手动实现需要先将数据进行中心化，因为PCA默认将原点设为数据集的中心。当然在sklearn 中已经内置了中心化操作了。__\n",
    "\n",
    "Sklearn 中的 PCA 借助的是 SVD 奇异值分解来进行降维，通过奇异值分解有如下公式：\n",
    "<br/>\n",
    "<br/>\n",
    "\n",
    "<div><img src=\"./static/1.jpg\"/></div>\n",
    "\n",
    "通过求得 VT ，之后通过 X * VT 来实现 PCA 降维，如下这般：\n",
    "    \n",
    "    W2=V.T[:,:2] \n",
    "    X2D=X_centered.dot(W2)\n",
    "\n",
    "### Sklearn PCA 参数\n",
    "\n",
    "pca = PCA(n_components=2) # 用于指定降维降到多少维数\n"
   ]
  },
  {
   "cell_type": "code",
   "execution_count": 6,
   "metadata": {},
   "outputs": [
    {
     "name": "stderr",
     "output_type": "stream",
     "text": [
      "D:\\python\\lib\\importlib\\_bootstrap.py:219: RuntimeWarning: numpy.ufunc size changed, may indicate binary incompatibility. Expected 192 from C header, got 216 from PyObject\n",
      "  return f(*args, **kwds)\n",
      "D:\\python\\lib\\importlib\\_bootstrap.py:219: RuntimeWarning: numpy.ufunc size changed, may indicate binary incompatibility. Expected 192 from C header, got 216 from PyObject\n",
      "  return f(*args, **kwds)\n"
     ]
    }
   ],
   "source": [
    "from sklearn.decomposition import PCA\n",
    "import pandas as pd \n",
    "import numpy as np"
   ]
  },
  {
   "cell_type": "code",
   "execution_count": 24,
   "metadata": {},
   "outputs": [
    {
     "data": {
      "text/html": [
       "<div>\n",
       "<style scoped>\n",
       "    .dataframe tbody tr th:only-of-type {\n",
       "        vertical-align: middle;\n",
       "    }\n",
       "\n",
       "    .dataframe tbody tr th {\n",
       "        vertical-align: top;\n",
       "    }\n",
       "\n",
       "    .dataframe thead th {\n",
       "        text-align: right;\n",
       "    }\n",
       "</style>\n",
       "<table border=\"1\" class=\"dataframe\">\n",
       "  <thead>\n",
       "    <tr style=\"text-align: right;\">\n",
       "      <th></th>\n",
       "      <th>叉烧肠粉</th>\n",
       "      <th>手抓饭</th>\n",
       "      <th>四川火锅</th>\n",
       "      <th>粤式烧鹅饭</th>\n",
       "      <th>大盘鸡面</th>\n",
       "      <th>东北饺子</th>\n",
       "      <th>辣子鸡</th>\n",
       "      <th>虾饺</th>\n",
       "      <th>剁椒鱼头</th>\n",
       "      <th>拉面</th>\n",
       "      <th>烤羊排</th>\n",
       "    </tr>\n",
       "  </thead>\n",
       "  <tbody>\n",
       "    <tr>\n",
       "      <th>0</th>\n",
       "      <td>5</td>\n",
       "      <td>2</td>\n",
       "      <td>1</td>\n",
       "      <td>4</td>\n",
       "      <td>0</td>\n",
       "      <td>0</td>\n",
       "      <td>2</td>\n",
       "      <td>4</td>\n",
       "      <td>0</td>\n",
       "      <td>0</td>\n",
       "      <td>0</td>\n",
       "    </tr>\n",
       "    <tr>\n",
       "      <th>1</th>\n",
       "      <td>0</td>\n",
       "      <td>0</td>\n",
       "      <td>0</td>\n",
       "      <td>0</td>\n",
       "      <td>0</td>\n",
       "      <td>0</td>\n",
       "      <td>0</td>\n",
       "      <td>0</td>\n",
       "      <td>0</td>\n",
       "      <td>3</td>\n",
       "      <td>0</td>\n",
       "    </tr>\n",
       "    <tr>\n",
       "      <th>2</th>\n",
       "      <td>1</td>\n",
       "      <td>0</td>\n",
       "      <td>5</td>\n",
       "      <td>2</td>\n",
       "      <td>0</td>\n",
       "      <td>0</td>\n",
       "      <td>3</td>\n",
       "      <td>0</td>\n",
       "      <td>3</td>\n",
       "      <td>0</td>\n",
       "      <td>1</td>\n",
       "    </tr>\n",
       "    <tr>\n",
       "      <th>3</th>\n",
       "      <td>0</td>\n",
       "      <td>5</td>\n",
       "      <td>0</td>\n",
       "      <td>0</td>\n",
       "      <td>4</td>\n",
       "      <td>0</td>\n",
       "      <td>1</td>\n",
       "      <td>0</td>\n",
       "      <td>0</td>\n",
       "      <td>0</td>\n",
       "      <td>0</td>\n",
       "    </tr>\n",
       "    <tr>\n",
       "      <th>4</th>\n",
       "      <td>0</td>\n",
       "      <td>0</td>\n",
       "      <td>0</td>\n",
       "      <td>0</td>\n",
       "      <td>0</td>\n",
       "      <td>4</td>\n",
       "      <td>0</td>\n",
       "      <td>0</td>\n",
       "      <td>0</td>\n",
       "      <td>4</td>\n",
       "      <td>0</td>\n",
       "    </tr>\n",
       "  </tbody>\n",
       "</table>\n",
       "</div>"
      ],
      "text/plain": [
       "   叉烧肠粉  手抓饭  四川火锅  粤式烧鹅饭  大盘鸡面  东北饺子  辣子鸡  虾饺  剁椒鱼头  拉面  烤羊排\n",
       "0     5    2     1      4     0     0    2   4     0   0    0\n",
       "1     0    0     0      0     0     0    0   0     0   3    0\n",
       "2     1    0     5      2     0     0    3   0     3   0    1\n",
       "3     0    5     0      0     4     0    1   0     0   0    0\n",
       "4     0    0     0      0     0     4    0   0     0   4    0"
      ]
     },
     "execution_count": 24,
     "metadata": {},
     "output_type": "execute_result"
    }
   ],
   "source": [
    "df = pd.read_excel('data1.xlsx')\n",
    "# df.rename(columns = ['叉烧粉','手抓饭','四川火锅','烧鹅饭','大盘鸡面','饺子','辣子鸡','虾饺','芋头','拉面','羊排'])\n",
    "df.columns = ['叉烧肠粉','手抓饭','四川火锅','粤式烧鹅饭','大盘鸡面','东北饺子','辣子鸡','虾饺','剁椒鱼头','拉面','烤羊排']\n",
    "df.head()"
   ]
  },
  {
   "cell_type": "code",
   "execution_count": 25,
   "metadata": {},
   "outputs": [],
   "source": [
    "df = df.values\n",
    "pca = PCA(n_components=6)\n",
    "x2d = pca.fit_transform(df)"
   ]
  },
  {
   "cell_type": "code",
   "execution_count": 26,
   "metadata": {},
   "outputs": [
    {
     "data": {
      "text/plain": [
       "(18, 6)"
      ]
     },
     "execution_count": 26,
     "metadata": {},
     "output_type": "execute_result"
    }
   ],
   "source": [
    "x2d.shape # 确实对 列进行了降维"
   ]
  },
  {
   "cell_type": "markdown",
   "metadata": {},
   "source": [
    "### 获取主成分\n",
    "\n",
    "将 PCA 转化器应用于数据集后，可以使用\tcomponents\\_ 访问每一个主成分（注意，它返回以 PC 作为水平向量的矩阵）。\n",
    "\n",
    "__因此，如果我们想要获得第一个主成分则可以写成 pca.components_.T[:,0]\t）。__\n"
   ]
  },
  {
   "cell_type": "code",
   "execution_count": 27,
   "metadata": {},
   "outputs": [
    {
     "data": {
      "text/plain": [
       "array([ 0.47281716, -0.11909009,  0.09948576,  0.42283641, -0.33738227,\n",
       "       -0.37166447,  0.07977898,  0.49253256,  0.04107784, -0.16846714,\n",
       "       -0.20637485])"
      ]
     },
     "execution_count": 27,
     "metadata": {},
     "output_type": "execute_result"
    }
   ],
   "source": [
    "pca.components_.T[:,0]"
   ]
  },
  {
   "cell_type": "markdown",
   "metadata": {},
   "source": [
    "### 主成分的方差解释率\n",
    "\n",
    "通过\t`explained_variance_ratio_`\t变量可获得 `方差解释率`"
   ]
  },
  {
   "cell_type": "code",
   "execution_count": 28,
   "metadata": {},
   "outputs": [
    {
     "data": {
      "text/plain": [
       "array([0.30212399, 0.22418413, 0.20896728, 0.08998496, 0.05769633,\n",
       "       0.04032614])"
      ]
     },
     "execution_count": 28,
     "metadata": {},
     "output_type": "execute_result"
    }
   ],
   "source": [
    "pca.explained_variance_ratio_"
   ]
  },
  {
   "cell_type": "markdown",
   "metadata": {},
   "source": [
    "### 选择正确的维度\n",
    "\n",
    "通常我们倾向于选择加起来到 `方差解释率` 能够达到足够占比（例如 `95%`）的维度的数量，而不是任意选择要降低到的维度数量。\n",
    "\n",
    "下面的代码在 __不降维__ 的情况下进行 __PCA__ ，然后计算出保留训练集方差 `95%` 所需的最小维数："
   ]
  },
  {
   "cell_type": "code",
   "execution_count": 33,
   "metadata": {},
   "outputs": [
    {
     "data": {
      "text/plain": [
       "8"
      ]
     },
     "execution_count": 33,
     "metadata": {},
     "output_type": "execute_result"
    }
   ],
   "source": [
    "pca = PCA()\n",
    "pca.fit(df)\n",
    "cumsum = np.cumsum(pca.explained_variance_ratio_) # 按行累加数据 比如[1,2,3] 累加得到 [1,3,6]\n",
    "d = np.argmax(cumsum>=0.95)+1\n",
    "d"
   ]
  },
  {
   "cell_type": "markdown",
   "metadata": {},
   "source": [
    "### 绘制方差解释率"
   ]
  },
  {
   "cell_type": "code",
   "execution_count": 142,
   "metadata": {},
   "outputs": [],
   "source": [
    "import matplotlib.pyplot as plt\n",
    "from matplotlib.pyplot import imshow \n",
    "import matplotlib\n",
    "plt.rcParams['font.sans-serif']=['SimHei']"
   ]
  },
  {
   "cell_type": "code",
   "execution_count": 98,
   "metadata": {},
   "outputs": [
    {
     "data": {
      "text/html": [
       "<div>\n",
       "<style scoped>\n",
       "    .dataframe tbody tr th:only-of-type {\n",
       "        vertical-align: middle;\n",
       "    }\n",
       "\n",
       "    .dataframe tbody tr th {\n",
       "        vertical-align: top;\n",
       "    }\n",
       "\n",
       "    .dataframe thead th {\n",
       "        text-align: right;\n",
       "    }\n",
       "</style>\n",
       "<table border=\"1\" class=\"dataframe\">\n",
       "  <thead>\n",
       "    <tr style=\"text-align: right;\">\n",
       "      <th></th>\n",
       "      <th>var</th>\n",
       "    </tr>\n",
       "  </thead>\n",
       "  <tbody>\n",
       "    <tr>\n",
       "      <th>1</th>\n",
       "      <td>0.302124</td>\n",
       "    </tr>\n",
       "    <tr>\n",
       "      <th>2</th>\n",
       "      <td>0.526308</td>\n",
       "    </tr>\n",
       "    <tr>\n",
       "      <th>3</th>\n",
       "      <td>0.735275</td>\n",
       "    </tr>\n",
       "    <tr>\n",
       "      <th>4</th>\n",
       "      <td>0.825260</td>\n",
       "    </tr>\n",
       "    <tr>\n",
       "      <th>5</th>\n",
       "      <td>0.882957</td>\n",
       "    </tr>\n",
       "  </tbody>\n",
       "</table>\n",
       "</div>"
      ],
      "text/plain": [
       "        var\n",
       "1  0.302124\n",
       "2  0.526308\n",
       "3  0.735275\n",
       "4  0.825260\n",
       "5  0.882957"
      ]
     },
     "execution_count": 98,
     "metadata": {},
     "output_type": "execute_result"
    }
   ],
   "source": [
    "var1 = pd.DataFrame(cumsum,columns=['var'],index= [i for i in range(1,12)])\n",
    "var1.head()"
   ]
  },
  {
   "cell_type": "code",
   "execution_count": 111,
   "metadata": {},
   "outputs": [
    {
     "data": {
      "image/png": "[encoded data removed]",
      "text/plain": [
       "<Figure size 576x432 with 1 Axes>"
      ]
     },
     "metadata": {
      "needs_background": "light"
     },
     "output_type": "display_data"
    }
   ],
   "source": [
    "var1.plot(figsize=(8,6),grid=True) # 或者使用 plt.plot(var1.index,var1.values)\n",
    "plt.legend(labels=['方差解释率'])\n",
    "plt.show()"
   ]
  },
  {
   "cell_type": "markdown",
   "metadata": {},
   "source": [
    "#### 现在知道了要降到8维才能获取大于等于95%的方差接受率，那么接下来就可以通过重新生成 `PCA(n_components=8)` 来进行降维了。"
   ]
  },
  {
   "cell_type": "code",
   "execution_count": 112,
   "metadata": {},
   "outputs": [],
   "source": [
    "pca = PCA(n_components=8)\n",
    "x2d = pca.fit_transform(df)"
   ]
  },
  {
   "cell_type": "markdown",
   "metadata": {},
   "source": [
    "## PCA\t压缩\n",
    "\n",
    "通过 PCA 压缩后的数据，可以通过 PCA 投影的逆变换间，将原本降维的数据恢复到原来的维数，但是：__这并不会返回给你最原始的数据，因为投影丢失了一些信息(`比如你选择保留95%的方差解释率，那么你就损失了5%`)__，并且：__原始数据和重构数据之间的均方距离（压缩然后解压缩）被称为重构误差 __。"
   ]
  },
  {
   "cell_type": "code",
   "execution_count": 114,
   "metadata": {},
   "outputs": [],
   "source": [
    "from sklearn.datasets import fetch_mldata"
   ]
  },
  {
   "cell_type": "code",
   "execution_count": 202,
   "metadata": {},
   "outputs": [],
   "source": [
    "mnist = fetch_mldata('MNIST original',data_home='./')\n",
    "X,y = mnist['data'],mnist['target']"
   ]
  },
  {
   "cell_type": "code",
   "execution_count": 116,
   "metadata": {},
   "outputs": [
    {
     "data": {
      "text/plain": [
       "{'COL_NAMES': ['label', 'data'],\n",
       " 'DESCR': 'mldata.org dataset: mnist-original',\n",
       " 'data': array([[0, 0, 0, ..., 0, 0, 0],\n",
       "        [0, 0, 0, ..., 0, 0, 0],\n",
       "        [0, 0, 0, ..., 0, 0, 0],\n",
       "        ...,\n",
       "        [0, 0, 0, ..., 0, 0, 0],\n",
       "        [0, 0, 0, ..., 0, 0, 0],\n",
       "        [0, 0, 0, ..., 0, 0, 0]], dtype=uint8),\n",
       " 'target': array([0., 0., 0., ..., 9., 9., 9.])}"
      ]
     },
     "execution_count": 116,
     "metadata": {},
     "output_type": "execute_result"
    }
   ],
   "source": [
    "mnist"
   ]
  },
  {
   "cell_type": "markdown",
   "metadata": {},
   "source": [
    "从 `pca` 拟合全部数据后获取保留 `95%` 方差解释率的维数为 `154`。"
   ]
  },
  {
   "cell_type": "code",
   "execution_count": 117,
   "metadata": {},
   "outputs": [
    {
     "data": {
      "text/plain": [
       "154"
      ]
     },
     "execution_count": 117,
     "metadata": {},
     "output_type": "execute_result"
    }
   ],
   "source": [
    "pca = PCA()\n",
    "pca.fit(X)\n",
    "cumsum = np.cumsum(pca.explained_variance_ratio_)\n",
    "d = np.argmax(cumsum >= 0.95) +1\n",
    "d"
   ]
  },
  {
   "cell_type": "code",
   "execution_count": 118,
   "metadata": {},
   "outputs": [],
   "source": [
    "pca = PCA(n_components=154)\n",
    "X_mmist_reduced = pca.fit_transform(X)\n",
    "X_mnist_recovered = pca.inverse_transform(X_mmist_reduced)"
   ]
  },
  {
   "cell_type": "code",
   "execution_count": 135,
   "metadata": {},
   "outputs": [
    {
     "data": {
      "text/plain": [
       "(784,)"
      ]
     },
     "execution_count": 135,
     "metadata": {},
     "output_type": "execute_result"
    }
   ],
   "source": [
    "X[1].shape"
   ]
  },
  {
   "cell_type": "markdown",
   "metadata": {},
   "source": [
    "#### `不压缩` 和 `保留95%` 方差解释度之间图像的区别"
   ]
  },
  {
   "cell_type": "code",
   "execution_count": 144,
   "metadata": {},
   "outputs": [
    {
     "data": {
      "text/plain": [
       "<matplotlib.image.AxesImage at 0x24013119080>"
      ]
     },
     "execution_count": 144,
     "metadata": {},
     "output_type": "execute_result"
    },
    {
     "data": {
      "image/png": "[encoded data removed]",
      "text/plain": [
       "<Figure size 432x288 with 1 Axes>"
      ]
     },
     "metadata": {
      "needs_background": "light"
     },
     "output_type": "display_data"
    }
   ],
   "source": [
    "imshow(X_mnist_recovered[1].reshape(28,28),cmap=matplotlib.cm.binary,interpolation='nearest')"
   ]
  },
  {
   "cell_type": "code",
   "execution_count": 150,
   "metadata": {},
   "outputs": [
    {
     "data": {
      "text/plain": [
       "<matplotlib.image.AxesImage at 0x24012cfa908>"
      ]
     },
     "execution_count": 150,
     "metadata": {},
     "output_type": "execute_result"
    },
    {
     "data": {
      "image/png": "[encoded data removed]",
      "text/plain": [
       "<Figure size 432x288 with 2 Axes>"
      ]
     },
     "metadata": {
      "needs_background": "light"
     },
     "output_type": "display_data"
    }
   ],
   "source": [
    "fig,ax = plt.subplots(1,2)\n",
    "ax[0].imshow(X[1].reshape(28,28),cmap=matplotlib.cm.binary,interpolation='nearest')\n",
    "ax[1].imshow(X_mnist_recovered[1].reshape(28,28),cmap=matplotlib.cm.binary,interpolation='nearest')"
   ]
  },
  {
   "cell_type": "markdown",
   "metadata": {},
   "source": [
    "### 增量\tPCA\n",
    "\n",
    "__增量PCA（IPCA）__ 算法：您可以将训练集分批，并一次只对一个批量使用 __IPCA 算法__ 。这对大型训练集非常有用，并且可以在线应用\tPCA。"
   ]
  },
  {
   "cell_type": "code",
   "execution_count": 151,
   "metadata": {},
   "outputs": [],
   "source": [
    "from sklearn.decomposition import IncrementalPCA"
   ]
  },
  {
   "cell_type": "code",
   "execution_count": 153,
   "metadata": {},
   "outputs": [],
   "source": [
    "n_batches = 100\n",
    "inc_pca = IncrementalPCA(n_components=154)\n",
    "for x_batch in np.array_split (X,n_batches):    # np.array_split 均等分割，最后剩余的部分不均等不会报错\n",
    "    inc_pca.partial_fit(x_batch)\n",
    "x_mnist_reduced = inc_pca.transform(X)"
   ]
  },
  {
   "cell_type": "markdown",
   "metadata": {},
   "source": [
    "### 随机\tPCA（Randomized\tPCA）\n",
    "\n",
    "这是一种随机算法，可以快速 找到前 `d` 个主成分的近似值。它的计算复杂度是\t`O(m × d^2) + O(d^3)`\t，而不是 `O(m\t×\tn^2) + O(n^3)` ，所以当\t`d` 远小于\t`n`\t时，它比之前的算法快得多。\n"
   ]
  },
  {
   "cell_type": "code",
   "execution_count": 199,
   "metadata": {},
   "outputs": [],
   "source": [
    "rnd_pca = PCA(n_components=154,svd_solver='randomized')\n",
    "x_reduced = rnd_pca.fit_transform(X)"
   ]
  },
  {
   "cell_type": "markdown",
   "metadata": {},
   "source": [
    "### 核\tPCA（Kernel\tPCA）\n",
    "\n",
    "以执行复杂的非线性投影来降低维度。这就 是所谓的核\tPCA（kPCA）。它通常能够很好地保留投影后的簇，有时甚至可以展开分布近似于扭曲流形的数据集。\n"
   ]
  },
  {
   "cell_type": "code",
   "execution_count": 207,
   "metadata": {},
   "outputs": [],
   "source": [
    "from sklearn.decomposition import KernelPCA\n",
    "\n",
    "rbf_pca = KernelPCA(n_components=2,kernel='rbf',gamma=0.04) \n",
    "X_reduced = rbf_pca.fit_transform(df)"
   ]
  },
  {
   "cell_type": "markdown",
   "metadata": {},
   "source": [
    "#### 选择一种核并调整超参数\n",
    "\n",
    "__`第一种方法：`__\n",
    "\n",
    "* 由于\t`kPCA`\t是 `无监督学习算法` ，因此没有明显的性能指标可以帮助您选择最佳的 `核方法` 和 `超参数值`。但是，降维通常是监督学习任务（例如分类）的准备步骤，因此您可以简单地使用 `网格搜索` 来选择可以让该任务达到最佳表现的 `核方法` 和 `超参数`。\n",
    "\n",
    "* 例如：首先使用\t`kPCA`\t将维度降至两维，然后应用\t`Logistic`\t回归进行分类。它使用\t`Grid SearchCV`\t为\t`kPCA`\t找到最佳的核和\t`gamma`\t值，以便在最后获得最佳的分类准确性：\n",
    "\n",
    "\n"
   ]
  },
  {
   "cell_type": "code",
   "execution_count": 208,
   "metadata": {},
   "outputs": [],
   "source": [
    "from sklearn.model_selection import GridSearchCV\n",
    "from sklearn.linear_model import LogisticRegression\n",
    "from sklearn.pipeline import Pipeline"
   ]
  },
  {
   "cell_type": "code",
   "execution_count": 210,
   "metadata": {},
   "outputs": [],
   "source": [
    "clf = Pipeline([\n",
    "    (\"kpca\",KernelPCA(n_components=2)),\n",
    "    ('log_reg',LogisticRegression())\n",
    "])\n",
    "params_grid = [{\n",
    "    \"kpca_gamma\": np.linspace(0.03,0.05,1),\n",
    "    \"kpca_kernel\": [\"rbf\",\"sigmoid\"]\n",
    "\n",
    "}]\n",
    "\n",
    "gridsearch = GridSearchCV(clf,params_grid,cv=3)\n",
    "gridsearch.fit(x,y)"
   ]
  },
  {
   "cell_type": "markdown",
   "metadata": {},
   "source": [
    "你可以通过调用\tbest_params_ 变量来查看使模型效果最好的核和超参数：\n"
   ]
  },
  {
   "cell_type": "code",
   "execution_count": 211,
   "metadata": {},
   "outputs": [],
   "source": [
    "print(grid_search.best_params_)"
   ]
  },
  {
   "cell_type": "markdown",
   "metadata": {},
   "source": [
    "__`第二种方法：计算重建前图像误差`__\n",
    "\n",
    "如何进行这种重建：\n",
    "\n",
    "* 一种解决方案是训练一个监督回归模型，将预计实例作为 训练集，并将原始实例作为训练目标。\n",
    "\n",
    "\n",
    "* 如果您设置了 `fit_inverse_transform\t= True`\t，ScikitLearn 将自动执行此操作，代码如下所示：\n",
    "\n"
   ]
  },
  {
   "cell_type": "code",
   "execution_count": null,
   "metadata": {},
   "outputs": [],
   "source": [
    "rbf_pca = KernelPCA(n_components = 2, kernel=\"rbf\", gamma=0.0433,fit_inverse_transform= True)\n",
    "X_reduced = rbf_pca.fit_transform(X) \n",
    "X_preimage = rbf_pca.inverse_transform(X_reduced)"
   ]
  },
  {
   "cell_type": "markdown",
   "metadata": {},
   "source": [
    "1、你可以计算重建前图像误差\n",
    "\n",
    "2、也可以使用交叉验证的方格搜索来寻找可以最小化重建前图像误差的核方法和超参数。"
   ]
  },
  {
   "cell_type": "code",
   "execution_count": null,
   "metadata": {},
   "outputs": [],
   "source": [
    "from sklearn.metrics import mean_squared_error \n",
    "\n",
    "mean_squared_error(X, X_preimage)   # 32.786308795766132"
   ]
  }
 ],
 "metadata": {
  "kernelspec": {
   "display_name": "Python 3",
   "language": "python",
   "name": "python3"
  },
  "language_info": {
   "codemirror_mode": {
    "name": "ipython",
    "version": 3
   },
   "file_extension": ".py",
   "mimetype": "text/x-python",
   "name": "python",
   "nbconvert_exporter": "python",
   "pygments_lexer": "ipython3",
   "version": "3.6.4"
  }
 },
 "nbformat": 4,
 "nbformat_minor": 2
}
