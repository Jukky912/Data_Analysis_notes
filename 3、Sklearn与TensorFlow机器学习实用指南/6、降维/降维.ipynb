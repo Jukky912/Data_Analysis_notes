{
 "cells": [
  {
   "cell_type": "markdown",
   "metadata": {},
   "source": [
    "# 降维"
   ]
  },
  {
   "cell_type": "markdown",
   "metadata": {},
   "source": [
    "## 降维的主要方法\n",
    "\n",
    "* __投影__\n",
    "* __流式学习__\n",
    "\n",
    "### 投影\n",
    "\n",
    "训练实例并不是在所有维度上均匀分布的。许多特征几乎是常 数，而其他特征则高度相关，所有训练实例实际上位于（或 接近）高维空间的低维子空间内，此时我们就可以通过投影的方式实现降维，但是投影并不总是降维的最佳方法。在很多情况下，子空间可能会扭曲和转动，比如 `瑞士卷数据集`。\n",
    "\n",
    "### 流式学习\n",
    "\n",
    "许多降维算法通过对训练实例所在的流形进行建模从而达到降维目的；这叫做 `流形学习` 。。它依赖于 `流形猜想（manifold\tassumption）`，也被称为 `流形假设（manifold\thypothesis）`，__它认为大多数现实世界的高维数据集大都靠近一个更低维的流形__。\n",
    "\n",
    "### 降维必定带来信息流失\n",
    "\n",
    "因此即使这种方法可以加快训练的速度，同时也会让你的系统表现的稍微差一点。降维会让你的工作流水线更复杂因而更难维护，__所以你应该先尝试使用原始的数据来训练，如果训练速度太慢的话再考虑使用降维__。\n",
    "\n",
    "__在某些情况下，降低训练集数据的维度可能会筛选掉一些噪音和不必要的细节，这可能会让你的结果比降维之前更好__ (`这种情况通常不会发生；它只会加快你训练的速度`)"
   ]
  },
  {
   "cell_type": "markdown",
   "metadata": {},
   "source": [
    "## PCA 降维\n",
    "\n",
    "可以手动实现或者使用相关的工具库，但是值得注意的是：__如果自己手动实现需要先将数据进行中心化，因为PCA默认将原点设为数据集的中心。当然在sklearn 中已经内置了中心化操作了。__\n",
    "\n",
    "Sklearn 中的 PCA 借助的是 SVD 奇异值分解来进行降维，通过奇异值分解有如下公式：\n",
    "<br/>\n",
    "<br/>\n",
    "\n",
    "<div><img src=\"./static/1.jpg\"/></div>\n",
    "\n",
    "通过求得 VT ，之后通过 X * VT 来实现 PCA 降维，如下这般：\n",
    "    \n",
    "    W2=V.T[:,:2] \n",
    "    X2D=X_centered.dot(W2)\n",
    "\n",
    "### Sklearn PCA 参数\n",
    "\n",
    "pca = PCA(n_components=2) # 用于指定降维降到多少维数\n"
   ]
  },
  {
   "cell_type": "code",
   "execution_count": 6,
   "metadata": {},
   "outputs": [
    {
     "name": "stderr",
     "output_type": "stream",
     "text": [
      "D:\\python\\lib\\importlib\\_bootstrap.py:219: RuntimeWarning: numpy.ufunc size changed, may indicate binary incompatibility. Expected 192 from C header, got 216 from PyObject\n",
      "  return f(*args, **kwds)\n",
      "D:\\python\\lib\\importlib\\_bootstrap.py:219: RuntimeWarning: numpy.ufunc size changed, may indicate binary incompatibility. Expected 192 from C header, got 216 from PyObject\n",
      "  return f(*args, **kwds)\n"
     ]
    }
   ],
   "source": [
    "from sklearn.decomposition import PCA\n",
    "import pandas as pd \n",
    "import numpy as np"
   ]
  },
  {
   "cell_type": "code",
   "execution_count": 24,
   "metadata": {},
   "outputs": [
    {
     "data": {
      "text/html": [
       "<div>\n",
       "<style scoped>\n",
       "    .dataframe tbody tr th:only-of-type {\n",
       "        vertical-align: middle;\n",
       "    }\n",
       "\n",
       "    .dataframe tbody tr th {\n",
       "        vertical-align: top;\n",
       "    }\n",
       "\n",
       "    .dataframe thead th {\n",
       "        text-align: right;\n",
       "    }\n",
       "</style>\n",
       "<table border=\"1\" class=\"dataframe\">\n",
       "  <thead>\n",
       "    <tr style=\"text-align: right;\">\n",
       "      <th></th>\n",
       "      <th>叉烧肠粉</th>\n",
       "      <th>手抓饭</th>\n",
       "      <th>四川火锅</th>\n",
       "      <th>粤式烧鹅饭</th>\n",
       "      <th>大盘鸡面</th>\n",
       "      <th>东北饺子</th>\n",
       "      <th>辣子鸡</th>\n",
       "      <th>虾饺</th>\n",
       "      <th>剁椒鱼头</th>\n",
       "      <th>拉面</th>\n",
       "      <th>烤羊排</th>\n",
       "    </tr>\n",
       "  </thead>\n",
       "  <tbody>\n",
       "    <tr>\n",
       "      <th>0</th>\n",
       "      <td>5</td>\n",
       "      <td>2</td>\n",
       "      <td>1</td>\n",
       "      <td>4</td>\n",
       "      <td>0</td>\n",
       "      <td>0</td>\n",
       "      <td>2</td>\n",
       "      <td>4</td>\n",
       "      <td>0</td>\n",
       "      <td>0</td>\n",
       "      <td>0</td>\n",
       "    </tr>\n",
       "    <tr>\n",
       "      <th>1</th>\n",
       "      <td>0</td>\n",
       "      <td>0</td>\n",
       "      <td>0</td>\n",
       "      <td>0</td>\n",
       "      <td>0</td>\n",
       "      <td>0</td>\n",
       "      <td>0</td>\n",
       "      <td>0</td>\n",
       "      <td>0</td>\n",
       "      <td>3</td>\n",
       "      <td>0</td>\n",
       "    </tr>\n",
       "    <tr>\n",
       "      <th>2</th>\n",
       "      <td>1</td>\n",
       "      <td>0</td>\n",
       "      <td>5</td>\n",
       "      <td>2</td>\n",
       "      <td>0</td>\n",
       "      <td>0</td>\n",
       "      <td>3</td>\n",
       "      <td>0</td>\n",
       "      <td>3</td>\n",
       "      <td>0</td>\n",
       "      <td>1</td>\n",
       "    </tr>\n",
       "    <tr>\n",
       "      <th>3</th>\n",
       "      <td>0</td>\n",
       "      <td>5</td>\n",
       "      <td>0</td>\n",
       "      <td>0</td>\n",
       "      <td>4</td>\n",
       "      <td>0</td>\n",
       "      <td>1</td>\n",
       "      <td>0</td>\n",
       "      <td>0</td>\n",
       "      <td>0</td>\n",
       "      <td>0</td>\n",
       "    </tr>\n",
       "    <tr>\n",
       "      <th>4</th>\n",
       "      <td>0</td>\n",
       "      <td>0</td>\n",
       "      <td>0</td>\n",
       "      <td>0</td>\n",
       "      <td>0</td>\n",
       "      <td>4</td>\n",
       "      <td>0</td>\n",
       "      <td>0</td>\n",
       "      <td>0</td>\n",
       "      <td>4</td>\n",
       "      <td>0</td>\n",
       "    </tr>\n",
       "  </tbody>\n",
       "</table>\n",
       "</div>"
      ],
      "text/plain": [
       "   叉烧肠粉  手抓饭  四川火锅  粤式烧鹅饭  大盘鸡面  东北饺子  辣子鸡  虾饺  剁椒鱼头  拉面  烤羊排\n",
       "0     5    2     1      4     0     0    2   4     0   0    0\n",
       "1     0    0     0      0     0     0    0   0     0   3    0\n",
       "2     1    0     5      2     0     0    3   0     3   0    1\n",
       "3     0    5     0      0     4     0    1   0     0   0    0\n",
       "4     0    0     0      0     0     4    0   0     0   4    0"
      ]
     },
     "execution_count": 24,
     "metadata": {},
     "output_type": "execute_result"
    }
   ],
   "source": [
    "df = pd.read_excel('data1.xlsx')\n",
    "# df.rename(columns = ['叉烧粉','手抓饭','四川火锅','烧鹅饭','大盘鸡面','饺子','辣子鸡','虾饺','芋头','拉面','羊排'])\n",
    "df.columns = ['叉烧肠粉','手抓饭','四川火锅','粤式烧鹅饭','大盘鸡面','东北饺子','辣子鸡','虾饺','剁椒鱼头','拉面','烤羊排']\n",
    "df.head()"
   ]
  },
  {
   "cell_type": "code",
   "execution_count": 25,
   "metadata": {},
   "outputs": [],
   "source": [
    "df = df.values\n",
    "pca = PCA(n_components=6)\n",
    "x2d = pca.fit_transform(df)"
   ]
  },
  {
   "cell_type": "code",
   "execution_count": 26,
   "metadata": {},
   "outputs": [
    {
     "data": {
      "text/plain": [
       "(18, 6)"
      ]
     },
     "execution_count": 26,
     "metadata": {},
     "output_type": "execute_result"
    }
   ],
   "source": [
    "x2d.shape # 确实对 列进行了降维"
   ]
  },
  {
   "cell_type": "markdown",
   "metadata": {},
   "source": [
    "### 获取主成分\n",
    "\n",
    "将 PCA 转化器应用于数据集后，可以使用\tcomponents\\_ 访问每一个主成分（注意，它返回以 PC 作为水平向量的矩阵）。\n",
    "\n",
    "__因此，如果我们想要获得第一个主成分则可以写成 pca.components_.T[:,0]\t）。__\n"
   ]
  },
  {
   "cell_type": "code",
   "execution_count": 27,
   "metadata": {},
   "outputs": [
    {
     "data": {
      "text/plain": [
       "array([ 0.47281716, -0.11909009,  0.09948576,  0.42283641, -0.33738227,\n",
       "       -0.37166447,  0.07977898,  0.49253256,  0.04107784, -0.16846714,\n",
       "       -0.20637485])"
      ]
     },
     "execution_count": 27,
     "metadata": {},
     "output_type": "execute_result"
    }
   ],
   "source": [
    "pca.components_.T[:,0]"
   ]
  },
  {
   "cell_type": "markdown",
   "metadata": {},
   "source": [
    "### 主成分的方差解释率\n",
    "\n",
    "通过\t`explained_variance_ratio_`\t变量可获得 `方差解释率`"
   ]
  },
  {
   "cell_type": "code",
   "execution_count": 28,
   "metadata": {},
   "outputs": [
    {
     "data": {
      "text/plain": [
       "array([0.30212399, 0.22418413, 0.20896728, 0.08998496, 0.05769633,\n",
       "       0.04032614])"
      ]
     },
     "execution_count": 28,
     "metadata": {},
     "output_type": "execute_result"
    }
   ],
   "source": [
    "pca.explained_variance_ratio_"
   ]
  },
  {
   "cell_type": "markdown",
   "metadata": {},
   "source": [
    "### 选择正确的维度\n",
    "\n",
    "通常我们倾向于选择加起来到 `方差解释率` 能够达到足够占比（例如 `95%`）的维度的数量，而不是任意选择要降低到的维度数量。\n",
    "\n",
    "下面的代码在 __不降维__ 的情况下进行 __PCA__ ，然后计算出保留训练集方差 `95%` 所需的最小维数："
   ]
  },
  {
   "cell_type": "code",
   "execution_count": 33,
   "metadata": {},
   "outputs": [
    {
     "data": {
      "text/plain": [
       "8"
      ]
     },
     "execution_count": 33,
     "metadata": {},
     "output_type": "execute_result"
    }
   ],
   "source": [
    "pca = PCA()\n",
    "pca.fit(df)\n",
    "cumsum = np.cumsum(pca.explained_variance_ratio_) # 按行累加数据 比如[1,2,3] 累加得到 [1,3,6]\n",
    "d = np.argmax(cumsum>=0.95)+1\n",
    "d"
   ]
  },
  {
   "cell_type": "markdown",
   "metadata": {},
   "source": [
    "### 绘制方差解释率"
   ]
  },
  {
   "cell_type": "code",
   "execution_count": 35,
   "metadata": {},
   "outputs": [],
   "source": [
    "import matplotlib.pyplot as plt"
   ]
  },
  {
   "cell_type": "code",
   "execution_count": 49,
   "metadata": {},
   "outputs": [],
   "source": [
    "x = [ i for i in  range(1,df.shape[1]+1)]\n",
    "y = [ i for i in  np.arange(0,1,0.2)]"
   ]
  },
  {
   "cell_type": "code",
   "execution_count": 50,
   "metadata": {},
   "outputs": [
    {
     "data": {
      "text/plain": [
       "[0.0, 0.2, 0.4, 0.6000000000000001, 0.8]"
      ]
     },
     "execution_count": 50,
     "metadata": {},
     "output_type": "execute_result"
    }
   ],
   "source": [
    "y"
   ]
  },
  {
   "cell_type": "code",
   "execution_count": 98,
   "metadata": {},
   "outputs": [
    {
     "data": {
      "text/html": [
       "<div>\n",
       "<style scoped>\n",
       "    .dataframe tbody tr th:only-of-type {\n",
       "        vertical-align: middle;\n",
       "    }\n",
       "\n",
       "    .dataframe tbody tr th {\n",
       "        vertical-align: top;\n",
       "    }\n",
       "\n",
       "    .dataframe thead th {\n",
       "        text-align: right;\n",
       "    }\n",
       "</style>\n",
       "<table border=\"1\" class=\"dataframe\">\n",
       "  <thead>\n",
       "    <tr style=\"text-align: right;\">\n",
       "      <th></th>\n",
       "      <th>var</th>\n",
       "    </tr>\n",
       "  </thead>\n",
       "  <tbody>\n",
       "    <tr>\n",
       "      <th>1</th>\n",
       "      <td>0.302124</td>\n",
       "    </tr>\n",
       "    <tr>\n",
       "      <th>2</th>\n",
       "      <td>0.526308</td>\n",
       "    </tr>\n",
       "    <tr>\n",
       "      <th>3</th>\n",
       "      <td>0.735275</td>\n",
       "    </tr>\n",
       "    <tr>\n",
       "      <th>4</th>\n",
       "      <td>0.825260</td>\n",
       "    </tr>\n",
       "    <tr>\n",
       "      <th>5</th>\n",
       "      <td>0.882957</td>\n",
       "    </tr>\n",
       "  </tbody>\n",
       "</table>\n",
       "</div>"
      ],
      "text/plain": [
       "        var\n",
       "1  0.302124\n",
       "2  0.526308\n",
       "3  0.735275\n",
       "4  0.825260\n",
       "5  0.882957"
      ]
     },
     "execution_count": 98,
     "metadata": {},
     "output_type": "execute_result"
    }
   ],
   "source": [
    "var1 = pd.DataFrame(cumsum,columns=['var'],index= [i for i in range(1,12)])\n",
    "var1.head()"
   ]
  },
  {
   "cell_type": "code",
   "execution_count": 97,
   "metadata": {},
   "outputs": [
    {
     "data": {
      "text/plain": [
       "<matplotlib.axes._subplots.AxesSubplot at 0x2400caf6c50>"
      ]
     },
     "execution_count": 97,
     "metadata": {},
     "output_type": "execute_result"
    },
    {
     "data": {
      "image/png": "[encoded data removed]",
      "text/plain": [
       "<Figure size 864x576 with 1 Axes>"
      ]
     },
     "metadata": {
      "needs_background": "light"
     },
     "output_type": "display_data"
    }
   ],
   "source": [
    "var1.plot(figsize=(12,8),grid=True) # 或者使用 plt.plot(var1.index,var1.values)"
   ]
  },
  {
   "cell_type": "markdown",
   "metadata": {},
   "source": [
    "#### 现在知道了要降到8维才能获取大于等于95%的方差接受率，那么接下来就可以通过重新生成 `PCA(n_components=8)` 来进行降维了。"
   ]
  },
  {
   "cell_type": "code",
   "execution_count": 34,
   "metadata": {},
   "outputs": [],
   "source": [
    "pca = PCA(n_components=6)\n",
    "x2d = pca.fit_transform(df)"
   ]
  }
 ],
 "metadata": {
  "kernelspec": {
   "display_name": "Python 3",
   "language": "python",
   "name": "python3"
  },
  "language_info": {
   "codemirror_mode": {
    "name": "ipython",
    "version": 3
   },
   "file_extension": ".py",
   "mimetype": "text/x-python",
   "name": "python",
   "nbconvert_exporter": "python",
   "pygments_lexer": "ipython3",
   "version": "3.6.4"
  }
 },
 "nbformat": 4,
 "nbformat_minor": 2
}
