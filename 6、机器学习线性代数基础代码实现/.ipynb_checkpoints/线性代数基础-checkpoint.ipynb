{
 "cells": [
  {
   "cell_type": "markdown",
   "metadata": {},
   "source": [
    "# 第一章"
   ]
  },
  {
   "cell_type": "markdown",
   "metadata": {},
   "source": [
    "#### 简单生成一个行向量"
   ]
  },
  {
   "cell_type": "code",
   "execution_count": 5,
   "metadata": {},
   "outputs": [],
   "source": [
    "import numpy as np"
   ]
  },
  {
   "cell_type": "code",
   "execution_count": 6,
   "metadata": {},
   "outputs": [
    {
     "data": {
      "text/plain": [
       "array([1, 2, 3, 4])"
      ]
     },
     "execution_count": 6,
     "metadata": {},
     "output_type": "execute_result"
    }
   ],
   "source": [
    "a = np.array([1,2,3,4])\n",
    "a"
   ]
  },
  {
   "cell_type": "markdown",
   "metadata": {},
   "source": [
    "#### 行向量的转置 (无效做法)\n",
    "    \n",
    "__注意：__ `.transpose` 方法对一维数组是无效的。"
   ]
  },
  {
   "cell_type": "code",
   "execution_count": 8,
   "metadata": {},
   "outputs": [
    {
     "data": {
      "text/plain": [
       "array([1, 2, 3, 4])"
      ]
     },
     "execution_count": 8,
     "metadata": {},
     "output_type": "execute_result"
    }
   ],
   "source": [
    "a.transpose()"
   ]
  },
  {
   "cell_type": "markdown",
   "metadata": {},
   "source": [
    "#### 行向量的转置"
   ]
  },
  {
   "cell_type": "code",
   "execution_count": 10,
   "metadata": {},
   "outputs": [
    {
     "data": {
      "text/plain": [
       "array([[1],\n",
       "       [2],\n",
       "       [3],\n",
       "       [4]])"
      ]
     },
     "execution_count": 10,
     "metadata": {},
     "output_type": "execute_result"
    }
   ],
   "source": [
    "a_t = a[:,np.newaxis]\n",
    "a_t"
   ]
  },
  {
   "cell_type": "markdown",
   "metadata": {},
   "source": [
    "#### 直接生成一个列向量 (二维数组)\n",
    "\n",
    "可以把列向量看成是一个 `n * 1` 的矩阵"
   ]
  },
  {
   "cell_type": "code",
   "execution_count": 12,
   "metadata": {},
   "outputs": [
    {
     "data": {
      "text/plain": [
       "array([[1],\n",
       "       [2],\n",
       "       [3],\n",
       "       [4]])"
      ]
     },
     "execution_count": 12,
     "metadata": {},
     "output_type": "execute_result"
    }
   ],
   "source": [
    "A = np.array([[1,2,3,4]])\n",
    "A.T"
   ]
  },
  {
   "cell_type": "markdown",
   "metadata": {},
   "source": [
    "#### 向量的内积\n",
    "\n",
    "可以看成是 u 在 v 上的投影长度乘以 v 的模长，如果 v 为单位向量，则 u 和 v 的内积即为 u 在 v 上的模长。"
   ]
  },
  {
   "cell_type": "code",
   "execution_count": 39,
   "metadata": {},
   "outputs": [
    {
     "data": {
      "text/plain": [
       "37"
      ]
     },
     "execution_count": 39,
     "metadata": {},
     "output_type": "execute_result"
    }
   ],
   "source": [
    "u = np.array([3,5,2])\n",
    "v = np.array([1,4,7])\n",
    "np.dot(u,v)"
   ]
  },
  {
   "cell_type": "markdown",
   "metadata": {},
   "source": [
    "顺序不改变结果"
   ]
  },
  {
   "cell_type": "code",
   "execution_count": 50,
   "metadata": {},
   "outputs": [
    {
     "data": {
      "text/plain": [
       "37"
      ]
     },
     "execution_count": 50,
     "metadata": {},
     "output_type": "execute_result"
    }
   ],
   "source": [
    "u = np.array([3,5,2])\n",
    "v = np.array([1,4,7])\n",
    "np.dot(v,u)"
   ]
  },
  {
   "cell_type": "markdown",
   "metadata": {},
   "source": [
    "__注意__ ：当使用矩阵进行 `.dot` 计算时要满足矩阵乘法的条件。 \n",
    "\n",
    "可以发现： `a · b = abT`  ，即：`a和b内积` 的结果相当于 `a和b的转置相乘` 的结果"
   ]
  },
  {
   "cell_type": "code",
   "execution_count": 48,
   "metadata": {},
   "outputs": [
    {
     "data": {
      "text/plain": [
       "array([[37]])"
      ]
     },
     "execution_count": 48,
     "metadata": {},
     "output_type": "execute_result"
    }
   ],
   "source": [
    "u = np.array([[3,5,2]])\n",
    "v = np.array([[1,4,7]]).T\n",
    "np.dot(u,v)"
   ]
  },
  {
   "cell_type": "markdown",
   "metadata": {},
   "source": [
    "__注意__： 通常情况下，线性代数下的向量是列向量 即 `n * 1` 的向量。\n",
    "\n",
    "所以对于两个向量都是 `列向量` 之间的点积为：`a · b = aTb` "
   ]
  },
  {
   "cell_type": "code",
   "execution_count": 57,
   "metadata": {},
   "outputs": [
    {
     "data": {
      "text/plain": [
       "array([[37]])"
      ]
     },
     "execution_count": 57,
     "metadata": {},
     "output_type": "execute_result"
    }
   ],
   "source": [
    "u_t = np.array([[3,5,2]]).T\n",
    "v_t = np.array([[1,4,7]]).T\n",
    "np.dot(u_t.T,v_t)"
   ]
  },
  {
   "cell_type": "markdown",
   "metadata": {},
   "source": [
    "#### 向量的外积\n",
    "\n",
    "二维平面中，向量的外积表示两个向量张成的平行四边形的 \"面积\""
   ]
  },
  {
   "cell_type": "code",
   "execution_count": 15,
   "metadata": {},
   "outputs": [
    {
     "data": {
      "text/plain": [
       "array(7)"
      ]
     },
     "execution_count": 15,
     "metadata": {},
     "output_type": "execute_result"
    }
   ],
   "source": [
    "u = np.array([3,5])\n",
    "v = np.array([1,4])\n",
    "np.cross(u,v)"
   ]
  },
  {
   "cell_type": "markdown",
   "metadata": {},
   "source": [
    "三维空间中，u 和 v 向量的外积表示两个向量张成平面的法向量"
   ]
  },
  {
   "cell_type": "code",
   "execution_count": 16,
   "metadata": {},
   "outputs": [
    {
     "data": {
      "text/plain": [
       "array([  0, -27,   9])"
      ]
     },
     "execution_count": 16,
     "metadata": {},
     "output_type": "execute_result"
    }
   ],
   "source": [
    "u = np.array([3,3,9])\n",
    "v = np.array([1,4,12])\n",
    "np.cross(u,v)"
   ]
  },
  {
   "cell_type": "markdown",
   "metadata": {},
   "source": [
    "#### 生成一个零矩阵"
   ]
  },
  {
   "cell_type": "code",
   "execution_count": 18,
   "metadata": {},
   "outputs": [
    {
     "data": {
      "text/plain": [
       "array([[0., 0., 0.],\n",
       "       [0., 0., 0.],\n",
       "       [0., 0., 0.],\n",
       "       [0., 0., 0.],\n",
       "       [0., 0., 0.]])"
      ]
     },
     "execution_count": 18,
     "metadata": {},
     "output_type": "execute_result"
    }
   ],
   "source": [
    "A = np.zeros([5,3])\n",
    "A"
   ]
  },
  {
   "cell_type": "markdown",
   "metadata": {},
   "source": [
    "####  生成一个对角矩阵"
   ]
  },
  {
   "cell_type": "code",
   "execution_count": 21,
   "metadata": {},
   "outputs": [
    {
     "data": {
      "text/plain": [
       "array([[1, 0, 0, 0, 0],\n",
       "       [0, 2, 0, 0, 0],\n",
       "       [0, 0, 3, 0, 0],\n",
       "       [0, 0, 0, 4, 0],\n",
       "       [0, 0, 0, 0, 5]])"
      ]
     },
     "execution_count": 21,
     "metadata": {},
     "output_type": "execute_result"
    }
   ],
   "source": [
    "A = np.diag([1,2,3,4,5])\n",
    "A"
   ]
  },
  {
   "cell_type": "markdown",
   "metadata": {},
   "source": [
    "####  生成一个单位矩阵"
   ]
  },
  {
   "cell_type": "code",
   "execution_count": 20,
   "metadata": {},
   "outputs": [
    {
     "data": {
      "text/plain": [
       "array([[1., 0., 0., 0., 0.],\n",
       "       [0., 1., 0., 0., 0.],\n",
       "       [0., 0., 1., 0., 0.],\n",
       "       [0., 0., 0., 1., 0.],\n",
       "       [0., 0., 0., 0., 1.]])"
      ]
     },
     "execution_count": 20,
     "metadata": {},
     "output_type": "execute_result"
    }
   ],
   "source": [
    "A = np.eye(5)\n",
    "A"
   ]
  },
  {
   "cell_type": "markdown",
   "metadata": {},
   "source": [
    "#### 矩阵和矩阵相乘\n",
    "\n",
    "也是使用 `.dot` 方法"
   ]
  },
  {
   "cell_type": "code",
   "execution_count": 23,
   "metadata": {},
   "outputs": [
    {
     "data": {
      "text/plain": [
       "array([[11, 14, 17, 20],\n",
       "       [23, 30, 37, 44],\n",
       "       [35, 46, 57, 68],\n",
       "       [47, 62, 77, 92]])"
      ]
     },
     "execution_count": 23,
     "metadata": {},
     "output_type": "execute_result"
    }
   ],
   "source": [
    "A = np.array([[1,2],[3,4],[5,6],[7,8]])\n",
    "B = np.array([[1,2,3,4],[5,6,7,8]])\n",
    "np.dot(A,B)"
   ]
  },
  {
   "cell_type": "markdown",
   "metadata": {},
   "source": [
    "# 第二章"
   ]
  },
  {
   "cell_type": "markdown",
   "metadata": {},
   "source": [
    "#### 利用Python求矩阵的秩"
   ]
  },
  {
   "cell_type": "code",
   "execution_count": 60,
   "metadata": {},
   "outputs": [
    {
     "data": {
      "text/plain": [
       "2"
      ]
     },
     "metadata": {},
     "output_type": "display_data"
    },
    {
     "data": {
      "text/plain": [
       "1"
      ]
     },
     "metadata": {},
     "output_type": "display_data"
    }
   ],
   "source": [
    "A_1 = np.array([[1,1,0],[1,0,1]])y\n",
    "\n",
    "A_2 = np.array([[1,2,-1],[2,4,-2]])\n",
    "                \n",
    "display(np.linalg.matrix_rank(A_1))\n",
    "display(np.linalg.matrix_rank(A_2))"
   ]
  },
  {
   "cell_type": "markdown",
   "metadata": {},
   "source": [
    "#### 利用Python求矩阵的逆\n",
    "\n",
    "逆矩阵的存在条件：\n",
    "    \n",
    "* 1、必须是方阵\n",
    "    \n",
    "* 2、矩阵的零空间的维数为0，或者列空间的维数为n。\n",
    "    \n",
    "* 3、列向量 a1,a2,a3 ..... an 满足线性无关"
   ]
  },
  {
   "cell_type": "code",
   "execution_count": 62,
   "metadata": {},
   "outputs": [],
   "source": [
    "from scipy import linalg"
   ]
  },
  {
   "cell_type": "code",
   "execution_count": 66,
   "metadata": {},
   "outputs": [
    {
     "data": {
      "text/plain": [
       "array([[  1.   , -17.5  ,  13.125],\n",
       "       [  0.   ,   0.5  ,  -0.375],\n",
       "       [  0.   ,   0.   ,   0.25 ]])"
      ]
     },
     "execution_count": 66,
     "metadata": {},
     "output_type": "execute_result"
    }
   ],
   "source": [
    "A = np.array([[1,35,0],[0,2,3],[0,0,4]])\n",
    "A_n = linalg.inv(A)\n",
    "A_n"
   ]
  },
  {
   "cell_type": "code",
   "execution_count": 68,
   "metadata": {},
   "outputs": [
    {
     "data": {
      "text/plain": [
       "array([[1., 0., 0.],\n",
       "       [0., 1., 0.],\n",
       "       [0., 0., 1.]])"
      ]
     },
     "execution_count": 68,
     "metadata": {},
     "output_type": "execute_result"
    }
   ],
   "source": [
    "np.dot(A,A_n)"
   ]
  },
  {
   "cell_type": "markdown",
   "metadata": {},
   "source": [
    "#### 利用Python语言求解线性方程"
   ]
  },
  {
   "cell_type": "markdown",
   "metadata": {},
   "source": [
    "三个方程组求解x：\n",
    "\n",
    "    x1 + 2x2 + 3x3 = 14\n",
    "    x1 - x2  + 4x3 = 11\n",
    "    2x1+ 3x2 - x3  = 5"
   ]
  },
  {
   "cell_type": "code",
   "execution_count": 71,
   "metadata": {},
   "outputs": [],
   "source": [
    "from scipy import linalg"
   ]
  },
  {
   "cell_type": "code",
   "execution_count": 72,
   "metadata": {},
   "outputs": [
    {
     "data": {
      "text/plain": [
       "array([1., 2., 3.])"
      ]
     },
     "execution_count": 72,
     "metadata": {},
     "output_type": "execute_result"
    }
   ],
   "source": [
    "A = np.array([[1,2,3],[1,-1,4],[2,3,-1]])\n",
    "y = np.array([14,11,5])\n",
    "x = linalg.solve(A,y)\n",
    "x"
   ]
  },
  {
   "cell_type": "markdown",
   "metadata": {},
   "source": [
    "# 第三章"
   ]
  },
  {
   "cell_type": "code",
   "execution_count": 75,
   "metadata": {},
   "outputs": [],
   "source": [
    "from scipy import linalg"
   ]
  },
  {
   "cell_type": "code",
   "execution_count": 79,
   "metadata": {},
   "outputs": [
    {
     "data": {
      "text/plain": [
       "array([0.66666667, 1.66666667])"
      ]
     },
     "execution_count": 79,
     "metadata": {},
     "output_type": "execute_result"
    }
   ],
   "source": [
    "A = np.array([[2,1],[1,2]])\n",
    "y = np.array([3,3])\n",
    "x = linalg.solve(A,y)\n",
    "x"
   ]
  },
  {
   "cell_type": "markdown",
   "metadata": {},
   "source": [
    "#### 当方程无解时，使用投影来找到最佳近似解"
   ]
  },
  {
   "cell_type": "markdown",
   "metadata": {},
   "source": [
    "    2x + y  = 4\n",
    "    x  + 2y = 3\n",
    "    x  + 4y = 9"
   ]
  },
  {
   "cell_type": "code",
   "execution_count": 80,
   "metadata": {},
   "outputs": [],
   "source": [
    "from scipy import linalg"
   ]
  },
  {
   "cell_type": "code",
   "execution_count": 92,
   "metadata": {},
   "outputs": [
    {
     "name": "stdout",
     "output_type": "stream",
     "text": [
      "x 和 y 的近似解向量为：\n",
      "\n",
      " [[0.83870968]\n",
      " [1.87096774]]\n"
     ]
    }
   ],
   "source": [
    "A = np.array([[2,1],[1,2],[1,4]])\n",
    "b = np.array([[4],[3],[9]])\n",
    "A_T_A =np.dot(A.T,A)\n",
    "x = np.dot(np.dot(linalg.inv(A_T_A),A.T),b)\n",
    "print('x 和 y 的近似解向量为：\\n\\n',x)"
   ]
  },
  {
   "cell_type": "markdown",
   "metadata": {},
   "source": [
    "由 p  = Ax 可得"
   ]
  },
  {
   "cell_type": "code",
   "execution_count": 91,
   "metadata": {},
   "outputs": [
    {
     "data": {
      "text/plain": [
       "array([[3.5483871 ],\n",
       "       [4.58064516],\n",
       "       [8.32258065]])"
      ]
     },
     "execution_count": 91,
     "metadata": {},
     "output_type": "execute_result"
    }
   ],
   "source": [
    "p = np.dot(A,x)\n",
    "p"
   ]
  },
  {
   "cell_type": "markdown",
   "metadata": {},
   "source": [
    "我们称 x = 0.84 , y = 1.87 为线性方程的近似解，正是因为由此得到的\n",
    "\n",
    "    三维向量  \n",
    "    [[3.5483871 ],\n",
    "    [4.58064516],\n",
    "    [8.32258065]] \n",
    "\n",
    "是列空间中距离 原向量\n",
    "\n",
    "    b = [[4],\n",
    "        [3],\n",
    "        [9]] \n",
    "\n",
    "距离最近的一个向量。"
   ]
  },
  {
   "cell_type": "markdown",
   "metadata": {},
   "source": [
    "## 第四章"
   ]
  },
  {
   "cell_type": "code",
   "execution_count": 1,
   "metadata": {},
   "outputs": [],
   "source": [
    "import numpy as np\n",
    "from scipy import linalg"
   ]
  },
  {
   "cell_type": "markdown",
   "metadata": {},
   "source": [
    "求解 `特征值` 和 `特征向量`"
   ]
  },
  {
   "cell_type": "code",
   "execution_count": 2,
   "metadata": {},
   "outputs": [
    {
     "name": "stdout",
     "output_type": "stream",
     "text": [
      "[3.+0.j 1.+0.j]\n",
      "[[ 0.70710678 -0.70710678]\n",
      " [ 0.70710678  0.70710678]]\n"
     ]
    }
   ],
   "source": [
    "A = np.array([[2,1],\n",
    "             [1,2]])\n",
    "evalue,evector = linalg.eig(A)\n",
    "print(evalue)\n",
    "print(evector)"
   ]
  },
  {
   "cell_type": "markdown",
   "metadata": {},
   "source": [
    "程序返回的 `特征值` 是用变量 `evalue` 来表示的，分别是 `3` 和 `1`。而变量 `evector` 所表示的是由 `特征向量` 组成的 `特征矩阵`，在这个矩阵中，每一列都是与 `特征值` 依序对应的 `特征向量`。因此 `特征值 3` 所对应的向量为 `[0.7071,0.7071]` （列向量） ,而 `特征值1` 所对应的 `特征向量` 为`[-0.7071,0.7071]` （列向量）。"
   ]
  },
  {
   "cell_type": "markdown",
   "metadata": {},
   "source": [
    "#### 特征值 `相同` 的情况"
   ]
  },
  {
   "cell_type": "markdown",
   "metadata": {},
   "source": [
    "可以发现下面 `特征值` 存在相同的情况：\n",
    "\n",
    "我们发现存在一个 `二重特征值 5` ，和另外一个 `特征值 -2`,虽然特征值相同，但是得到的 `特征向量` 却 `线性无关`"
   ]
  },
  {
   "cell_type": "code",
   "execution_count": 3,
   "metadata": {},
   "outputs": [
    {
     "name": "stdout",
     "output_type": "stream",
     "text": [
      "[-2.+0.j  5.+0.j  5.+0.j]\n",
      "[[-0.89442719 -0.83205029  0.        ]\n",
      " [ 0.4472136  -0.5547002   0.        ]\n",
      " [ 0.          0.          1.        ]]\n"
     ]
    }
   ],
   "source": [
    "A = np.array([[1,6,0],\n",
    "              [2,2,0],\n",
    "              [0,0,5]])\n",
    "evalue,evector = linalg.eig(A)\n",
    "print(evalue)\n",
    "print(evector)"
   ]
  },
  {
   "cell_type": "markdown",
   "metadata": {},
   "source": [
    "而 下面这个 矩阵 A 却没有那么幸运了，可以看出，存在 `二重特征值6`，和一个 `特征值4`，二重特征值6，所对应的 `特征向量` 存在 `线性相关` 的情况。\n",
    "\n",
    "#### 此时由 `特征向量` 组合而成的 `特征矩阵` 是一个 `不可逆矩阵`，对于 `P` 为 `不可逆矩阵`，矩阵 A 就无法被 `对角化`。"
   ]
  },
  {
   "cell_type": "code",
   "execution_count": 5,
   "metadata": {},
   "outputs": [
    {
     "name": "stdout",
     "output_type": "stream",
     "text": [
      "[6.+0.j 4.+0.j 6.+0.j]\n",
      "[[ 1.00000000e+00  7.07106781e-01 -1.00000000e+00]\n",
      " [ 0.00000000e+00  7.07106781e-01  0.00000000e+00]\n",
      " [ 0.00000000e+00  0.00000000e+00  1.33226763e-15]]\n"
     ]
    }
   ],
   "source": [
    "A = np.array([[6,-2,1],\n",
    "              [0,4,0],\n",
    "              [0,0,6]])\n",
    "evalue,evector = linalg.eig(A)\n",
    "print(evalue)\n",
    "print(evector)"
   ]
  },
  {
   "cell_type": "markdown",
   "metadata": {},
   "source": [
    "__综上：__ 对于一个 `n阶方阵A` ，包括多重特征值一共有`n个特征值`，并且该`矩阵A`一共有`n个线性无关的特征向量`，那么 __由矩阵A的 `特征向量` 组成的 `特征矩阵` 就是 `可逆矩阵` ，`矩阵A可被对角化`__。"
   ]
  },
  {
   "cell_type": "markdown",
   "metadata": {},
   "source": [
    "### 第五章"
   ]
  },
  {
   "cell_type": "markdown",
   "metadata": {},
   "source": [
    "#### 一、使用 python 实现简单的 PCA 降维"
   ]
  },
  {
   "cell_type": "code",
   "execution_count": 1,
   "metadata": {},
   "outputs": [],
   "source": [
    "import numpy as np"
   ]
  },
  {
   "cell_type": "code",
   "execution_count": 24,
   "metadata": {},
   "outputs": [
    {
     "name": "stdout",
     "output_type": "stream",
     "text": [
      "[[2 2 4 8 4]\n",
      " [2 6 6 8 8]] \n",
      "\n",
      "[[6. 4.]\n",
      " [4. 6.]]\n"
     ]
    }
   ],
   "source": [
    "x =  [2,2,4,8,4]\n",
    "y =  [2,6,6,8,8]\n",
    "\n",
    "S = np.vstack((x,y))\n",
    "\n",
    "# print(np.vstack((x,y)),'\\n','\\n',np.vstack((x,y)).shape,'\\n')\n",
    "print(np.vstack((x,y)),'\\n')\n",
    "print(np.cov(S))     # 对角斜上为方差，其他部分为协方差\n",
    "# print(np.cov(x))     # 方差的无偏估计"
   ]
  },
  {
   "cell_type": "markdown",
   "metadata": {},
   "source": [
    "#### 1. 零均值化数据处理"
   ]
  },
  {
   "cell_type": "code",
   "execution_count": 26,
   "metadata": {},
   "outputs": [
    {
     "name": "stdout",
     "output_type": "stream",
     "text": [
      "中心化后均值为： 0.0 \n",
      "\n",
      "中心化后协方差为：\n",
      " [[6. 4.]\n",
      " [4. 6.]]\n"
     ]
    }
   ],
   "source": [
    "X = x - np.mean(x)\n",
    "Y = y - np.mean(y)\n",
    "\n",
    "S2 = np.vstack((X,Y))\n",
    "print('中心化后均值为：',np.mean(S2),'\\n')\n",
    "print('中心化后协方差为：\\n',np.cov(S2))     # 中心化后 不影响方差和协方差的值"
   ]
  },
  {
   "cell_type": "markdown",
   "metadata": {},
   "source": [
    "#### 2. 通过协方差矩阵C 求得特征向量 \n",
    "\n",
    "去中心化之后，求解协方差矩阵，相当于: $$C = AA^T$$ 所得到的 C 为对称矩阵，所得到的对称矩阵 C 是一个正定的满秩矩阵，对于对称矩阵还有一个性质：$$S = QλQ^{-1} = QλQ^T  $$"
   ]
  },
  {
   "cell_type": "code",
   "execution_count": 27,
   "metadata": {},
   "outputs": [],
   "source": [
    "import numpy as np\n",
    "from scipy import linalg"
   ]
  },
  {
   "cell_type": "code",
   "execution_count": 28,
   "metadata": {},
   "outputs": [
    {
     "name": "stdout",
     "output_type": "stream",
     "text": [
      "[10.+0.j  2.+0.j]\n",
      "[[ 0.70710678 -0.70710678]\n",
      " [ 0.70710678  0.70710678]]\n"
     ]
    }
   ],
   "source": [
    "C = np.array([[6,4],[4,6]])\n",
    "evalue,evector = linalg.eig(C)\n",
    "print(evalue)\n",
    "print(evector)"
   ]
  },
  {
   "cell_type": "markdown",
   "metadata": {},
   "source": [
    "最后结果竖下来看：\n",
    "\n",
    "![查看方式](./static/1.jpg)"
   ]
  },
  {
   "cell_type": "markdown",
   "metadata": {},
   "source": [
    "现在我们得到了两个线性无关的投影正交基，结合新得到的两个线性无关正交基，之后将矩阵在正交基上进行投影："
   ]
  },
  {
   "cell_type": "code",
   "execution_count": 59,
   "metadata": {},
   "outputs": [
    {
     "name": "stdout",
     "output_type": "stream",
     "text": [
      "[[-2. -2.  0.  4.  0.]\n",
      " [-4.  0.  0.  2.  2.]]\n",
      "[[-4.242 -1.414  0.     4.242  1.414]\n",
      " [-1.414  1.414  0.    -1.414  1.414]]\n"
     ]
    }
   ],
   "source": [
    "x =  [2,2,4,8,4]\n",
    "y =  [2,6,6,8,8]\n",
    "\n",
    "X = x - np.mean(x)\n",
    "Y = y - np.mean(y)\n",
    "\n",
    "A = np.vstack((X,Y))\n",
    "\n",
    "p_1 = [0.707,0.707]\n",
    "p_2 = [-0.707,0.707]\n",
    "\n",
    "P = np.vstack((p_1,p_2))\n",
    "print(A)\n",
    "print(np.dot(P,A))"
   ]
  },
  {
   "cell_type": "markdown",
   "metadata": {},
   "source": [
    "上面得到两个结果，就是 __原始特征__ 和 __新构建特征__ 分别得到的值，再此基础上再进行特征的 __降维__ ，让2维变成1维，由于两个新特征彼此无关，可以放心的保留一个去掉另外一个。\n",
    "\n",
    "__那么如何保留呢？__ 我们可以通过 __方差大小__ 来判断，__方差越大__，表示数据越__离散__，那么特征所包含的__信息量越大__，反之越小，我们将保留信息量大的(方差大的)。\n",
    "\n"
   ]
  },
  {
   "cell_type": "markdown",
   "metadata": {},
   "source": [
    "#### 3、查看方差大小\n",
    "\n",
    "$$ D = 1/{(n+1)}Q^TCQ $$\n",
    "\n",
    "上面求得的 P 就是 Q.T"
   ]
  },
  {
   "cell_type": "code",
   "execution_count": 65,
   "metadata": {},
   "outputs": [],
   "source": [
    "np.set_printoptions(suppress=True) # 输出时不使用科学计数法"
   ]
  },
  {
   "cell_type": "code",
   "execution_count": 66,
   "metadata": {},
   "outputs": [
    {
     "data": {
      "text/plain": [
       "array([[ 2.499245, -0.      ],\n",
       "       [-0.      ,  0.499849]])"
      ]
     },
     "execution_count": 66,
     "metadata": {},
     "output_type": "execute_result"
    }
   ],
   "source": [
    "1/4 * np.matmul((np.matmul(P,C)),P.T)"
   ]
  },
  {
   "cell_type": "markdown",
   "metadata": {},
   "source": [
    "看对角线的值，我们能发现 p_1 的方差为 2.5， p_2 为0.5，保留p_1的特征取值"
   ]
  },
  {
   "cell_type": "markdown",
   "metadata": {},
   "source": [
    "#### 4、衡量信息损失量\n",
    "\n",
    "公式：$$ λ_1/ λ_2+λ_3$$"
   ]
  },
  {
   "cell_type": "code",
   "execution_count": 68,
   "metadata": {},
   "outputs": [
    {
     "data": {
      "text/plain": [
       "'数据压缩率为50%，用方差来衡量主成分贡献率，贡献率为：0.8333333333333334'"
      ]
     },
     "execution_count": 68,
     "metadata": {},
     "output_type": "execute_result"
    }
   ],
   "source": [
    "'数据压缩率为50%，用方差来衡量主成分贡献率，贡献率为：{}'.format(2.5/(2.5+0.5))"
   ]
  }
 ],
 "metadata": {
  "kernelspec": {
   "display_name": "Python 3",
   "language": "python",
   "name": "python3"
  },
  "language_info": {
   "codemirror_mode": {
    "name": "ipython",
    "version": 3
   },
   "file_extension": ".py",
   "mimetype": "text/x-python",
   "name": "python",
   "nbconvert_exporter": "python",
   "pygments_lexer": "ipython3",
   "version": "3.6.4"
  }
 },
 "nbformat": 4,
 "nbformat_minor": 2
}
