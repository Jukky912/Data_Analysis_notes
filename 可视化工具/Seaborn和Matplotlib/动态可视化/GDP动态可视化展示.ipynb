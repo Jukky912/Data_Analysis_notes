{
 "cells": [
  {
   "cell_type": "code",
   "execution_count": 15,
   "metadata": {},
   "outputs": [],
   "source": [
    "import pandas as pd\n",
    "import numpy as np\n",
    "import seaborn as sns\n",
    "import matplotlib.pyplot as plt\n",
    "import matplotlib.animation as animation\n",
    "\n",
    "plt.rcParams['font.sans-serif']=['SimHei']"
   ]
  },
  {
   "cell_type": "code",
   "execution_count": 3,
   "metadata": {},
   "outputs": [
    {
     "data": {
      "text/html": [
       "<div>\n",
       "<style scoped>\n",
       "    .dataframe tbody tr th:only-of-type {\n",
       "        vertical-align: middle;\n",
       "    }\n",
       "\n",
       "    .dataframe tbody tr th {\n",
       "        vertical-align: top;\n",
       "    }\n",
       "\n",
       "    .dataframe thead th {\n",
       "        text-align: right;\n",
       "    }\n",
       "</style>\n",
       "<table border=\"1\" class=\"dataframe\">\n",
       "  <thead>\n",
       "    <tr style=\"text-align: right;\">\n",
       "      <th></th>\n",
       "      <th>Country Name</th>\n",
       "      <th>Country Code</th>\n",
       "      <th>Indicator Name</th>\n",
       "      <th>Indicator Code</th>\n",
       "      <th>1960</th>\n",
       "      <th>1961</th>\n",
       "      <th>1962</th>\n",
       "      <th>1963</th>\n",
       "      <th>1964</th>\n",
       "      <th>1965</th>\n",
       "      <th>...</th>\n",
       "      <th>2010</th>\n",
       "      <th>2011</th>\n",
       "      <th>2012</th>\n",
       "      <th>2013</th>\n",
       "      <th>2014</th>\n",
       "      <th>2015</th>\n",
       "      <th>2016</th>\n",
       "      <th>2017</th>\n",
       "      <th>2018</th>\n",
       "      <th>Unnamed: 63</th>\n",
       "    </tr>\n",
       "  </thead>\n",
       "  <tbody>\n",
       "    <tr>\n",
       "      <th>0</th>\n",
       "      <td>Aruba</td>\n",
       "      <td>ABW</td>\n",
       "      <td>Merchandise trade (% of GDP)</td>\n",
       "      <td>TG.VAL.TOTL.GD.ZS</td>\n",
       "      <td>NaN</td>\n",
       "      <td>NaN</td>\n",
       "      <td>NaN</td>\n",
       "      <td>NaN</td>\n",
       "      <td>NaN</td>\n",
       "      <td>NaN</td>\n",
       "      <td>...</td>\n",
       "      <td>69.394718</td>\n",
       "      <td>435.219125</td>\n",
       "      <td>135.503631</td>\n",
       "      <td>64.146263</td>\n",
       "      <td>60.767462</td>\n",
       "      <td>58.987113</td>\n",
       "      <td>56.977272</td>\n",
       "      <td>NaN</td>\n",
       "      <td>NaN</td>\n",
       "      <td>NaN</td>\n",
       "    </tr>\n",
       "    <tr>\n",
       "      <th>1</th>\n",
       "      <td>Afghanistan</td>\n",
       "      <td>AFG</td>\n",
       "      <td>Merchandise trade (% of GDP)</td>\n",
       "      <td>TG.VAL.TOTL.GD.ZS</td>\n",
       "      <td>25.475205</td>\n",
       "      <td>27.692307</td>\n",
       "      <td>31.829268</td>\n",
       "      <td>25.961536</td>\n",
       "      <td>23.499999</td>\n",
       "      <td>19.370861</td>\n",
       "      <td>...</td>\n",
       "      <td>34.950802</td>\n",
       "      <td>38.704176</td>\n",
       "      <td>47.486164</td>\n",
       "      <td>44.107661</td>\n",
       "      <td>40.512821</td>\n",
       "      <td>41.663503</td>\n",
       "      <td>36.823487</td>\n",
       "      <td>41.403018</td>\n",
       "      <td>42.772365</td>\n",
       "      <td>NaN</td>\n",
       "    </tr>\n",
       "    <tr>\n",
       "      <th>2</th>\n",
       "      <td>Angola</td>\n",
       "      <td>AGO</td>\n",
       "      <td>Merchandise trade (% of GDP)</td>\n",
       "      <td>TG.VAL.TOTL.GD.ZS</td>\n",
       "      <td>NaN</td>\n",
       "      <td>NaN</td>\n",
       "      <td>NaN</td>\n",
       "      <td>NaN</td>\n",
       "      <td>NaN</td>\n",
       "      <td>NaN</td>\n",
       "      <td>...</td>\n",
       "      <td>80.265399</td>\n",
       "      <td>78.305971</td>\n",
       "      <td>74.039740</td>\n",
       "      <td>69.181548</td>\n",
       "      <td>60.221450</td>\n",
       "      <td>46.365701</td>\n",
       "      <td>40.178454</td>\n",
       "      <td>40.186263</td>\n",
       "      <td>54.435425</td>\n",
       "      <td>NaN</td>\n",
       "    </tr>\n",
       "    <tr>\n",
       "      <th>3</th>\n",
       "      <td>Albania</td>\n",
       "      <td>ALB</td>\n",
       "      <td>Merchandise trade (% of GDP)</td>\n",
       "      <td>TG.VAL.TOTL.GD.ZS</td>\n",
       "      <td>NaN</td>\n",
       "      <td>NaN</td>\n",
       "      <td>NaN</td>\n",
       "      <td>NaN</td>\n",
       "      <td>NaN</td>\n",
       "      <td>NaN</td>\n",
       "      <td>...</td>\n",
       "      <td>49.895392</td>\n",
       "      <td>56.993840</td>\n",
       "      <td>55.601620</td>\n",
       "      <td>56.620546</td>\n",
       "      <td>57.913944</td>\n",
       "      <td>54.887482</td>\n",
       "      <td>55.904248</td>\n",
       "      <td>58.310662</td>\n",
       "      <td>58.550174</td>\n",
       "      <td>NaN</td>\n",
       "    </tr>\n",
       "    <tr>\n",
       "      <th>4</th>\n",
       "      <td>Andorra</td>\n",
       "      <td>AND</td>\n",
       "      <td>Merchandise trade (% of GDP)</td>\n",
       "      <td>TG.VAL.TOTL.GD.ZS</td>\n",
       "      <td>NaN</td>\n",
       "      <td>NaN</td>\n",
       "      <td>NaN</td>\n",
       "      <td>NaN</td>\n",
       "      <td>NaN</td>\n",
       "      <td>NaN</td>\n",
       "      <td>...</td>\n",
       "      <td>NaN</td>\n",
       "      <td>NaN</td>\n",
       "      <td>NaN</td>\n",
       "      <td>NaN</td>\n",
       "      <td>49.359611</td>\n",
       "      <td>NaN</td>\n",
       "      <td>NaN</td>\n",
       "      <td>NaN</td>\n",
       "      <td>NaN</td>\n",
       "      <td>NaN</td>\n",
       "    </tr>\n",
       "  </tbody>\n",
       "</table>\n",
       "<p>5 rows × 64 columns</p>\n",
       "</div>"
      ],
      "text/plain": [
       "  Country Name Country Code                Indicator Name     Indicator Code  \\\n",
       "0        Aruba          ABW  Merchandise trade (% of GDP)  TG.VAL.TOTL.GD.ZS   \n",
       "1  Afghanistan          AFG  Merchandise trade (% of GDP)  TG.VAL.TOTL.GD.ZS   \n",
       "2       Angola          AGO  Merchandise trade (% of GDP)  TG.VAL.TOTL.GD.ZS   \n",
       "3      Albania          ALB  Merchandise trade (% of GDP)  TG.VAL.TOTL.GD.ZS   \n",
       "4      Andorra          AND  Merchandise trade (% of GDP)  TG.VAL.TOTL.GD.ZS   \n",
       "\n",
       "        1960       1961       1962       1963       1964       1965  ...  \\\n",
       "0        NaN        NaN        NaN        NaN        NaN        NaN  ...   \n",
       "1  25.475205  27.692307  31.829268  25.961536  23.499999  19.370861  ...   \n",
       "2        NaN        NaN        NaN        NaN        NaN        NaN  ...   \n",
       "3        NaN        NaN        NaN        NaN        NaN        NaN  ...   \n",
       "4        NaN        NaN        NaN        NaN        NaN        NaN  ...   \n",
       "\n",
       "        2010        2011        2012       2013       2014       2015  \\\n",
       "0  69.394718  435.219125  135.503631  64.146263  60.767462  58.987113   \n",
       "1  34.950802   38.704176   47.486164  44.107661  40.512821  41.663503   \n",
       "2  80.265399   78.305971   74.039740  69.181548  60.221450  46.365701   \n",
       "3  49.895392   56.993840   55.601620  56.620546  57.913944  54.887482   \n",
       "4        NaN         NaN         NaN        NaN  49.359611        NaN   \n",
       "\n",
       "        2016       2017       2018  Unnamed: 63  \n",
       "0  56.977272        NaN        NaN          NaN  \n",
       "1  36.823487  41.403018  42.772365          NaN  \n",
       "2  40.178454  40.186263  54.435425          NaN  \n",
       "3  55.904248  58.310662  58.550174          NaN  \n",
       "4        NaN        NaN        NaN          NaN  \n",
       "\n",
       "[5 rows x 64 columns]"
      ]
     },
     "execution_count": 3,
     "metadata": {},
     "output_type": "execute_result"
    }
   ],
   "source": [
    "data = pd.read_csv('Indicators.csv')\n",
    "data.head()"
   ]
  },
  {
   "cell_type": "code",
   "execution_count": 4,
   "metadata": {},
   "outputs": [
    {
     "data": {
      "text/plain": [
       "Index(['Country Name', 'Country Code', 'Indicator Name', 'Indicator Code',\n",
       "       '1960', '1961', '1962', '1963', '1964', '1965', '1966', '1967', '1968',\n",
       "       '1969', '1970', '1971', '1972', '1973', '1974', '1975', '1976', '1977',\n",
       "       '1978', '1979', '1980', '1981', '1982', '1983', '1984', '1985', '1986',\n",
       "       '1987', '1988', '1989', '1990', '1991', '1992', '1993', '1994', '1995',\n",
       "       '1996', '1997', '1998', '1999', '2000', '2001', '2002', '2003', '2004',\n",
       "       '2005', '2006', '2007', '2008', '2009', '2010', '2011', '2012', '2013',\n",
       "       '2014', '2015', '2016', '2017', '2018', 'Unnamed: 63'],\n",
       "      dtype='object')"
      ]
     },
     "execution_count": 4,
     "metadata": {},
     "output_type": "execute_result"
    }
   ],
   "source": [
    "data.columns"
   ]
  },
  {
   "cell_type": "code",
   "execution_count": 5,
   "metadata": {},
   "outputs": [],
   "source": [
    "data.drop(columns='Unnamed: 63',inplace=True)"
   ]
  },
  {
   "cell_type": "code",
   "execution_count": 6,
   "metadata": {},
   "outputs": [],
   "source": [
    "new_data = pd.DataFrame()"
   ]
  },
  {
   "cell_type": "code",
   "execution_count": 7,
   "metadata": {},
   "outputs": [],
   "source": [
    "Country_Name = ['United States','Japan','China','Australia','United Kingdom','India','Korea, Rep.']\n",
    "New_Country_Name = ['United_States','Japan','China','Australia','United_Kingdom','India','Korea']"
   ]
  },
  {
   "cell_type": "code",
   "execution_count": 8,
   "metadata": {},
   "outputs": [
    {
     "name": "stdout",
     "output_type": "stream",
     "text": [
      "('United States', 'United_States')\n",
      "('Japan', 'Japan')\n",
      "('China', 'China')\n",
      "('Australia', 'Australia')\n",
      "('United Kingdom', 'United_Kingdom')\n",
      "('India', 'India')\n",
      "('Korea, Rep.', 'Korea')\n"
     ]
    }
   ],
   "source": [
    "for i in zip(Country_Name,New_Country_Name):\n",
    "    print(i)"
   ]
  },
  {
   "cell_type": "code",
   "execution_count": 9,
   "metadata": {},
   "outputs": [
    {
     "name": "stdout",
     "output_type": "stream",
     "text": [
      "('United States', 'United_States')\n",
      "('Japan', 'Japan')\n",
      "('China', 'China')\n",
      "('Australia', 'Australia')\n",
      "('United Kingdom', 'United_Kingdom')\n",
      "('India', 'India')\n",
      "('Korea, Rep.', 'Korea')\n"
     ]
    }
   ],
   "source": [
    "for country_name in zip(Country_Name,New_Country_Name):\n",
    "    print(country_name)\n",
    "    new_data[country_name[1]] = data[data['Country Name'] == country_name[0]].iloc[:,4:].values.T.reshape(59,)"
   ]
  },
  {
   "cell_type": "code",
   "execution_count": 37,
   "metadata": {},
   "outputs": [],
   "source": [
    "def animate(i):\n",
    "    for rect, yi in zip(rects, new_data.values[i]):\n",
    "        rect.set_height(yi)\n",
    "    return rects\n",
    "\n",
    "def animate2(i):\n",
    "    for rect, yi in zip(rects, new_data.values[i]):\n",
    "        rect.set_width(yi)\n",
    "    return rects"
   ]
  },
  {
   "cell_type": "code",
   "execution_count": 11,
   "metadata": {},
   "outputs": [],
   "source": [
    "Writer = animation.writers['ffmpeg']\n",
    "writer = Writer(fps=15, metadata=dict(artist='Me'), bitrate=1800)"
   ]
  },
  {
   "cell_type": "code",
   "execution_count": 54,
   "metadata": {},
   "outputs": [
    {
     "data": {
      "image/png": "[encoded data removed]",
      "text/plain": [
       "<Figure size 1080x864 with 1 Axes>"
      ]
     },
     "metadata": {
      "needs_background": "light"
     },
     "output_type": "display_data"
    }
   ],
   "source": [
    "fig = plt.figure(figsize=(15,12))\n",
    "rects = plt.barh(new_data.columns.values,new_data.values[0],color=['b','g','r','c','m','y','k'])\n",
    "\n",
    "plt.title('各国商品贸易（占GDP的百分比%）',fontsize=26)\n",
    "\n",
    "plt.ylabel('国家名称',fontsize=16)\n",
    "plt.xlabel('商品贸易（占GDP的百分比%）',fontsize=16)\n",
    "\n",
    "x_tick = np.linspace(0,100,6)\n",
    "new_x_tick =[str(i)+'%' for i in x_tick]\n",
    "\n",
    "plt.yticks(fontsize=14)\n",
    "plt.xticks(x_tick,new_x_tick,fontsize=14)\n",
    "# plt.xticks(scale_ls,index_ls) ## 可以设置坐标字\n",
    "\n",
    "plt.grid(ls=\"--\")\n",
    "plt.xlim(0,100)\n",
    "\n",
    "anim = animation.FuncAnimation(fig, animate2, frames=len(new_data), interval=40)\n",
    "anim.save('im2.mp4', writer=writer)\n",
    "\n",
    "plt.show()"
   ]
  }
 ],
 "metadata": {
  "kernelspec": {
   "display_name": "Python 3",
   "language": "python",
   "name": "python3"
  },
  "language_info": {
   "codemirror_mode": {
    "name": "ipython",
    "version": 3
   },
   "file_extension": ".py",
   "mimetype": "text/x-python",
   "name": "python",
   "nbconvert_exporter": "python",
   "pygments_lexer": "ipython3",
   "version": "3.6.4"
  }
 },
 "nbformat": 4,
 "nbformat_minor": 2
}
