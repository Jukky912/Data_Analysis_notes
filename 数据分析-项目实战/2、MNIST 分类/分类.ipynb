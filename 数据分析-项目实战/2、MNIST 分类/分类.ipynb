{
 "cells": [
  {
   "cell_type": "code",
   "execution_count": 1,
   "metadata": {},
   "outputs": [],
   "source": [
    "import pandas as pd\n",
    "import numpy as np\n",
    "from sklearn.datasets import fetch_mldata"
   ]
  },
  {
   "cell_type": "markdown",
   "metadata": {},
   "source": [
    "#### 读取数据集\n",
    "    \n",
    "__注意：__ 当使用 __fetch_mldata__ 读取数据时，要将数据集放在 __mldata__ 目录下。"
   ]
  },
  {
   "cell_type": "code",
   "execution_count": 2,
   "metadata": {},
   "outputs": [
    {
     "name": "stderr",
     "output_type": "stream",
     "text": [
      "D:\\python\\lib\\site-packages\\sklearn\\utils\\deprecation.py:85: DeprecationWarning: Function fetch_mldata is deprecated; fetch_mldata was deprecated in version 0.20 and will be removed in version 0.22. Please use fetch_openml.\n",
      "  warnings.warn(msg, category=DeprecationWarning)\n",
      "D:\\python\\lib\\site-packages\\sklearn\\utils\\deprecation.py:85: DeprecationWarning: Function mldata_filename is deprecated; mldata_filename was deprecated in version 0.20 and will be removed in version 0.22. Please use fetch_openml.\n",
      "  warnings.warn(msg, category=DeprecationWarning)\n"
     ]
    }
   ],
   "source": [
    "mnist = fetch_mldata('MNIST original',data_home='./')\n",
    "mnist\n",
    "X,y = mnist['data'],mnist['target']"
   ]
  },
  {
   "cell_type": "code",
   "execution_count": 3,
   "metadata": {},
   "outputs": [
    {
     "data": {
      "text/plain": [
       "(70000, 784)"
      ]
     },
     "execution_count": 3,
     "metadata": {},
     "output_type": "execute_result"
    }
   ],
   "source": [
    "X.shape"
   ]
  },
  {
   "cell_type": "code",
   "execution_count": 4,
   "metadata": {},
   "outputs": [],
   "source": [
    "%matplotlib inline\n",
    "import matplotlib\n",
    "import matplotlib.pyplot as plt"
   ]
  },
  {
   "cell_type": "code",
   "execution_count": 5,
   "metadata": {},
   "outputs": [
    {
     "data": {
      "text/plain": [
       "<matplotlib.image.AxesImage at 0x1e12cea92b0>"
      ]
     },
     "execution_count": 5,
     "metadata": {},
     "output_type": "execute_result"
    },
    {
     "data": {
      "image/png": "[encoded data removed]",
      "text/plain": [
       "<Figure size 432x288 with 1 Axes>"
      ]
     },
     "metadata": {
      "needs_background": "light"
     },
     "output_type": "display_data"
    }
   ],
   "source": [
    "some_digit = X[36000]\n",
    "some_digit_image = some_digit.reshape(28,28)\n",
    "plt.imshow(some_digit_image,cmap=matplotlib.cm.binary,interpolation='nearest')"
   ]
  },
  {
   "cell_type": "code",
   "execution_count": 6,
   "metadata": {},
   "outputs": [
    {
     "data": {
      "text/plain": [
       "5.0"
      ]
     },
     "execution_count": 6,
     "metadata": {},
     "output_type": "execute_result"
    }
   ],
   "source": [
    "y[36000]"
   ]
  },
  {
   "cell_type": "code",
   "execution_count": 7,
   "metadata": {},
   "outputs": [],
   "source": [
    "x_train,x_test,y_train,y_test = X[:60000],X[60000:],y[:60000],y[60000:]"
   ]
  },
  {
   "cell_type": "markdown",
   "metadata": {},
   "source": [
    "因为有的算法可能会受到训练样例的顺序的影响，当在一行中得到许多相似的样例，算法的效果会很差，所以随机打乱"
   ]
  },
  {
   "cell_type": "code",
   "execution_count": 8,
   "metadata": {},
   "outputs": [],
   "source": [
    "shuffle_index = np.random.permutation(60000)\n",
    "x_train,y_train = x_train[shuffle_index],y_train[shuffle_index]"
   ]
  },
  {
   "cell_type": "code",
   "execution_count": 9,
   "metadata": {},
   "outputs": [
    {
     "data": {
      "text/plain": [
       "(60000, 784)"
      ]
     },
     "execution_count": 9,
     "metadata": {},
     "output_type": "execute_result"
    }
   ],
   "source": [
    "x_train.shape"
   ]
  },
  {
   "cell_type": "code",
   "execution_count": 10,
   "metadata": {},
   "outputs": [
    {
     "data": {
      "text/plain": [
       "(60000,)"
      ]
     },
     "execution_count": 10,
     "metadata": {},
     "output_type": "execute_result"
    }
   ],
   "source": [
    "y_train.shape"
   ]
  },
  {
   "cell_type": "markdown",
   "metadata": {},
   "source": [
    "#### 训练一个二分类器\n",
    "\n",
    "现在我们简化一下问题，只尝试去识别一个数字，比如说，数字\t5。这个“数字\t5\t检测器”就是 一个二分类器，能够识别两类别，“是\t5”和“非\t5”。让我们为这个分类任务创建目标向量：\n"
   ]
  },
  {
   "cell_type": "code",
   "execution_count": 11,
   "metadata": {},
   "outputs": [],
   "source": [
    "y_train_5 = (y_train == 5)\n",
    "y_test_5 = (y_test == 5)"
   ]
  },
  {
   "cell_type": "code",
   "execution_count": 12,
   "metadata": {},
   "outputs": [
    {
     "data": {
      "text/plain": [
       "array([False, False, False, ..., False, False,  True])"
      ]
     },
     "execution_count": 12,
     "metadata": {},
     "output_type": "execute_result"
    }
   ],
   "source": [
    "y_train_5"
   ]
  },
  {
   "cell_type": "markdown",
   "metadata": {},
   "source": [
    "使用 __随机梯度下降分类器 SGD__ 来训练它。\n",
    "\n",
    "这个分类器有一个好处是能够高效地处理非常大的数据集。这部分原因在于 __SGD__ 一次只处理一条数据，这也使得 __SGD__ 适合在线学习。\n",
    "\n",
    "__SGDClassifier__\t依赖于训练集的随机程度（所以被命名为\tstochastic，随机之义）。如果你想重现结果，你应该固定参数 __random_state__。"
   ]
  },
  {
   "cell_type": "code",
   "execution_count": 13,
   "metadata": {},
   "outputs": [],
   "source": [
    "from sklearn.linear_model import SGDClassifier"
   ]
  },
  {
   "cell_type": "code",
   "execution_count": 14,
   "metadata": {},
   "outputs": [
    {
     "data": {
      "text/plain": [
       "SGDClassifier(alpha=0.0001, average=False, class_weight=None,\n",
       "              early_stopping=False, epsilon=0.1, eta0=0.0, fit_intercept=True,\n",
       "              l1_ratio=0.15, learning_rate='optimal', loss='hinge',\n",
       "              max_iter=1000, n_iter_no_change=5, n_jobs=None, penalty='l2',\n",
       "              power_t=0.5, random_state=42, shuffle=True, tol=0.001,\n",
       "              validation_fraction=0.1, verbose=0, warm_start=False)"
      ]
     },
     "execution_count": 14,
     "metadata": {},
     "output_type": "execute_result"
    }
   ],
   "source": [
    "sgd_clf = SGDClassifier(random_state=42)\n",
    "sgd_clf.fit(x_train,y_train_5)"
   ]
  },
  {
   "cell_type": "code",
   "execution_count": 15,
   "metadata": {},
   "outputs": [
    {
     "data": {
      "text/plain": [
       "array([False])"
      ]
     },
     "metadata": {},
     "output_type": "display_data"
    },
    {
     "data": {
      "text/plain": [
       "5.0"
      ]
     },
     "execution_count": 15,
     "metadata": {},
     "output_type": "execute_result"
    }
   ],
   "source": [
    "display(sgd_clf.predict([X[36000]]))\n",
    "y[36000]"
   ]
  },
  {
   "cell_type": "markdown",
   "metadata": {},
   "source": [
    "识别成功"
   ]
  },
  {
   "cell_type": "markdown",
   "metadata": {},
   "source": [
    "#### 对性能的评估\n",
    "    \n",
    "对性能评估最好的方法还是使用 __交叉验证__ 。\n",
    "\n",
    "接下来还是使用交叉验证对训练模型进行评估。"
   ]
  },
  {
   "cell_type": "code",
   "execution_count": 16,
   "metadata": {},
   "outputs": [],
   "source": [
    "from sklearn.model_selection import StratifiedKFold\n",
    "from sklearn.base import clone"
   ]
  },
  {
   "cell_type": "markdown",
   "metadata": {},
   "source": [
    "__实现一个自己版本的交叉验证__\n",
    "\n",
    "以下代码粗略地做了和\tcross_val_score()\t相同的事情，并且输出相同的结果。\n"
   ]
  },
  {
   "cell_type": "code",
   "execution_count": 17,
   "metadata": {},
   "outputs": [
    {
     "name": "stdout",
     "output_type": "stream",
     "text": [
      "0.96295\n",
      "0.96015\n",
      "0.95895\n"
     ]
    }
   ],
   "source": [
    "skfold = StratifiedKFold(n_splits=3,random_state=42)\n",
    "\n",
    "for train_index,test_index in skfold.split(x_train,y_train_5):\n",
    "    sgd_clf_clone = clone(sgd_clf)\n",
    "    \n",
    "    x_train_fold = x_train[train_index]\n",
    "    x_test_fold = x_train[test_index]\n",
    "    \n",
    "    y_train_5_fold = y_train_5[train_index]\n",
    "    y_test_5_fold = y_train_5[test_index]\n",
    "    \n",
    "    sgd_clf_clone.fit(x_train_fold,y_train_5_fold)\n",
    "    y_pred = sgd_clf_clone.predict(x_test_fold)\n",
    "    n_correct = sum(y_pred == y_test_5_fold)\n",
    "    print(n_correct/len(y_pred))"
   ]
  },
  {
   "cell_type": "markdown",
   "metadata": {},
   "source": [
    "使用 cross_val_score() 函数来评估 SGDClassifier 模型"
   ]
  },
  {
   "cell_type": "code",
   "execution_count": 18,
   "metadata": {},
   "outputs": [],
   "source": [
    "from sklearn.model_selection import cross_val_score"
   ]
  },
  {
   "cell_type": "code",
   "execution_count": 19,
   "metadata": {},
   "outputs": [
    {
     "data": {
      "text/plain": [
       "array([0.96295, 0.96015, 0.95895])"
      ]
     },
     "execution_count": 19,
     "metadata": {},
     "output_type": "execute_result"
    }
   ],
   "source": [
    "cross_val_score(sgd_clf,x_train,y_train_5,cv=3,scoring='accuracy')"
   ]
  },
  {
   "cell_type": "markdown",
   "metadata": {},
   "source": [
    "看起来分类效果好像很好，但是先别高兴，现在我们使用一个非常笨的分类器去分类，看看非5这个类上的表现。\n",
    "\n",
    "#### 自定义一个估计器\n",
    "\n",
    "需要继承 __BaseEstimator__ 。\n",
    "\n",
    "因为 __BaseEstimator__ 中有 __get_params__ 和 __set_params__ 这两种方法，在下面的交叉验证中需要用到这两种方法。"
   ]
  },
  {
   "cell_type": "code",
   "execution_count": 20,
   "metadata": {},
   "outputs": [
    {
     "name": "stdout",
     "output_type": "stream",
     "text": [
      "Object `BaseEstimator` not found.\n"
     ]
    }
   ],
   "source": [
    "BaseEstimator??"
   ]
  },
  {
   "cell_type": "code",
   "execution_count": 21,
   "metadata": {},
   "outputs": [],
   "source": [
    "from sklearn.base import BaseEstimator"
   ]
  },
  {
   "cell_type": "code",
   "execution_count": 22,
   "metadata": {},
   "outputs": [],
   "source": [
    "class Never5classifier(BaseEstimator):\n",
    "    def fit(self,x,y=None):\n",
    "        pass\n",
    "    def predict(self,x):\n",
    "        return np.zeros((len(x),1),dtype=bool)"
   ]
  },
  {
   "cell_type": "code",
   "execution_count": 24,
   "metadata": {},
   "outputs": [],
   "source": [
    "# never_5_clf.get_params"
   ]
  },
  {
   "cell_type": "code",
   "execution_count": 26,
   "metadata": {},
   "outputs": [
    {
     "data": {
      "text/plain": [
       "<bound method BaseEstimator.get_params of SGDClassifier(alpha=0.0001, average=False, class_weight=None,\n",
       "              early_stopping=False, epsilon=0.1, eta0=0.0, fit_intercept=True,\n",
       "              l1_ratio=0.15, learning_rate='optimal', loss='hinge',\n",
       "              max_iter=1000, n_iter_no_change=5, n_jobs=None, penalty='l2',\n",
       "              power_t=0.5, random_state=42, shuffle=True, tol=0.001,\n",
       "              validation_fraction=0.1, verbose=0, warm_start=False)>"
      ]
     },
     "execution_count": 26,
     "metadata": {},
     "output_type": "execute_result"
    }
   ],
   "source": [
    "sgd_clf.get_params"
   ]
  },
  {
   "cell_type": "markdown",
   "metadata": {},
   "source": [
    "需要继承 __BaseEstimator__ 才可以在交叉验证中使用 __Never5classifier__ 这个自定义的函数。"
   ]
  },
  {
   "cell_type": "code",
   "execution_count": 27,
   "metadata": {},
   "outputs": [
    {
     "name": "stderr",
     "output_type": "stream",
     "text": [
      "D:\\python\\lib\\site-packages\\sklearn\\model_selection\\_split.py:1978: FutureWarning: The default value of cv will change from 3 to 5 in version 0.22. Specify it explicitly to silence this warning.\n",
      "  warnings.warn(CV_WARNING, FutureWarning)\n"
     ]
    },
    {
     "data": {
      "text/plain": [
       "array([0.90875, 0.9086 , 0.9116 ])"
      ]
     },
     "execution_count": 27,
     "metadata": {},
     "output_type": "execute_result"
    }
   ],
   "source": [
    "never_5_clf = Never5classifier() \n",
    "cross_val_score(never_5_clf,x_train,y_train_5,scoring='accuracy')"
   ]
  },
  {
   "cell_type": "markdown",
   "metadata": {},
   "source": [
    "可以看到即使预测结果全为False，那么准确率也高达90%。\n",
    "\n",
    "这证明了精度不是一个很好的性能度量指标，接下来看 __混淆矩阵__"
   ]
  },
  {
   "cell_type": "markdown",
   "metadata": {},
   "source": [
    "__cross_val_predict()__\t也使用\tK 折交叉验证。它不是返回一个评估分数，而是返回基于每一个测试折做出的一个预测值。这意味着，对于每一个训练集的样例，你得到一个干净的预测（“干净”是说一个模型在训练过程当中没有用到测试集的数据）"
   ]
  },
  {
   "cell_type": "code",
   "execution_count": 28,
   "metadata": {},
   "outputs": [],
   "source": [
    "from sklearn.model_selection import cross_val_predict"
   ]
  },
  {
   "cell_type": "code",
   "execution_count": 29,
   "metadata": {},
   "outputs": [],
   "source": [
    "y_train_pred = cross_val_predict(sgd_clf,x_train,y_train_5,cv=3)"
   ]
  },
  {
   "cell_type": "code",
   "execution_count": 30,
   "metadata": {},
   "outputs": [
    {
     "data": {
      "text/plain": [
       "array([False, False, False, ..., False, False, False])"
      ]
     },
     "execution_count": 30,
     "metadata": {},
     "output_type": "execute_result"
    }
   ],
   "source": [
    "y_train_pred"
   ]
  },
  {
   "cell_type": "markdown",
   "metadata": {},
   "source": [
    "### 混淆矩阵"
   ]
  },
  {
   "cell_type": "code",
   "execution_count": 31,
   "metadata": {},
   "outputs": [],
   "source": [
    "from sklearn.metrics import confusion_matrix"
   ]
  },
  {
   "cell_type": "code",
   "execution_count": 32,
   "metadata": {},
   "outputs": [
    {
     "data": {
      "text/plain": [
       "array([[53436,  1143],\n",
       "       [ 1216,  4205]], dtype=int64)"
      ]
     },
     "execution_count": 32,
     "metadata": {},
     "output_type": "execute_result"
    }
   ],
   "source": [
    "confusion_matrix(y_train_5,y_train_pred)"
   ]
  },
  {
   "cell_type": "markdown",
   "metadata": {},
   "source": [
    "混淆矩阵中的每一行表示一个实际的类,\t而每一列表示一个预测的类。\n",
    "\n",
    "该矩阵的第一行认为“非 5”（反例）中的\t53272\t张被正确归类为\t“非\t5”（他们被称为真反例,true negatives）,\t而其余 1099 被错误归类为 \"是5\"\t（假正例，false\tpositives）。第二行认为“是\t5”\t（正例）中的\t1838 被错误地归类为 “非5”（假反例，false\tnegatives），其余\t3583\t正确分类为\t“是5”类（真正例，true\tpositives）"
   ]
  },
  {
   "cell_type": "markdown",
   "metadata": {},
   "source": [
    "### 准确率和召回率的折衷"
   ]
  },
  {
   "cell_type": "markdown",
   "metadata": {},
   "source": [
    "在 __SGD__ 中来划分一个图片是不是某个数值，依靠的是 __阈值__。\n",
    "\n",
    "__Scikit-Learn__ 不让你直接设置阈值，但是它给你提供了设置决策分数的方法，这个决策分数可 以用来产生预测。\n",
    "\n",
    "它不是调用分类器的\tpredict() 方法，而是调用 __decision_function()__ 方法。\n",
    "\n",
    "__这个方法返回每一个样例的分数值，然后基于这个分数值，使用你想要的任何阈值做出预测。__\n"
   ]
  },
  {
   "cell_type": "code",
   "execution_count": 33,
   "metadata": {},
   "outputs": [
    {
     "data": {
      "text/plain": [
       "array([-250.72815124])"
      ]
     },
     "execution_count": 33,
     "metadata": {},
     "output_type": "execute_result"
    }
   ],
   "source": [
    "# 通过 decision_function 来计算some_digit这个图片的决策分数。\n",
    "y_score = sgd_clf.decision_function([some_digit])\n",
    "y_score"
   ]
  },
  {
   "cell_type": "markdown",
   "metadata": {},
   "source": [
    "__根据决策分数和阈值进行对比，如果决策分数大于阈值，则视为正类，反之视为负类。__"
   ]
  },
  {
   "cell_type": "code",
   "execution_count": 34,
   "metadata": {},
   "outputs": [
    {
     "data": {
      "text/plain": [
       "array([False])"
      ]
     },
     "execution_count": 34,
     "metadata": {},
     "output_type": "execute_result"
    }
   ],
   "source": [
    "threshold = 0\n",
    "y_some_digit_pre = (y_score >threshold)\n",
    "y_some_digit_pre"
   ]
  },
  {
   "cell_type": "code",
   "execution_count": 35,
   "metadata": {},
   "outputs": [
    {
     "data": {
      "text/plain": [
       "array([False])"
      ]
     },
     "execution_count": 35,
     "metadata": {},
     "output_type": "execute_result"
    }
   ],
   "source": [
    "threshold = 4000\n",
    "y_some_digit_pre = (y_score >threshold)\n",
    "y_some_digit_pre"
   ]
  },
  {
   "cell_type": "markdown",
   "metadata": {},
   "source": [
    "__这证明了提高阈值会降调召回率__"
   ]
  },
  {
   "cell_type": "markdown",
   "metadata": {},
   "source": [
    "__那么，你应该如何使用哪个阈值呢？__\n",
    "\n",
    "首先，你需要再次使用\t__cross_val_predict()__\t得到每一个样例的分数值，但是这一次指定返回一个 __决策分数__ ，而不是预测值。\n",
    "\n",
    "__decision_function__ 方法返回每个实例的分数，然后就可以根据这些分数，使用任意阈值进行预测。"
   ]
  },
  {
   "cell_type": "code",
   "execution_count": 36,
   "metadata": {},
   "outputs": [
    {
     "data": {
      "text/plain": [
       "array([ -9928.63021355,  -3695.48763914, -28946.54304815, ...,\n",
       "        -8922.13609188, -15296.98970408,  -2215.7998451 ])"
      ]
     },
     "execution_count": 36,
     "metadata": {},
     "output_type": "execute_result"
    }
   ],
   "source": [
    "y_score = cross_val_predict(sgd_clf,x_train,y_train_5,cv=3,method='decision_function')\n",
    "y_score"
   ]
  },
  {
   "cell_type": "markdown",
   "metadata": {},
   "source": [
    "现在有了这些分数值。对于任何可能的阈值，使用 __precision_recall_curve()__ (计算不同概率阈值的精确召回对) 。\n",
    "\n",
    "可以用于计算 __准确率__ 和 __召回率__"
   ]
  },
  {
   "cell_type": "code",
   "execution_count": 37,
   "metadata": {},
   "outputs": [],
   "source": [
    "from sklearn.metrics import precision_recall_curve"
   ]
  },
  {
   "cell_type": "markdown",
   "metadata": {},
   "source": [
    "__注意：__ 得到的 __threshold__ 的shape和 __precision__ 和 __recall__ 的shape都不一样，所以在绘制图像的使用要加上 __[0:-1]__,会截取到最后一个数(但是不包含)。\n",
    "\n",
    "__因为绘制时x和y的shape要相同。__"
   ]
  },
  {
   "cell_type": "code",
   "execution_count": 38,
   "metadata": {},
   "outputs": [],
   "source": [
    "precision,recall,threshold = precision_recall_curve(y_train_5,y_score)"
   ]
  },
  {
   "cell_type": "code",
   "execution_count": 39,
   "metadata": {},
   "outputs": [
    {
     "name": "stdout",
     "output_type": "stream",
     "text": [
      "precision[:-1].shape:  (59986,)\n",
      "precision.shape:  (59987,)\n",
      "threshold.shape:  (59986,)\n"
     ]
    }
   ],
   "source": [
    "print('precision[:-1].shape: ',precision[:-1].shape)\n",
    "print('precision.shape: ',precision.shape)\n",
    "print('threshold.shape: ',threshold.shape)"
   ]
  },
  {
   "cell_type": "markdown",
   "metadata": {},
   "source": [
    "#### 绘制精确率和召回率的曲线\n",
    "    \n",
    "__准确率__ 不一定随着 __阈值__ 的增加而上升，但是 __召回率__ 一定会随着 __阈值__ 的增加而上升。"
   ]
  },
  {
   "cell_type": "code",
   "execution_count": 40,
   "metadata": {},
   "outputs": [
    {
     "data": {
      "image/png": "[encoded data removed]",
      "text/plain": [
       "<Figure size 432x288 with 1 Axes>"
      ]
     },
     "metadata": {
      "needs_background": "light"
     },
     "output_type": "display_data"
    }
   ],
   "source": [
    "def precision_recall_vs_threshold(precision,recall,threshold):\n",
    "    plt.plot(threshold,precision[:-1],'b--',label='precision')\n",
    "    plt.plot(threshold,recall[:-1],'g--',label='recall')\n",
    "    plt.legend(loc='upper left')\n",
    "    plt.xlabel('Threshold')\n",
    "    plt.ylim(0,1)\n",
    "\n",
    "precision_recall_vs_threshold(precision,recall,threshold)\n",
    "plt.show()"
   ]
  },
  {
   "cell_type": "code",
   "execution_count": 41,
   "metadata": {},
   "outputs": [],
   "source": [
    "from sklearn.metrics import recall_score,precision_score"
   ]
  },
  {
   "cell_type": "markdown",
   "metadata": {},
   "source": [
    "检验在 __准确度为90%时__，阈值的大小。"
   ]
  },
  {
   "cell_type": "code",
   "execution_count": 42,
   "metadata": {},
   "outputs": [
    {
     "data": {
      "text/plain": [
       "0.9375"
      ]
     },
     "metadata": {},
     "output_type": "display_data"
    },
    {
     "data": {
      "text/plain": [
       "0.005534034311012728"
      ]
     },
     "execution_count": 42,
     "metadata": {},
     "output_type": "execute_result"
    }
   ],
   "source": [
    "y_train_pred_90 = (y_score > 20000)\n",
    "display(precision_score(y_train_5,y_train_pred_90))\n",
    "recall_score(y_train_5,y_train_pred_90)"
   ]
  },
  {
   "cell_type": "markdown",
   "metadata": {},
   "source": [
    "#### PR曲线"
   ]
  },
  {
   "cell_type": "code",
   "execution_count": 43,
   "metadata": {},
   "outputs": [
    {
     "data": {
      "image/png": "[encoded data removed]",
      "text/plain": [
       "<Figure size 432x288 with 1 Axes>"
      ]
     },
     "metadata": {
      "needs_background": "light"
     },
     "output_type": "display_data"
    }
   ],
   "source": [
    "def plot_pr(precision,recall):\n",
    "    plt.plot(recall,precision,'b')\n",
    "    plt.axis([0,1,0,1])\n",
    "    plt.xlabel('precision')\n",
    "    plt.ylabel('recall')    \n",
    "\n",
    "plot_pr(precision,recall)"
   ]
  },
  {
   "cell_type": "markdown",
   "metadata": {},
   "source": [
    "#### ROC曲线\n",
    "\n",
    "为了画出 __ROC 曲线__ ，你首先需要计算各种不同阈值下的 __TPR__、 __FPR__ 使用 __roc_curve()__ 函数 。"
   ]
  },
  {
   "cell_type": "code",
   "execution_count": 44,
   "metadata": {},
   "outputs": [],
   "source": [
    "from sklearn.metrics import roc_curve"
   ]
  },
  {
   "cell_type": "code",
   "execution_count": 45,
   "metadata": {},
   "outputs": [],
   "source": [
    "fpr,tpr,threshold = roc_curve(y_train_5,y_score)"
   ]
  },
  {
   "cell_type": "markdown",
   "metadata": {},
   "source": [
    "#### 这里同样存在折衷的问题：\n",
    "\n",
    "__召回率（TPR）越高__ ，分类器就会 __产生越多的假正例（FPR）__ 。 \n",
    "\n",
    "图中的点线是一个完全随机的分类器生成的 ROC 曲线； __一个好的分类器的 ROC 曲线应该尽可能远离这条线（即向左上角方向靠拢）__"
   ]
  },
  {
   "cell_type": "code",
   "execution_count": 46,
   "metadata": {},
   "outputs": [
    {
     "data": {
      "image/png": "[encoded data removed]",
      "text/plain": [
       "<Figure size 432x288 with 1 Axes>"
      ]
     },
     "metadata": {
      "needs_background": "light"
     },
     "output_type": "display_data"
    }
   ],
   "source": [
    "def plt_roc_curve(fpr,tpr,label=None):\n",
    "    plt.plot(fpr,tpr,linewidth=2,label=label)\n",
    "    # 绘制副对角线\n",
    "    plt.plot([0,1],[0,1],'k--')\n",
    "    # 设置图像坐标\n",
    "    plt.axis([0,1,0,1])\n",
    "    plt.xlabel('False Positive Rate')\n",
    "    plt.ylabel('True Positive Rate')            \n",
    "plt_roc_curve(fpr,tpr)"
   ]
  },
  {
   "cell_type": "markdown",
   "metadata": {},
   "source": [
    "#### 一个比较分类器之间优劣的方法是：\n",
    "\n",
    "测量ROC曲线下的面积（AUC）。 __一个完美的分类器的 ROC\tAUC\t等于 1，而一个纯随机分类器的\tROC\tAUC\t等于 0.5。__\n",
    "\n",
    "Scikit-Learn 提供了一个函数来计算\tROC\tAUC： __roc_auc_score__。 即计算AUC的面积。"
   ]
  },
  {
   "cell_type": "code",
   "execution_count": 47,
   "metadata": {},
   "outputs": [],
   "source": [
    "from sklearn.metrics import roc_auc_score"
   ]
  },
  {
   "cell_type": "code",
   "execution_count": 48,
   "metadata": {},
   "outputs": [
    {
     "data": {
      "text/plain": [
       "0.9638788138653887"
      ]
     },
     "execution_count": 48,
     "metadata": {},
     "output_type": "execute_result"
    }
   ],
   "source": [
    "roc_auc_score(y_train_5,y_score)"
   ]
  },
  {
   "cell_type": "markdown",
   "metadata": {},
   "source": [
    "#### 训练一个新的分类器随机森林，用于和SGD比较ROC AUC曲线\n",
    "\n",
    "但是随机森林分类中不支持使用 __dicision_function__ 所以这里将使用另外一种方法 __predict_proba()__ 方法。\n",
    "\n",
    "__predict_proba()__ 方法将返回一个数组，数组中的 __每一行表示一个样例__ ， __每一列代表一个类__ 。\n",
    "\n",
    "__数组当中的值的意思是：__ 给一个样例属于给定样例的概率，比如这幅图70%的概率为5。"
   ]
  },
  {
   "cell_type": "code",
   "execution_count": 49,
   "metadata": {},
   "outputs": [],
   "source": [
    "from sklearn.ensemble import RandomForestClassifier"
   ]
  },
  {
   "cell_type": "code",
   "execution_count": 56,
   "metadata": {},
   "outputs": [
    {
     "name": "stderr",
     "output_type": "stream",
     "text": [
      "D:\\python\\lib\\site-packages\\sklearn\\ensemble\\forest.py:245: FutureWarning: The default value of n_estimators will change from 10 in version 0.20 to 100 in 0.22.\n",
      "  \"10 in version 0.20 to 100 in 0.22.\", FutureWarning)\n",
      "D:\\python\\lib\\site-packages\\sklearn\\ensemble\\forest.py:245: FutureWarning: The default value of n_estimators will change from 10 in version 0.20 to 100 in 0.22.\n",
      "  \"10 in version 0.20 to 100 in 0.22.\", FutureWarning)\n",
      "D:\\python\\lib\\site-packages\\sklearn\\ensemble\\forest.py:245: FutureWarning: The default value of n_estimators will change from 10 in version 0.20 to 100 in 0.22.\n",
      "  \"10 in version 0.20 to 100 in 0.22.\", FutureWarning)\n"
     ]
    }
   ],
   "source": [
    "forest_clf = RandomForestClassifier(random_state=42)\n",
    "y_probas_forest = cross_val_predict(forest_clf,x_train,y_train_5,cv=3,method='predict_proba')"
   ]
  },
  {
   "cell_type": "markdown",
   "metadata": {},
   "source": [
    "__对于二分类任务，第一列表示0(负类)的概率，第二列表示1(正类)的概率。__\n",
    "\n",
    "predict_proba返回的是一个n行k列的数组，第i行第j列上的数值是模型预测第i个预测样本的标签为j的概率。所以每一行的和应该等于1."
   ]
  },
  {
   "cell_type": "code",
   "execution_count": 51,
   "metadata": {},
   "outputs": [
    {
     "data": {
      "text/plain": [
       "array([[1. , 0. ],\n",
       "       [1. , 0. ],\n",
       "       [0.8, 0.2],\n",
       "       ...,\n",
       "       [1. , 0. ],\n",
       "       [1. , 0. ],\n",
       "       [0.9, 0.1]])"
      ]
     },
     "execution_count": 51,
     "metadata": {},
     "output_type": "execute_result"
    }
   ],
   "source": [
    "y_probas_forest"
   ]
  },
  {
   "cell_type": "markdown",
   "metadata": {},
   "source": [
    "因为绘制ROC曲线需要样例的分数值，而不是概率， __一个简单的方法就是使用正例的概率来作为分数。__"
   ]
  },
  {
   "cell_type": "code",
   "execution_count": 54,
   "metadata": {},
   "outputs": [],
   "source": [
    "y_scores_forest = y_probas_forest[:,1] # 正类的概率\n",
    "forest_fpr,forest_tpr,forest_threshold = roc_curve(y_train_5,y_scores_forest)"
   ]
  },
  {
   "cell_type": "markdown",
   "metadata": {},
   "source": [
    "#### 绘制SGD和Random Forest的 ROC 曲线"
   ]
  },
  {
   "cell_type": "code",
   "execution_count": 53,
   "metadata": {},
   "outputs": [
    {
     "data": {
      "image/png": "[encoded data removed]",
      "text/plain": [
       "<Figure size 432x288 with 1 Axes>"
      ]
     },
     "metadata": {
      "needs_background": "light"
     },
     "output_type": "display_data"
    }
   ],
   "source": [
    "plt.plot(fpr,tpr,'b--',label='SGD')\n",
    "plt_roc_curve(forest_fpr,forest_tpr,label='Random Forest')\n",
    "plt.legend('bottom right')\n",
    "plt.show()"
   ]
  },
  {
   "cell_type": "markdown",
   "metadata": {},
   "source": [
    "#### 计算 Random Forest 的 ROC AUC 面积"
   ]
  },
  {
   "cell_type": "code",
   "execution_count": 159,
   "metadata": {},
   "outputs": [
    {
     "data": {
      "text/plain": [
       "0.9922934473328788"
      ]
     },
     "execution_count": 159,
     "metadata": {},
     "output_type": "execute_result"
    }
   ],
   "source": [
    "roc_auc_score(y_train_5,y_scores_forest)"
   ]
  },
  {
   "cell_type": "markdown",
   "metadata": {},
   "source": [
    "## 多分类\n",
    "\n",
    "多分类中分 __(OvA) “一对所有”__  和 __(OvO) “一对一” __ 模式。"
   ]
  },
  {
   "cell_type": "markdown",
   "metadata": {},
   "source": [
    "__创建一个可以将图片分成\t10\t类（从\t0 到\t9）的系统的一个方法是：__ 训练10个二分类 器，每一个对应一个数字（探测器 0，探测器 1，探测器 2，以此类推）。然后当你想对某张图片进行分类的时候，让每一个分类器对这个图片进行分类，选出决策分数最高的那个分类器。这叫做 __“一对所有”（OvA）策略__ （也被叫做“一对其他”）。 \n",
    "\n",
    "__另一个策略是：__ 对每一对数字都训练一个二分类器：一个分类器用来处理数字\t0\t和数字\t1，一 个用来处理数字\t0\t和数字\t2，一个用来处理数字\t1\t和\t2，以此类推。这叫做 __“一对一”（OvO） 策略__ 。\n",
    "\n",
    "__Scikit-Learn__\t可以探测出你想使用一个二分类器去完成多分类的任务，它会 __自动地执行 OvA__ (除了 SVM 分类器，它使用\tOvO)"
   ]
  },
  {
   "cell_type": "code",
   "execution_count": 161,
   "metadata": {},
   "outputs": [],
   "source": [
    "sgd_clf = SGDClassifier()\n",
    "sgd_clf.fit(x_train,y_train)"
   ]
  },
  {
   "cell_type": "code",
   "execution_count": 163,
   "metadata": {},
   "outputs": [
    {
     "data": {
      "text/plain": [
       "array([5.])"
      ]
     },
     "execution_count": 163,
     "metadata": {},
     "output_type": "execute_result"
    }
   ],
   "source": [
    "sgd_clf.predict([X[36000]])"
   ]
  },
  {
   "cell_type": "markdown",
   "metadata": {},
   "source": [
    "\n",
    "在幕后， __Scikit-Learn__\t实际上训练了 10 个二分类器，每个分类器都产到一张图片的 __决策数值__ ，选择数值 __最高__ 的那个类。\n",
    "\n",
    "为了证明这是真实的，你可以调用\t__decision_function()__\t方法。不是返回每个样例的一个数值，而是返回 10 个数值，一个数值对应于一个类。\n"
   ]
  },
  {
   "cell_type": "code",
   "execution_count": 165,
   "metadata": {},
   "outputs": [
    {
     "data": {
      "text/plain": [
       "array([[-16927.36851239, -23849.28787104,  -3883.98567825,\n",
       "        -12302.73638661,  -6560.08565065,   -843.60696665,\n",
       "        -10976.96561307, -15262.12474773,   -516.55618285,\n",
       "          3239.66234082]])"
      ]
     },
     "execution_count": 165,
     "metadata": {},
     "output_type": "execute_result"
    }
   ],
   "source": [
    "some_digit_scores = sgd_clf.decision_function([some_digit])\n",
    "some_digit_scores"
   ]
  },
  {
   "cell_type": "code",
   "execution_count": 168,
   "metadata": {},
   "outputs": [
    {
     "data": {
      "text/plain": [
       "9"
      ]
     },
     "execution_count": 168,
     "metadata": {},
     "output_type": "execute_result"
    }
   ],
   "source": [
    "np.argmax(some_digit_scores)"
   ]
  },
  {
   "cell_type": "markdown",
   "metadata": {},
   "source": [
    "__一个分类器被训练好了之后，它会保存目标类别列表到它的属性 classes\\_ 中去，按照值排序。__\n",
    "\n",
    "在本例子当中，在 classes_ 数组当中的每个类的索引方便地匹配了类本身，比 如，索引为\t9\t的类恰好是类别\t9\t本身。 __但通常不会这么幸运__。\n"
   ]
  },
  {
   "cell_type": "code",
   "execution_count": 169,
   "metadata": {},
   "outputs": [
    {
     "data": {
      "text/plain": [
       "array([0., 1., 2., 3., 4., 5., 6., 7., 8., 9.])"
      ]
     },
     "execution_count": 169,
     "metadata": {},
     "output_type": "execute_result"
    }
   ],
   "source": [
    "sgd_clf.classes_"
   ]
  },
  {
   "cell_type": "code",
   "execution_count": 170,
   "metadata": {},
   "outputs": [
    {
     "data": {
      "text/plain": [
       "9.0"
      ]
     },
     "execution_count": 170,
     "metadata": {},
     "output_type": "execute_result"
    }
   ],
   "source": [
    "sgd_clf.classes_[9]"
   ]
  },
  {
   "cell_type": "markdown",
   "metadata": {},
   "source": [
    "__如果你想强制\tScikit-Learn\t使用\tOvO\t策略或者\tOvA\t策略__ ，你可以使用\t__OneVsOneClassifier__\t类 或者\t__OneVsRestClassifier__\t类。\n",
    "\n",
    "创建一个样例，传递一个二分类器给它的构造函数。"
   ]
  },
  {
   "cell_type": "code",
   "execution_count": 172,
   "metadata": {},
   "outputs": [],
   "source": [
    "from sklearn.multiclass import OneVsOneClassifier\n",
    "ovo_clf = OneVsOneClassifier(SGDClassifier(random_state=42))\n",
    "ovo_clf.fit(x_train, y_train)\n",
    "ovo_clf.predict([some_digit])\n",
    "\n",
    "len(ovo_clf.estimators_) # 查看有生成了多少个估计器。"
   ]
  },
  {
   "cell_type": "markdown",
   "metadata": {},
   "source": [
    "### 误差分析\n",
    "\n",
    "假设你已经找到一个不错的模型，你试图找到方法去改善它。一个方式是 __分析模型产生的误差的类型__ 。\n",
    "\n",
    "首先你可以检查混淆矩阵。第一步仍然是使用 __cross_val_predict() 函数__ 生成预测值。然后调用 __confusion_matrix() 函数__。"
   ]
  },
  {
   "cell_type": "code",
   "execution_count": 173,
   "metadata": {},
   "outputs": [],
   "source": [
    "y_train_pre = cross_val_predict(sgd_clf,x_train,y_train,cv=3)\n",
    "conf_mx = confusion_matrix(y_train,y_train_pre)"
   ]
  },
  {
   "cell_type": "code",
   "execution_count": 184,
   "metadata": {},
   "outputs": [
    {
     "data": {
      "text/plain": [
       "array([[5688,    1,   16,   20,   20,   36,   33,    5,   99,    5],\n",
       "       [   2, 6470,   39,   21,   22,   40,   12,    9,  117,   10],\n",
       "       [  77,   80, 5029,  122,  106,   58,  115,  110,  243,   18],\n",
       "       [  45,   32,  227, 4903,   26,  364,   26,  103,  319,   86],\n",
       "       [  19,   35,   23,   10, 5406,   29,   49,   35,   59,  177],\n",
       "       [  59,   26,   29,  279,  125, 4513,  119,   19,  200,   52],\n",
       "       [  57,   20,   26,    3,   43,  113, 5562,    8,   85,    1],\n",
       "       [  35,   24,   53,   22,  115,   31,    3, 5784,   30,  168],\n",
       "       [  39,  168,  102,  146,   73,  466,   60,   38, 4675,   84],\n",
       "       [  48,   48,   19,  130,  583,  171,    3,  455,  100, 4392]],\n",
       "      dtype=int64)"
      ]
     },
     "execution_count": 184,
     "metadata": {},
     "output_type": "execute_result"
    }
   ],
   "source": [
    "conf_mx"
   ]
  },
  {
   "cell_type": "markdown",
   "metadata": {},
   "source": [
    "得到混淆矩阵之后我们可以通过 __matplotlib__ 中的 __matshow()函数__ ，__将混淆矩阵以图像的方式呈现__。"
   ]
  },
  {
   "cell_type": "code",
   "execution_count": 176,
   "metadata": {},
   "outputs": [
    {
     "data": {
      "text/plain": [
       "<matplotlib.image.AxesImage at 0x1c59011e320>"
      ]
     },
     "execution_count": 176,
     "metadata": {},
     "output_type": "execute_result"
    },
    {
     "data": {
      "image/png": "[encoded data removed]",
      "text/plain": [
       "<Figure size 288x288 with 1 Axes>"
      ]
     },
     "metadata": {
      "needs_background": "light"
     },
     "output_type": "display_data"
    }
   ],
   "source": [
    "plt.matshow(conf_mx,cmap=plt.cm.gray)"
   ]
  },
  {
   "cell_type": "markdown",
   "metadata": {},
   "source": [
    "这个混淆矩阵看起来 __相当好__ ， __因为大多数的图片在主对角线上__ 。 __在主对角线上意味着被分类正确__。\n",
    "\n",
    "数字 5 对应的格子看起来比其他数字要 __暗淡__ 许多。这可能是数据集当中 __数字 5 的图片比较少__ ，又 __或者是分类器对于数字 5 的表现不如其他数字那么好__ 。\n",
    "\n",
    "你可以验证两种情况。"
   ]
  },
  {
   "cell_type": "markdown",
   "metadata": {},
   "source": [
    "### 通过混淆矩阵 - 绘制误差数据的图像\n",
    "\n",
    "让我们现在开始关注 __误差数据的图像__ 呈现。\n",
    "\n",
    "首先你需要将混淆矩阵中的 __每一个值__ 除以 __相应类别的图片总数__ 。这样子你可以 __比较错误率__ ，而不是绝对错误数 (比较绝对错误数对大的类别不公平)。"
   ]
  },
  {
   "cell_type": "code",
   "execution_count": 191,
   "metadata": {},
   "outputs": [],
   "source": [
    "row_sums = conf_mx.sum(axis=1,keepdims=True) \n",
    "norm_conf_mx_ = conf_mx/row_sums"
   ]
  },
  {
   "cell_type": "markdown",
   "metadata": {},
   "source": [
    "__现在让我们用\t0\t来填充对角线。这样子就只保留了被错误分类的数据。__ 让我们画出这个结果。\n",
    "\n",
    "__因为原来的对角线是TP。__\n",
    "\n",
    "fill_diagonal 用于 __填充任意维度的给定数组的主对角线__。"
   ]
  },
  {
   "cell_type": "code",
   "execution_count": 193,
   "metadata": {},
   "outputs": [
    {
     "data": {
      "text/plain": [
       "<matplotlib.image.AxesImage at 0x1c5900e32e8>"
      ]
     },
     "execution_count": 193,
     "metadata": {},
     "output_type": "execute_result"
    },
    {
     "data": {
      "image/png": "[encoded data removed]",
      "text/plain": [
       "<Figure size 288x288 with 1 Axes>"
      ]
     },
     "metadata": {
      "needs_background": "light"
     },
     "output_type": "display_data"
    }
   ],
   "source": [
    "np.fill_diagonal(norm_conf_mx_,0) # 填充矩阵的主对角线。\n",
    "plt.matshow(norm_conf_mx_,cmap=plt.cm.gray)"
   ]
  },
  {
   "cell_type": "markdown",
   "metadata": {},
   "source": [
    "现在你可以清楚看出分类器制造出来的各类误差。\n",
    "\n",
    "__记住：__ \n",
    "\n",
    "* __行代表实际类别__ ， __列代表预测的类别__ 。\n",
    "\n",
    "* __亮__ 表示 __误分__ ， __黑__ 表示 __正确分类__。\n",
    "\n",
    "    第 8、9 列相当 __亮__ ，这告诉你许多图片被 __误分__ 成数字 8 或者数字 9。相似的，第 8、9 行 也相当 __亮__ ，告诉你数字 8、数字 9 经常被 __误以为__ 是其他数字。\n",
    "\n",
    "    相反，一些行相当 __黑__ ，比如第一行：这意味着大部分的数字 1 被 __正确分类__ （一些被误分类为数字 8 ）。\n",
    "\n",
    "留意到误差图不是严格对称的。举例子，比起将数字 8 误分类为数字 5 的数量，有更多的数字 8 被误分类为数字 5。\n",
    "\n"
   ]
  },
  {
   "cell_type": "markdown",
   "metadata": {},
   "source": [
    "__分析混淆矩阵通常可以给你提供深刻的见解去改善你的分类器。__\n",
    "\n",
    "回顾这幅图，看样子你应该 努力改善分类器在数字\t8\t和数字\t9\t上的表现，和纠正\t3/5\t的混淆。举例子，你可以尝试去收 集更多的数据，或者你可以构造新的、有助于分类器的特征。\n",
    "\n",
    "* 举例子，写一个算法去数闭合的环（比如，数字\t8\t有两个环，数字\t6\t有一个， 5 没有）"
   ]
  },
  {
   "cell_type": "markdown",
   "metadata": {},
   "source": [
    "__错误产生的原因 - 可能和算法复杂度有关 ：__\n",
    "\n",
    "有时候我们会发现，大部分被误分类的数字，在我们看来都是显而易见的错误。很难明白为什么分类器会分错。 __原因是我们使用的简单的 SGDClassifier ，这是一个线性模型。__\n",
    "\n",
    "__它所做的全部工作就是分配一个类权重给每一个像素，然后当它看到一张新的图片，它就将加权的像素强度相加，每个类得到一个新的值。__ 所以，因为 3 和 5 只有一小部分的像素有差异，这个模型很容易混淆它们。\n"
   ]
  },
  {
   "cell_type": "markdown",
   "metadata": {},
   "source": [
    "### 多标签分类\n",
    "\n",
    "到目前为止，所有的样例都总是被分配到仅一个类。 __有些情况下，你也许想让你的分类器给 一个样例输出多个类别。__ \n",
    "\n",
    "比如说，思考一个人脸识别器。如果对于同一张图片，它识别出几 个人，它应该做什么？当然它应该给每一个它识别出的人贴上一个标签。比方说，这个分类 器被训练成识别三个人脸，Alice，Bob，Charlie；然后当它被输入一张含有\tAlice\t和\tBob\t的 图片，它应该输出\t[1,\t0,\t1]\t（意思是：Alice\t是，Bob\t不是，Charlie\t是）。 __这种输出多个二值标签的分类系统被叫做多标签分类系统。__\n"
   ]
  },
  {
   "cell_type": "code",
   "execution_count": 197,
   "metadata": {},
   "outputs": [],
   "source": [
    "from sklearn.neighbors import KNeighborsClassifier"
   ]
  },
  {
   "cell_type": "code",
   "execution_count": 199,
   "metadata": {},
   "outputs": [
    {
     "data": {
      "text/plain": [
       "KNeighborsClassifier(algorithm='auto', leaf_size=30, metric='minkowski',\n",
       "                     metric_params=None, n_jobs=None, n_neighbors=5, p=2,\n",
       "                     weights='uniform')"
      ]
     },
     "execution_count": 199,
     "metadata": {},
     "output_type": "execute_result"
    }
   ],
   "source": [
    "from sklearn.neighbors import KNeighborsClassifier\n",
    "y_train_large = (y_train >= 7)\n",
    "y_train_odd = (y_train % 2 == 1)\n",
    "y_multilabel = np.c_[y_train_large, y_train_odd]\n",
    "knn_clf = KNeighborsClassifier()\n",
    "knn_clf.fit(x_train, y_multilabel)"
   ]
  },
  {
   "cell_type": "markdown",
   "metadata": {},
   "source": [
    "这段代码创造了一个 y_multilabel 数组，里面包含两个目标标签。第一个标签指出这个数字是否为大数字（7，8 或者 9），第二个标签指出这个数字是否是奇数。\n",
    "\n",
    "接下来几行代码会创建一个 KNeighborsClassifier 样例（它支持多标签分类，但不是所有分类器都可以），然后我们使用多目标数组来训练它。现在你可以生成一个预测，然后它 __输出两个标签。__"
   ]
  },
  {
   "cell_type": "code",
   "execution_count": 200,
   "metadata": {},
   "outputs": [
    {
     "data": {
      "text/plain": [
       "array([[False,  True]])"
      ]
     },
     "execution_count": 200,
     "metadata": {},
     "output_type": "execute_result"
    }
   ],
   "source": [
    "knn_clf.predict([some_digit])"
   ]
  }
 ],
 "metadata": {
  "kernelspec": {
   "display_name": "Python 3",
   "language": "python",
   "name": "python3"
  },
  "language_info": {
   "codemirror_mode": {
    "name": "ipython",
    "version": 3
   },
   "file_extension": ".py",
   "mimetype": "text/x-python",
   "name": "python",
   "nbconvert_exporter": "python",
   "pygments_lexer": "ipython3",
   "version": "3.6.4"
  }
 },
 "nbformat": 4,
 "nbformat_minor": 2
}
