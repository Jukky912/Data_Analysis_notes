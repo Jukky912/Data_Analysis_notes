{
 "cells": [
  {
   "cell_type": "code",
   "execution_count": 3,
   "metadata": {},
   "outputs": [],
   "source": [
    "import pandas as pd\n",
    "import numpy as np\n",
    "import matplotlib.pyplot as plt\n",
    "%matplotlib inline"
   ]
  },
  {
   "cell_type": "markdown",
   "metadata": {},
   "source": [
    "### 多项式回归"
   ]
  },
  {
   "cell_type": "markdown",
   "metadata": {},
   "source": [
    "如果你的数据实际上比简单的直线更复杂呢？ __[多项式回归和模型泛化](https://www.jianshu.com/p/8e5da35d6382 )__  <<< 这里有个绘图链接\n",
    "\n",
    "令人惊讶的是，你依然可以使用 __线性模型__ 来拟合 __非线性数据__ 。\t\n",
    "\n",
    "一个简单的方法是 __对每个特征进行加权后作为新的特征__ ，然后 __训练一个线性模型__ 在这个扩展的特征集。\n",
    "\n",
    "这种方法称为 __多项式回归__。"
   ]
  },
  {
   "cell_type": "code",
   "execution_count": 259,
   "metadata": {},
   "outputs": [],
   "source": [
    "x = np.random.uniform(-3, 3, size=100)\n",
    "X = x.reshape(-1, 1)\n",
    "noise = np.random.normal(0, 1, size=100)\n",
    "noise = noise.reshape(-1, 1)\n",
    "y = 0.5 * X**2 + X + 2 + noise"
   ]
  },
  {
   "cell_type": "code",
   "execution_count": 260,
   "metadata": {},
   "outputs": [
    {
     "data": {
      "text/plain": [
       "<matplotlib.collections.PathCollection at 0x2d6c7336160>"
      ]
     },
     "execution_count": 260,
     "metadata": {},
     "output_type": "execute_result"
    },
    {
     "data": {
      "image/png": "[encoded data removed]",
      "text/plain": [
       "<Figure size 432x288 with 1 Axes>"
      ]
     },
     "metadata": {
      "needs_background": "light"
     },
     "output_type": "display_data"
    }
   ],
   "source": [
    "plt.scatter(x,y)"
   ]
  },
  {
   "cell_type": "code",
   "execution_count": 261,
   "metadata": {},
   "outputs": [],
   "source": [
    "from sklearn.linear_model import LinearRegression"
   ]
  },
  {
   "cell_type": "code",
   "execution_count": 264,
   "metadata": {},
   "outputs": [
    {
     "data": {
      "text/plain": [
       "LinearRegression(copy_X=True, fit_intercept=True, n_jobs=None, normalize=False)"
      ]
     },
     "execution_count": 264,
     "metadata": {},
     "output_type": "execute_result"
    }
   ],
   "source": [
    "lin_reg = LinearRegression()\n",
    "lin_reg.fit(X,y)"
   ]
  },
  {
   "cell_type": "code",
   "execution_count": 265,
   "metadata": {},
   "outputs": [
    {
     "data": {
      "text/plain": [
       "array([3.53698747])"
      ]
     },
     "execution_count": 265,
     "metadata": {},
     "output_type": "execute_result"
    }
   ],
   "source": [
    "lin_reg.intercept_ # 输出截距"
   ]
  },
  {
   "cell_type": "code",
   "execution_count": 266,
   "metadata": {},
   "outputs": [
    {
     "data": {
      "text/plain": [
       "array([[1.02374843]])"
      ]
     },
     "execution_count": 266,
     "metadata": {},
     "output_type": "execute_result"
    }
   ],
   "source": [
    "lin_reg.coef_      # 输出θ "
   ]
  },
  {
   "cell_type": "markdown",
   "metadata": {},
   "source": [
    "#### 直接使用直线拟合数据"
   ]
  },
  {
   "cell_type": "code",
   "execution_count": 268,
   "metadata": {},
   "outputs": [
    {
     "data": {
      "text/plain": [
       "[<matplotlib.lines.Line2D at 0x2d6c72e9d68>]"
      ]
     },
     "execution_count": 268,
     "metadata": {},
     "output_type": "execute_result"
    },
    {
     "data": {
      "image/png": "[encoded data removed]",
      "text/plain": [
       "<Figure size 432x288 with 1 Axes>"
      ]
     },
     "metadata": {
      "needs_background": "light"
     },
     "output_type": "display_data"
    }
   ],
   "source": [
    "plt.scatter(X,y)\n",
    "plt.plot(X,lin_reg.predict(X),\"r-\") "
   ]
  },
  {
   "cell_type": "markdown",
   "metadata": {},
   "source": [
    "很清楚的看出， __直线不能恰当的拟合这些数据__ 。\n",
    "\n",
    "于是，我们使用\t__Scikit-Learning__ 的 __PolynomialFeatures__ 类进行训练数据集的转换，让训练集中 __每个特征的平方__ （2 次多项式） 作为 __新特征__（在这种情况下，仅存在一个特征）\n"
   ]
  },
  {
   "cell_type": "markdown",
   "metadata": {},
   "source": [
    "### PolynomialFeatures\n",
    "\n",
    "__PolynomialFeatures__ 这个类有 3 个参数：\n",
    "\n",
    "* degree：控制多项式的次数；\n",
    "\n",
    "* interaction_only：默认为 False，如果指定为 True，那么就不会有特征自己和自己结合的项，组合的特征中没有 a2 和 b2；\n",
    "\n",
    "* include_bias：默认为 True 。如果为 True 的话，那么结果中就会有 0 次幂项，即全为 1 这一列。\n",
    "\n",
    "__参数详解：__\n",
    "\n",
    "* interaction_only 的意思是，得到的组合特征只有相乘的项，没有平方项。\n",
    "\n",
    "* interaction_only 设置成 True 的意思是： 例如 [a,b] 的多项式交互式输出 [1,a,b,ab]。\n",
    "\n",
    "* include_bias 设置 0 次幂那一列是否要。"
   ]
  },
  {
   "cell_type": "code",
   "execution_count": 245,
   "metadata": {},
   "outputs": [],
   "source": [
    "from sklearn.preprocessing import PolynomialFeatures"
   ]
  },
  {
   "cell_type": "markdown",
   "metadata": {},
   "source": [
    "__使用sklearn中的PolynomialFeatures进行多项式回归__"
   ]
  },
  {
   "cell_type": "code",
   "execution_count": 279,
   "metadata": {},
   "outputs": [],
   "source": [
    "poly_features = PolynomialFeatures(degree=2,include_bias=False)\n",
    "x_poly = poly_features.fit_transform(X)"
   ]
  },
  {
   "cell_type": "markdown",
   "metadata": {},
   "source": [
    "__X_poly__ 现在 __包含原始特征__ 和 __这个特征的平方__ 。"
   ]
  },
  {
   "cell_type": "code",
   "execution_count": 284,
   "metadata": {},
   "outputs": [
    {
     "name": "stdout",
     "output_type": "stream",
     "text": [
      "X[0]:  [0.7637525]\n",
      "x_poly[0]:  [0.7637525  0.58331788]\n"
     ]
    }
   ],
   "source": [
    "print('X[0]: ',X[0])\n",
    "print('x_poly[0]: ',x_poly[0])"
   ]
  },
  {
   "cell_type": "markdown",
   "metadata": {},
   "source": [
    "现在你可以在这个扩展训练集上使用 __LinearRegression__ 模型进行拟合。"
   ]
  },
  {
   "cell_type": "code",
   "execution_count": 271,
   "metadata": {},
   "outputs": [
    {
     "data": {
      "text/plain": [
       "LinearRegression(copy_X=True, fit_intercept=True, n_jobs=None, normalize=False)"
      ]
     },
     "execution_count": 271,
     "metadata": {},
     "output_type": "execute_result"
    }
   ],
   "source": [
    "lin_reg2 = LinearRegression()\n",
    "lin_reg2.fit(x_poly,y)"
   ]
  },
  {
   "cell_type": "markdown",
   "metadata": {},
   "source": [
    "__根据线性回归得到预测值__"
   ]
  },
  {
   "cell_type": "code",
   "execution_count": 276,
   "metadata": {},
   "outputs": [],
   "source": [
    "y_predect = lin_reg2.predict(x_poly)"
   ]
  },
  {
   "cell_type": "markdown",
   "metadata": {},
   "source": [
    "#### 使用多项式拟合数据\n",
    "    \n",
    "__排序__ 是为了在绘制线的时候从最左端开始绘制\n",
    "\n",
    "__y_predect[np.argsort(x)]__ 依据 __np.sort(x)__ 的顺序"
   ]
  },
  {
   "cell_type": "code",
   "execution_count": 278,
   "metadata": {},
   "outputs": [
    {
     "data": {
      "text/plain": [
       "[<matplotlib.lines.Line2D at 0x2d6c90055f8>]"
      ]
     },
     "execution_count": 278,
     "metadata": {},
     "output_type": "execute_result"
    },
    {
     "data": {
      "image/png": "[encoded data removed]",
      "text/plain": [
       "<Figure size 432x288 with 1 Axes>"
      ]
     },
     "metadata": {
      "needs_background": "light"
     },
     "output_type": "display_data"
    }
   ],
   "source": [
    "plt.scatter(x,y)\n",
    "plt.plot(np.sort(x), y_predect[np.argsort(x)], color='r')"
   ]
  },
  {
   "cell_type": "markdown",
   "metadata": {},
   "source": [
    "__多项式的截距__"
   ]
  },
  {
   "cell_type": "code",
   "execution_count": 272,
   "metadata": {},
   "outputs": [
    {
     "data": {
      "text/plain": [
       "array([1.8482332])"
      ]
     },
     "execution_count": 272,
     "metadata": {},
     "output_type": "execute_result"
    }
   ],
   "source": [
    "lin_reg2.intercept_"
   ]
  },
  {
   "cell_type": "markdown",
   "metadata": {},
   "source": [
    "__多项式的斜率__"
   ]
  },
  {
   "cell_type": "code",
   "execution_count": 273,
   "metadata": {},
   "outputs": [
    {
     "data": {
      "text/plain": [
       "array([[0.95244305, 0.53351694]])"
      ]
     },
     "execution_count": 273,
     "metadata": {},
     "output_type": "execute_result"
    }
   ],
   "source": [
    "lin_reg2.coef_"
   ]
  },
  {
   "cell_type": "markdown",
   "metadata": {},
   "source": [
    "__这样模型的预测函数就是等于:__   \n",
    "\n",
    "y = 0.53 \\* x^2 + 0.95 \\* x + 1.84"
   ]
  },
  {
   "cell_type": "markdown",
   "metadata": {},
   "source": [
    "### 温馨提示： \n",
    "\n",
    "<img src='1.jpg'>"
   ]
  },
  {
   "cell_type": "markdown",
   "metadata": {},
   "source": [
    "### 问题：如何确定模型复杂度？如何判断模型过拟合还是欠拟合？\n",
    "\n",
    "在这个训练集上，二次模型有着较好的泛化能力。那是因为在生成数据时使用了二次模型，但是一般我们不知道这个数据生成函数是什么。\n",
    "\n",
    "__那我们该如何决定我们模型的复杂度呢__ ？ __你如何告诉我你的模型是过拟合还是欠拟合__ ？\n"
   ]
  },
  {
   "cell_type": "markdown",
   "metadata": {},
   "source": [
    "### 解决方案：\n",
    "\n",
    "__1、使用交叉验证：__ 我们可以通过 __交叉验证__ 来评估一个模型的 __泛化能力__ ，如果一个模型在训练集上表现的 __良好__ ，通过 __交叉验证指标__ 却得出其泛化能力很 __差__ ，那么模型 __过拟合__ 。如果两个方面都表现的不好，那么 __欠拟合__ 。这种方法可以告诉我们模型是太 __复杂__ 还是太 __简单__ 了。\n",
    "\n",
    "__2、通过观察学习曲线：__ 画出模型在训练集上的表现，同时画出以训练集规模为自变量的训练集函数。为了得到图像，需要在训练集的不同规模子集上进行多次训练"
   ]
  },
  {
   "cell_type": "markdown",
   "metadata": {},
   "source": [
    "### 绘制模型的学习曲线"
   ]
  },
  {
   "cell_type": "code",
   "execution_count": 294,
   "metadata": {},
   "outputs": [],
   "source": [
    "from sklearn.metrics import mean_squared_error\n",
    "from sklearn.model_selection import train_test_split"
   ]
  },
  {
   "cell_type": "markdown",
   "metadata": {},
   "source": [
    "新建一个训练数据和测试数据"
   ]
  },
  {
   "cell_type": "code",
   "execution_count": 299,
   "metadata": {},
   "outputs": [],
   "source": [
    "m\t=\t100 \n",
    "X2\t=\t6\t*\tnp.random.rand(m,\t1)\t-\t3 \n",
    "y2\t=\t0.5\t*\tX**2\t+\tX\t+\t2\t+\tnp.random.randn(m,\t1)"
   ]
  },
  {
   "cell_type": "code",
   "execution_count": 337,
   "metadata": {},
   "outputs": [],
   "source": [
    "def plot_learning_curves(model,x,y):\n",
    "    x_train,x_val,y_train,y_val = train_test_split(x,y,test_size = 0.2)\n",
    "    train_errors,val_errors = [],[]\n",
    "    for m in range(1,len(x_train)):\n",
    "        model.fit(x_train[:m],y_train[:m])\n",
    "        y_train_predict = model.predict(x_train[:m])\n",
    "        y_val_predict = model.predict(x_val)\n",
    "        train_errors.append(mean_squared_error(y_train_predict,y_train[:m]))\n",
    "        val_errors.append(mean_squared_error(y_val_predict,y_val))\n",
    "    plt.plot(np.sqrt(train_errors),'r-',linewidth=2,label = 'train')\n",
    "    plt.plot(np.sqrt(val_errors),'b-',linewidth=3,label = 'val')    \n",
    "    plt.ylabel('RMSE')\n",
    "    plt.xlabel('Training set size')    \n",
    "    plt.legend(loc='upper right')"
   ]
  },
  {
   "cell_type": "code",
   "execution_count": 338,
   "metadata": {},
   "outputs": [
    {
     "data": {
      "image/png": "[encoded data removed]",
      "text/plain": [
       "<Figure size 432x288 with 1 Axes>"
      ]
     },
     "metadata": {
      "needs_background": "light"
     },
     "output_type": "display_data"
    }
   ],
   "source": [
    "line_reg3 = LinearRegression()\n",
    "plot_learning_curves(line_reg3,X,y)"
   ]
  },
  {
   "cell_type": "markdown",
   "metadata": {},
   "source": [
    "#### 这幅图值得我们深究。\n",
    "\n",
    "首先，我们观察 __训练集__ 的表现：当训练集只有一两个样本的时候，模型能够非常好的拟合它们，这也是为什么曲线是 __从零开始__ 的原因。\n",
    "\n",
    "但是当 __加入了一些新的样本的时候__ ，训练集上的拟合程度变得难以接受，出现这种情况有 __两个原因__: \n",
    "\n",
    "* __1、__ 是因为数据中含有噪声\n",
    "\n",
    "* __2、__ 是数据根本不是线性的。\n",
    "\n",
    "\n",
    "* __因此随着数据规模的增大，误差也会一直增大， 直到达到高原地带并趋于稳定__ \n",
    "\n",
    "在之后，继续加入新的样本，模型的平均误差不会变得更好或者更差。\n",
    "\n",
    "我们继续来看模型在 __验证集__ 上的表现，当以非常少的样本去训练时，模型不能恰当的泛化，也就是为什么验证误差一开始是非常大的。当训练样本变多的到时候，模型学习的东西变多，验证误差开始缓慢的下降。 __但是一条直线不可能很好的拟合这些数据__ ，因此最后误差会到达在一个高原地带并 __趋于稳定__ ，最后和训练集的曲线 __非常接近__ 。\n",
    "\n",
    "上面的曲线表现了一个 __典型的欠拟合模型__ ： __两条曲线都到达高原地带并趋于稳定，并且最后两条曲线非常接近，同时误差值非常大。__\n",
    "\n",
    "#### 提示\n",
    "\n",
    "如果你的模型在训练集上是 __欠拟合__ 的，添加更多的样本是没用的。你需要使用一个 __更复杂的模型__ 或者找到 __更好的特征__ 。\n"
   ]
  },
  {
   "cell_type": "markdown",
   "metadata": {},
   "source": [
    "####  在一个相同数据上10阶多项式中拟合学习曲线"
   ]
  },
  {
   "cell_type": "code",
   "execution_count": 341,
   "metadata": {},
   "outputs": [],
   "source": [
    "from sklearn.pipeline import Pipeline"
   ]
  },
  {
   "cell_type": "code",
   "execution_count": 377,
   "metadata": {},
   "outputs": [
    {
     "data": {
      "image/png": "[encoded data removed]",
      "text/plain": [
       "<Figure size 432x288 with 1 Axes>"
      ]
     },
     "metadata": {
      "needs_background": "light"
     },
     "output_type": "display_data"
    }
   ],
   "source": [
    "polynomial_regression = Pipeline((\n",
    "    ('poly_features',PolynomialFeatures(degree=2,include_bias=False)),\n",
    "    ('linear_regression',LinearRegression())\n",
    "))\n",
    "plot_learning_curves(polynomial_regression,X,y)"
   ]
  },
  {
   "cell_type": "markdown",
   "metadata": {},
   "source": [
    "__图中的模型过拟合：__\n",
    "\n",
    "训练数据的学习曲线和测试数据的学习曲线存在 __间隔__ ，这表明训练集上的表现要比测试集的表现好很多，这是 __过拟合__ 的典型表现。如果你使用了 __更大的训练数据__ ，这两条曲线最后会 __非常相近__ 。\n",
    "\n",
    "#### 提示\n",
    "\n",
    "__改善模型过拟合__ 的一种方法是提供更多的训练数据，直到 __训练误差__ 和 __验证误差__ 相等。\n",
    "\n",
    "#### 偏差和方差的权衡\n",
    "\n",
    "在统计和机器学习领域有个重要的理论： __一个模型的泛化误差由三个不同误差的和决定：__\n",
    "\n",
    "* __偏差：__ 泛化误差的这部分误差是由于错误的假设决定的。例如实际是一个二次模型，你却假设了一个线性模型。一个高偏差的模型最容易出现欠拟合。 \n",
    "\n",
    "\n",
    "* __方差：__ 这部分误差是由于模型对训练数据的微小变化较为敏感，一个多自由度的模型更容易有高的方差(例如一个高阶多项式模型)，因此会导致模型过拟合。 \n",
    "\n",
    "\n",
    "* __不可约误差：__ 这部分误差是由于数据本身的噪声决定的。降低这部分误差的唯一方法就是进行数据清洗（例如：修复数据源，修复坏的传感器，识别和剔除异常值）。\n"
   ]
  },
  {
   "cell_type": "code",
   "execution_count": null,
   "metadata": {},
   "outputs": [],
   "source": []
  }
 ],
 "metadata": {
  "kernelspec": {
   "display_name": "Python 3",
   "language": "python",
   "name": "python3"
  },
  "language_info": {
   "codemirror_mode": {
    "name": "ipython",
    "version": 3
   },
   "file_extension": ".py",
   "mimetype": "text/x-python",
   "name": "python",
   "nbconvert_exporter": "python",
   "pygments_lexer": "ipython3",
   "version": "3.6.4"
  }
 },
 "nbformat": 4,
 "nbformat_minor": 2
}
