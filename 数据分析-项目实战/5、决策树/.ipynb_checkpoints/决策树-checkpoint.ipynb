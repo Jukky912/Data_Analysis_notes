{
 "cells": [
  {
   "cell_type": "markdown",
   "metadata": {},
   "source": [
    "# 决策树\n",
    "\n",
    "和支持向量机一样，\t决策树是一种多功能机器学习算法，\t即可以执行 __分类任务__ 也可以执行 __回归任务__，\t甚至包括 __多输出（multioutput）任务__.\n",
    "\n",
    "### 一、决策树的特性：\n",
    "\n",
    "* __1、不需要太多的数据预处理__ ，尤其是不需要进行 __特征缩放__ 和 __数据归一化__。\n",
    "\n",
    "### 二、Scikit-Learn 中的决策树：\n",
    "\n",
    "* Scikit-Learn 用的是\t__CART\t算法__ ，\t__CART 算法仅产生二叉树__：每一个非叶节点 __总是只有两个子节点__ （只有是或否两个结果）。\n",
    "\n",
    " 然而，像__ID3__\t这样的算法 __可以产生超过两个子节点__ 的决策树模型。\n",
    "\n",
    "### 三、CART\t训练算法\n",
    "\n",
    "CART是一种贪婪算法，但是不保证全局最优，只保证 \"每一次分裂\" 是最优的。找到最优树是一个NP问题。\n",
    "\n",
    "### 四、计算复杂度\n",
    "\n",
    "* __预测：__ 决策树模型的进行 __“预测”__  时：复杂度为 O(log2^m),__与特征数量无关__ ，所以即使在处理大型训练集时，预测速度也非常 __快__。\n",
    "\n",
    "\n",
    "* __训练：__ 算法的时候（训练和预测不同）需要比较所有特征，就有了 O(nmlog(m)) 的训练复杂度：\n",
    "\n",
    "\n",
    "     小型训练集： (少于几千例)，Scikit-Learn 可以通过预先设置数据(presort = True)来加速训练。\n",
    "    \n",
    "     较大训练集： 来说会显着减慢训练速度。\n",
    "     \n",
    "### 五、Gini系数和熵\n",
    "\n",
    "决策树__默认__使用__基尼系数__来对不纯度进行检测，但是也可以通过设置 __标准超参数__ entropy 来指定__熵__不纯度进行检测。\n",
    "\n",
    "#### 5.1、问题：到底使用基尼系数还是使用熵来计算不纯度？\n",
    "\n",
    "事实上大部分情况都没有多大的差别：他们会生成类似的决策树。\n",
    "\n",
    "\n",
    "__基尼指数__计算稍微快一点，所以这是一个很好的默认值。但是，也有的时候它们会产生不同的树：\n",
    "\n",
    "\n",
    "* __基尼指数：__ 会趋于在树的分支中将最多的类隔离出来。\n",
    "    \n",
    "    \n",
    "* __熵指数：__ 趋向于产生略微平衡一些的决策树模型。\n",
    "\n",
    "### 六、正则化超参数\n",
    "\n",
    "决策树几乎不对训练数据做任何假设（于此相反的是线性回归等模型，这类模型通常会假设 数据是符合线性关系的）。\n",
    "\n",
    "__如果不添加约束__ ，树结构模型通常将根据训练数据调整自己，使自身能够很好的拟合数据， 而这种情况下大多数会导致 __模型过拟合__。\n",
    "\n",
    "\n",
    "* __非参数模型：__ 这一类的模型通常会被称为 __非参数模型__ ，这不是因为它没有任何参数（通常也有很多），而是因为在训练之前 __没有确定参数的具体数量__ ，所以模型结构可以根据数据的特性 __自由生长__。\n",
    "\n",
    "\n",
    "* __参数模型：__ 于此相反的是，像线性回归这样的参数模型有 __事先设定好的参数数量__ ，所以__自由度是受限__的，这就__减少了过拟合的风险__（但是__增加了欠拟合的风险__）。\n",
    "\n",
    "#### 如何限制决策树生长？\n",
    "\n",
    "<img width=\"800\" height=\"400\" src=\"5.jpg\"/>\n"
   ]
  },
  {
   "cell_type": "markdown",
   "metadata": {},
   "source": [
    "#### 导入基础包"
   ]
  },
  {
   "cell_type": "code",
   "execution_count": 3,
   "metadata": {},
   "outputs": [],
   "source": [
    "import pandas as pd\n",
    "import numpy as np\n",
    "import matplotlib.pyplot as plt\n",
    "from sklearn.datasets import load_iris"
   ]
  },
  {
   "cell_type": "code",
   "execution_count": 13,
   "metadata": {},
   "outputs": [
    {
     "data": {
      "text/plain": [
       "dict_keys(['data', 'target', 'target_names', 'DESCR', 'feature_names', 'filename'])"
      ]
     },
     "execution_count": 13,
     "metadata": {},
     "output_type": "execute_result"
    }
   ],
   "source": [
    "iris = load_iris()\n",
    "iris.keys()"
   ]
  },
  {
   "cell_type": "markdown",
   "metadata": {},
   "source": [
    "## 决策树的训练和可视化\n"
   ]
  },
  {
   "cell_type": "code",
   "execution_count": 9,
   "metadata": {},
   "outputs": [],
   "source": [
    "from sklearn.tree import export_graphviz       # 决策树模型可视化\n",
    "from sklearn.tree import DecisionTreeClassifier"
   ]
  },
  {
   "cell_type": "code",
   "execution_count": 14,
   "metadata": {},
   "outputs": [],
   "source": [
    "x_iris = iris.data[:,2:] # petal length and width\n",
    "y_iris = iris.target"
   ]
  },
  {
   "cell_type": "code",
   "execution_count": 15,
   "metadata": {},
   "outputs": [
    {
     "data": {
      "text/plain": [
       "(150, 2)"
      ]
     },
     "execution_count": 15,
     "metadata": {},
     "output_type": "execute_result"
    }
   ],
   "source": [
    "x_iris.shape"
   ]
  },
  {
   "cell_type": "markdown",
   "metadata": {},
   "source": [
    "#### 实例化决策树，不指定参数"
   ]
  },
  {
   "cell_type": "code",
   "execution_count": 37,
   "metadata": {},
   "outputs": [
    {
     "data": {
      "text/plain": [
       "DecisionTreeClassifier(class_weight=None, criterion='gini', max_depth=2,\n",
       "                       max_features=None, max_leaf_nodes=None,\n",
       "                       min_impurity_decrease=0.0, min_impurity_split=None,\n",
       "                       min_samples_leaf=1, min_samples_split=2,\n",
       "                       min_weight_fraction_leaf=0.0, presort=False,\n",
       "                       random_state=None, splitter='best')"
      ]
     },
     "execution_count": 37,
     "metadata": {},
     "output_type": "execute_result"
    }
   ],
   "source": [
    "tree_clf = DecisionTreeClassifier(max_depth=2)\n",
    "tree_clf.fit(x_iris,y_iris)"
   ]
  },
  {
   "cell_type": "markdown",
   "metadata": {},
   "source": [
    "### 可视化决策树模型\n",
    "\n",
    "#### export_graphviz 参数：\n",
    "\n",
    "* __filled__ : bool, optional (default=False)\n",
    "\n",
    " 设置为时True，绘制节点以指示分类的多数类，值的极值用于回归，或节点的纯度用于多输出。\n",
    " \n",
    "* __rounded__ : bool, optional (default=False)\n",
    " \n",
    " 设置为时True，绘制带有圆角的节点框，并使用Helvetica字体代替Times-Roman。"
   ]
  },
  {
   "cell_type": "code",
   "execution_count": 38,
   "metadata": {},
   "outputs": [],
   "source": [
    "export_graphviz(tree_clf,\n",
    "               out_file='./iris_tree.dot',\n",
    "               feature_names=iris.feature_names[2:],\n",
    "               class_names=iris.target_names,\n",
    "               rounded=True,\n",
    "               filled=True) # 为True时，绘制出来的图像有颜色"
   ]
  },
  {
   "cell_type": "markdown",
   "metadata": {},
   "source": [
    "### 提示：\n",
    "\n",
    "使用 __export_graphviz__ 绘制出来的图像是 __.dot文件__ ，如果要查看的话建议还是 __转化成 png 或者其他格式__ 。\n",
    "\n",
    "__转化方法__ ：在命令行 (cmd) 中进行转换\n",
    "\n",
    "\n",
    "\n",
    "* dot -Tpng tree.dot -o tree.png    (PNG format)\n",
    "\n",
    "\n",
    "* dot -Tps tree.dot -o tree.ps      (PostScript format)\n",
    "\n",
    "<div><img width=\"400\" height=\"300\" src=\"1-1.png\"/></div>\n",
    "\n",
    "#### 可视化模型图介绍：\n",
    "\n",
    "* __samples__\t属性统计出它应用于多少个训练样本实例 (__有多少实例被划分到此__)。\n",
    "\n",
    "\n",
    "* __value__\t属性告诉你这个节点对于每一个类别的样例有多少个 (__这些实例分别属于什么类型__)。\n",
    "\n",
    "\n",
    "* __Gini__ 属性用于测量它的纯度：如果一个节点包含的所有训练样例全都是同一类 别的，我们就说这个节点是纯的（Gini=0） __Gini值越小表示节点越纯。__\n",
    "\n",
    "#### 如何计算Gini分数：\n",
    "\n",
    "<img width=\"500\" height=\"400\" src=\"2.jpg\"/>\n",
    "\n",
    "__举个例子__ ，__深度为 2__  的 __左侧__ 节点(从上到下数第三行)  __基尼指数__ 为：<img width=\"500\" height=\"400\" src=\"3.jpg\"/>"
   ]
  },
  {
   "cell_type": "markdown",
   "metadata": {},
   "source": [
    "####  绘制决策边界\n",
    "\n",
    "绘制 max_depth 参数为 2 的模型。"
   ]
  },
  {
   "cell_type": "code",
   "execution_count": 17,
   "metadata": {},
   "outputs": [],
   "source": [
    "from mlxtend.plotting import plot_decision_regions"
   ]
  },
  {
   "cell_type": "code",
   "execution_count": 40,
   "metadata": {},
   "outputs": [
    {
     "data": {
      "text/plain": [
       "<matplotlib.axes._subplots.AxesSubplot at 0x263548316a0>"
      ]
     },
     "execution_count": 40,
     "metadata": {},
     "output_type": "execute_result"
    },
    {
     "data": {
      "image/png": "[encoded data removed]",
      "text/plain": [
       "<Figure size 432x288 with 1 Axes>"
      ]
     },
     "metadata": {
      "needs_background": "light"
     },
     "output_type": "display_data"
    }
   ],
   "source": [
    "plot_decision_regions(x_iris,y_iris,tree_clf)"
   ]
  },
  {
   "cell_type": "markdown",
   "metadata": {},
   "source": [
    "#### 重新生成一个决策树\n",
    "\n",
    "设置 max_depth 参数为3。"
   ]
  },
  {
   "cell_type": "code",
   "execution_count": 47,
   "metadata": {},
   "outputs": [
    {
     "data": {
      "text/plain": [
       "DecisionTreeClassifier(class_weight=None, criterion='gini', max_depth=3,\n",
       "                       max_features=None, max_leaf_nodes=None,\n",
       "                       min_impurity_decrease=0.0, min_impurity_split=None,\n",
       "                       min_samples_leaf=1, min_samples_split=2,\n",
       "                       min_weight_fraction_leaf=0.0, presort=False,\n",
       "                       random_state=None, splitter='best')"
      ]
     },
     "execution_count": 47,
     "metadata": {},
     "output_type": "execute_result"
    }
   ],
   "source": [
    "tree_clf2 = DecisionTreeClassifier(max_depth=3)\n",
    "tree_clf2.fit(x_iris,y_iris)"
   ]
  },
  {
   "cell_type": "markdown",
   "metadata": {},
   "source": [
    "####  绘制决策边界\n",
    "\n",
    "可以看出，设置最大深度会影响决策边界"
   ]
  },
  {
   "cell_type": "code",
   "execution_count": 49,
   "metadata": {},
   "outputs": [
    {
     "data": {
      "text/plain": [
       "<matplotlib.axes._subplots.AxesSubplot at 0x26356fea3c8>"
      ]
     },
     "execution_count": 49,
     "metadata": {},
     "output_type": "execute_result"
    },
    {
     "data": {
      "image/png": "[encoded data removed]",
      "text/plain": [
       "<Figure size 432x288 with 1 Axes>"
      ]
     },
     "metadata": {
      "needs_background": "light"
     },
     "output_type": "display_data"
    }
   ],
   "source": [
    "plot_decision_regions(x_iris,y_iris,tree_clf2)"
   ]
  },
  {
   "cell_type": "markdown",
   "metadata": {},
   "source": [
    "### 决策树的决策边界\n",
    "\n",
    "粗的垂直线代表根节点（深度为\t0）的决定边界：花瓣长度 为\t2.45\t厘米。由于左侧区域是纯的（只有 Iris-Setosa），所以不能再进一步分裂。然而，右 边的区域是不纯的，所以深度为 1 的右边节点在花瓣宽度为 1.75 厘米处分裂（用虚线表示）。\n",
    "\n",
    "又由于 max_depth 设置为 2，决策树在那里停了下来。但是，如果将 max_depth 设置为 3，两个深度为 2 的节点，每个都将会添加另一个决策边界（用虚线表示）。\n",
    "\n",
    "#### 决策边界对比图 (max_depth=2/3)：\n",
    "\n",
    "<img width=\"600\" height=\"500\" src=\"4.jpg\"/>\n",
    "\n",
    "#### 模型小知识：白盒与黑盒\n",
    "\n",
    "__决策树__ 非常直观，他们的决定很容易被解释。这种模型通常被称为 __白盒模型__ 。相反， __随机森林__ 或 __神经网络__ 通常被认为是__黑盒模型__。\n"
   ]
  },
  {
   "cell_type": "markdown",
   "metadata": {},
   "source": [
    "### 估计分类概率\n",
    "\n",
    "决策树还可以估计某个实例属于特定类 __k__\t的 __概率__ ：首先遍历树来查找此实例的叶节点，然后它返回此节点中类 k 的训练实例的比例。"
   ]
  },
  {
   "cell_type": "code",
   "execution_count": 50,
   "metadata": {},
   "outputs": [],
   "source": [
    "from sklearn.model_selection import cross_val_predict"
   ]
  },
  {
   "cell_type": "markdown",
   "metadata": {},
   "source": [
    "#### 预测为x类的概率\n",
    "\n",
    "Iris-Setosa\t为\t0%（0/54），Iris-Versicolor\t为 90.7%（49/54），Iris-Virginica\t为\t9.3%（5/54）"
   ]
  },
  {
   "cell_type": "code",
   "execution_count": 56,
   "metadata": {},
   "outputs": [
    {
     "data": {
      "text/plain": [
       "array([[0.        , 0.90740741, 0.09259259]])"
      ]
     },
     "metadata": {},
     "output_type": "display_data"
    },
    {
     "data": {
      "text/plain": [
       "array([1])"
      ]
     },
     "execution_count": 56,
     "metadata": {},
     "output_type": "execute_result"
    }
   ],
   "source": [
    "display(tree_clf.predict_proba([[5,1.5]]))\n",
    "tree_clf.predict([[5,1.5]])"
   ]
  },
  {
   "cell_type": "markdown",
   "metadata": {},
   "source": []
  }
 ],
 "metadata": {
  "kernelspec": {
   "display_name": "Python 3",
   "language": "python",
   "name": "python3"
  },
  "language_info": {
   "codemirror_mode": {
    "name": "ipython",
    "version": 3
   },
   "file_extension": ".py",
   "mimetype": "text/x-python",
   "name": "python",
   "nbconvert_exporter": "python",
   "pygments_lexer": "ipython3",
   "version": "3.6.4"
  }
 },
 "nbformat": 4,
 "nbformat_minor": 2
}
