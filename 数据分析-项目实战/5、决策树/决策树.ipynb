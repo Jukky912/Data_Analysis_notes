{
 "cells": [
  {
   "cell_type": "markdown",
   "metadata": {},
   "source": [
    "# 决策树\n",
    "\n",
    "和支持向量机一样，\t决策树是一种多功能机器学习算法，\t即可以执行 __分类任务__ 也可以执行 __回归任务__，\t甚至包括 __多输出（multioutput）任务__.\n",
    "\n",
    "### 一、决策树的特性：\n",
    "\n",
    "* __1、不需要太多的数据预处理__ ，尤其是不需要进行 __特征缩放__ 和 __数据归一化__。\n",
    "\n",
    "### 二、Scikit-Learn 中的决策树：\n",
    "\n",
    "* Scikit-Learn 用的是\t__CART\t算法__ ，\t__CART 算法仅产生二叉树__：每一个非叶节点 __总是只有两个子节点__ （只有是或否两个结果）。\n",
    "\n",
    " 然而，像__ID3__\t这样的算法 __可以产生超过两个子节点__ 的决策树模型。\n",
    "\n",
    "### 三、CART\t训练算法\n",
    "\n",
    "CART是一种贪婪算法，但是不保证全局最优，只保证 \"每一次分裂\" 是最优的。找到最优树是一个NP问题。\n",
    "\n",
    "### 四、计算复杂度\n",
    "\n",
    "* __预测：__ 决策树模型的进行 __“预测”__  时：复杂度为 O(log2^m),__与特征数量无关__ ，所以即使在处理大型训练集时，预测速度也非常 __快__。\n",
    "\n",
    "\n",
    "* __训练：__ 算法的时候（训练和预测不同）需要比较所有特征，就有了 O(nmlog(m)) 的训练复杂度：\n",
    "\n",
    "\n",
    "     小型训练集： (少于几千例)，Scikit-Learn 可以通过预先设置数据(presort = True)来加速训练。\n",
    "    \n",
    "     较大训练集： 来说会显着减慢训练速度。\n",
    "     \n",
    "### 五、Gini系数和熵\n",
    "\n",
    "决策树__默认__使用__基尼系数__来对不纯度进行检测，但是也可以通过设置 __标准超参数__ entropy 来指定__熵__不纯度进行检测。\n",
    "\n",
    "#### 5.1、问题：到底使用基尼系数还是使用熵来计算不纯度？\n",
    "\n",
    "事实上大部分情况都没有多大的差别：他们会生成类似的决策树。\n",
    "\n",
    "\n",
    "__基尼指数__计算稍微快一点，所以这是一个很好的默认值。但是，也有的时候它们会产生不同的树：\n",
    "\n",
    "\n",
    "* __基尼指数：__ 会趋于在树的分支中将最多的类隔离出来。\n",
    "    \n",
    "    \n",
    "* __熵指数：__ 趋向于产生略微平衡一些的决策树模型。\n",
    "\n",
    "### 六、正则化超参数\n",
    "\n",
    "决策树几乎不对训练数据做任何假设（于此相反的是线性回归等模型，这类模型通常会假设 数据是符合线性关系的）。\n",
    "\n",
    "__如果不添加约束__ ，树结构模型通常将根据训练数据调整自己，使自身能够很好的拟合数据， 而这种情况下大多数会导致 __模型过拟合__。\n",
    "\n",
    "\n",
    "* __非参数模型：__ 这一类的模型通常会被称为 __非参数模型__ ，这不是因为它没有任何参数（通常也有很多），而是因为在训练之前 __没有确定参数的具体数量__ ，所以模型结构可以根据数据的特性 __自由生长__。\n",
    "\n",
    "\n",
    "* __参数模型：__ 于此相反的是，像线性回归这样的参数模型有 __事先设定好的参数数量__ ，所以__自由度是受限__的，这就__减少了过拟合的风险__（但是__增加了欠拟合的风险__）。\n",
    "\n",
    "#### 如何限制决策树生长？\n",
    "\n",
    "<img width=\"800\" height=\"400\" src=\"5.jpg\"/>\n"
   ]
  },
  {
   "cell_type": "markdown",
   "metadata": {},
   "source": [
    "#### 导入基础包"
   ]
  },
  {
   "cell_type": "code",
   "execution_count": 1,
   "metadata": {},
   "outputs": [],
   "source": [
    "import pandas as pd\n",
    "import numpy as np\n",
    "import matplotlib.pyplot as plt\n",
    "from sklearn.datasets import load_iris"
   ]
  },
  {
   "cell_type": "code",
   "execution_count": 2,
   "metadata": {},
   "outputs": [
    {
     "data": {
      "text/plain": [
       "dict_keys(['data', 'target', 'target_names', 'DESCR', 'feature_names', 'filename'])"
      ]
     },
     "execution_count": 2,
     "metadata": {},
     "output_type": "execute_result"
    }
   ],
   "source": [
    "iris = load_iris()\n",
    "iris.keys()"
   ]
  },
  {
   "cell_type": "markdown",
   "metadata": {},
   "source": [
    "## 决策树的训练和可视化\n"
   ]
  },
  {
   "cell_type": "code",
   "execution_count": 3,
   "metadata": {},
   "outputs": [],
   "source": [
    "from sklearn.tree import export_graphviz       # 决策树模型可视化\n",
    "from sklearn.tree import DecisionTreeClassifier"
   ]
  },
  {
   "cell_type": "code",
   "execution_count": 4,
   "metadata": {},
   "outputs": [],
   "source": [
    "x_iris = iris.data[:,2:] # petal length and width\n",
    "y_iris = iris.target"
   ]
  },
  {
   "cell_type": "code",
   "execution_count": 5,
   "metadata": {},
   "outputs": [
    {
     "data": {
      "text/plain": [
       "(150, 2)"
      ]
     },
     "execution_count": 5,
     "metadata": {},
     "output_type": "execute_result"
    }
   ],
   "source": [
    "x_iris.shape"
   ]
  },
  {
   "cell_type": "markdown",
   "metadata": {},
   "source": [
    "#### 实例化决策树，不指定参数"
   ]
  },
  {
   "cell_type": "code",
   "execution_count": 6,
   "metadata": {},
   "outputs": [
    {
     "data": {
      "text/plain": [
       "DecisionTreeClassifier(class_weight=None, criterion='gini', max_depth=2,\n",
       "                       max_features=None, max_leaf_nodes=None,\n",
       "                       min_impurity_decrease=0.0, min_impurity_split=None,\n",
       "                       min_samples_leaf=1, min_samples_split=2,\n",
       "                       min_weight_fraction_leaf=0.0, presort=False,\n",
       "                       random_state=None, splitter='best')"
      ]
     },
     "execution_count": 6,
     "metadata": {},
     "output_type": "execute_result"
    }
   ],
   "source": [
    "tree_clf = DecisionTreeClassifier(max_depth=2)\n",
    "tree_clf.fit(x_iris,y_iris)"
   ]
  },
  {
   "cell_type": "markdown",
   "metadata": {},
   "source": [
    "### 可视化决策树模型\n",
    "\n",
    "#### export_graphviz 参数：\n",
    "\n",
    "* __filled__ : bool, optional (default=False)\n",
    "\n",
    " 设置为时True，绘制节点以指示分类的多数类，值的极值用于回归，或节点的纯度用于多输出。\n",
    " \n",
    "* __rounded__ : bool, optional (default=False)\n",
    " \n",
    " 设置为时True，绘制带有圆角的节点框，并使用Helvetica字体代替Times-Roman。"
   ]
  },
  {
   "cell_type": "code",
   "execution_count": 7,
   "metadata": {},
   "outputs": [],
   "source": [
    "export_graphviz(tree_clf,\n",
    "               out_file='./iris_tree.dot',\n",
    "               feature_names=iris.feature_names[2:],\n",
    "               class_names=iris.target_names,\n",
    "               rounded=True,\n",
    "               filled=True) # 为True时，绘制出来的图像有颜色"
   ]
  },
  {
   "cell_type": "markdown",
   "metadata": {},
   "source": [
    "### 提示：\n",
    "\n",
    "使用 __export_graphviz__ 绘制出来的图像是 __.dot文件__ ，如果要查看的话建议还是 __转化成 png 或者其他格式__ 。\n",
    "\n",
    "__转化方法__ ：在命令行 (cmd) 中进行转换\n",
    "\n",
    "\n",
    "\n",
    "* dot -Tpng tree.dot -o tree.png    (PNG format)\n",
    "\n",
    "\n",
    "* dot -Tps tree.dot -o tree.ps      (PostScript format)\n",
    "\n",
    "<div><img width=\"400\" height=\"300\" src=\"1-1.png\"/></div>\n",
    "\n",
    "#### 可视化模型图介绍：\n",
    "\n",
    "* __samples__\t属性统计出它应用于多少个训练样本实例 (__有多少实例被划分到此__)。\n",
    "\n",
    "\n",
    "* __value__\t属性告诉你这个节点对于每一个类别的样例有多少个 (__这些实例分别属于什么类型__)。\n",
    "\n",
    "\n",
    "* __Gini__ 属性用于测量它的纯度：如果一个节点包含的所有训练样例全都是同一类 别的，我们就说这个节点是纯的（Gini=0） __Gini值越小表示节点越纯。__\n",
    "\n",
    "#### 如何计算Gini分数：\n",
    "\n",
    "<img width=\"500\" height=\"400\" src=\"2.jpg\"/>\n",
    "\n",
    "__举个例子__ ，__深度为 2__  的 __左侧__ 节点(从上到下数第三行)  __基尼指数__ 为：<img width=\"500\" height=\"400\" src=\"3.jpg\"/>"
   ]
  },
  {
   "cell_type": "markdown",
   "metadata": {},
   "source": [
    "####  绘制决策边界\n",
    "\n",
    "绘制 max_depth 参数为 2 的模型。"
   ]
  },
  {
   "cell_type": "code",
   "execution_count": 8,
   "metadata": {},
   "outputs": [],
   "source": [
    "from mlxtend.plotting import plot_decision_regions"
   ]
  },
  {
   "cell_type": "code",
   "execution_count": 9,
   "metadata": {},
   "outputs": [
    {
     "data": {
      "text/plain": [
       "<matplotlib.axes._subplots.AxesSubplot at 0x20620e6f278>"
      ]
     },
     "execution_count": 9,
     "metadata": {},
     "output_type": "execute_result"
    },
    {
     "data": {
      "image/png": "[encoded data removed]",
      "text/plain": [
       "<Figure size 432x288 with 1 Axes>"
      ]
     },
     "metadata": {
      "needs_background": "light"
     },
     "output_type": "display_data"
    }
   ],
   "source": [
    "plot_decision_regions(x_iris,y_iris,tree_clf)"
   ]
  },
  {
   "cell_type": "markdown",
   "metadata": {},
   "source": [
    "#### 重新生成一个决策树\n",
    "\n",
    "设置 max_depth 参数为3。"
   ]
  },
  {
   "cell_type": "code",
   "execution_count": 10,
   "metadata": {},
   "outputs": [
    {
     "data": {
      "text/plain": [
       "DecisionTreeClassifier(class_weight=None, criterion='gini', max_depth=3,\n",
       "                       max_features=None, max_leaf_nodes=None,\n",
       "                       min_impurity_decrease=0.0, min_impurity_split=None,\n",
       "                       min_samples_leaf=1, min_samples_split=2,\n",
       "                       min_weight_fraction_leaf=0.0, presort=False,\n",
       "                       random_state=None, splitter='best')"
      ]
     },
     "execution_count": 10,
     "metadata": {},
     "output_type": "execute_result"
    }
   ],
   "source": [
    "tree_clf2 = DecisionTreeClassifier(max_depth=3)\n",
    "tree_clf2.fit(x_iris,y_iris)"
   ]
  },
  {
   "cell_type": "markdown",
   "metadata": {},
   "source": [
    "####  绘制决策边界\n",
    "\n",
    "可以看出，设置最大深度会影响决策边界"
   ]
  },
  {
   "cell_type": "code",
   "execution_count": 11,
   "metadata": {},
   "outputs": [
    {
     "data": {
      "text/plain": [
       "<matplotlib.axes._subplots.AxesSubplot at 0x20622f18438>"
      ]
     },
     "execution_count": 11,
     "metadata": {},
     "output_type": "execute_result"
    },
    {
     "data": {
      "image/png": "[encoded data removed]",
      "text/plain": [
       "<Figure size 432x288 with 1 Axes>"
      ]
     },
     "metadata": {
      "needs_background": "light"
     },
     "output_type": "display_data"
    }
   ],
   "source": [
    "plot_decision_regions(x_iris,y_iris,tree_clf2)"
   ]
  },
  {
   "cell_type": "markdown",
   "metadata": {},
   "source": [
    "### 决策树的决策边界\n",
    "\n",
    "粗的垂直线代表根节点（深度为\t0）的决定边界：花瓣长度 为\t2.45\t厘米。由于左侧区域是纯的（只有 Iris-Setosa），所以不能再进一步分裂。然而，右 边的区域是不纯的，所以深度为 1 的右边节点在花瓣宽度为 1.75 厘米处分裂（用虚线表示）。\n",
    "\n",
    "又由于 max_depth 设置为 2，决策树在那里停了下来。但是，如果将 max_depth 设置为 3，两个深度为 2 的节点，每个都将会添加另一个决策边界（用虚线表示）。\n",
    "\n",
    "#### 决策边界对比图 (max_depth=2/3)：\n",
    "\n",
    "<img width=\"600\" height=\"500\" src=\"4.jpg\"/>\n",
    "\n",
    "#### 模型小知识：白盒与黑盒\n",
    "\n",
    "__决策树__ 非常直观，他们的决定很容易被解释。这种模型通常被称为 __白盒模型__ 。相反， __随机森林__ 或 __神经网络__ 通常被认为是__黑盒模型__。\n"
   ]
  },
  {
   "cell_type": "markdown",
   "metadata": {},
   "source": [
    "### 估计分类概率\n",
    "\n",
    "决策树还可以估计某个实例属于特定类 __k__\t的 __概率__ ：首先遍历树来查找此实例的叶节点，然后它返回此节点中类 k 的训练实例的比例。"
   ]
  },
  {
   "cell_type": "code",
   "execution_count": 12,
   "metadata": {},
   "outputs": [],
   "source": [
    "from sklearn.model_selection import cross_val_predict"
   ]
  },
  {
   "cell_type": "markdown",
   "metadata": {},
   "source": [
    "#### 预测为x类的概率\n",
    "\n",
    "Iris-Setosa\t为\t0%（0/54），Iris-Versicolor\t为 90.7%（49/54），Iris-Virginica\t为\t9.3%（5/54）"
   ]
  },
  {
   "cell_type": "code",
   "execution_count": 13,
   "metadata": {},
   "outputs": [
    {
     "data": {
      "text/plain": [
       "array([[0.        , 0.90740741, 0.09259259]])"
      ]
     },
     "metadata": {},
     "output_type": "display_data"
    },
    {
     "data": {
      "text/plain": [
       "array([1])"
      ]
     },
     "execution_count": 13,
     "metadata": {},
     "output_type": "execute_result"
    }
   ],
   "source": [
    "display(tree_clf.predict_proba([[5,1.5]]))\n",
    "tree_clf.predict([[5,1.5]])"
   ]
  },
  {
   "cell_type": "markdown",
   "metadata": {},
   "source": [
    "### 决策树回归"
   ]
  },
  {
   "cell_type": "code",
   "execution_count": 14,
   "metadata": {},
   "outputs": [],
   "source": [
    "from sklearn.tree import DecisionTreeRegressor "
   ]
  },
  {
   "cell_type": "code",
   "execution_count": 15,
   "metadata": {},
   "outputs": [
    {
     "data": {
      "text/plain": [
       "DecisionTreeRegressor(criterion='mse', max_depth=2, max_features=None,\n",
       "                      max_leaf_nodes=None, min_impurity_decrease=0.0,\n",
       "                      min_impurity_split=None, min_samples_leaf=1,\n",
       "                      min_samples_split=2, min_weight_fraction_leaf=0.0,\n",
       "                      presort=False, random_state=None, splitter='best')"
      ]
     },
     "execution_count": 15,
     "metadata": {},
     "output_type": "execute_result"
    }
   ],
   "source": [
    "tree_reg = DecisionTreeRegressor(max_depth=2)\n",
    "tree_reg.fit(x_iris,y_iris)"
   ]
  },
  {
   "cell_type": "code",
   "execution_count": 16,
   "metadata": {},
   "outputs": [
    {
     "data": {
      "text/plain": [
       "<matplotlib.axes._subplots.AxesSubplot at 0x2062319ee10>"
      ]
     },
     "execution_count": 16,
     "metadata": {},
     "output_type": "execute_result"
    },
    {
     "data": {
      "image/png": "[encoded data removed]",
      "text/plain": [
       "<Figure size 432x288 with 1 Axes>"
      ]
     },
     "metadata": {
      "needs_background": "light"
     },
     "output_type": "display_data"
    }
   ],
   "source": [
    "plot_decision_regions(x_iris,y_iris,tree_reg)"
   ]
  },
  {
   "cell_type": "code",
   "execution_count": 17,
   "metadata": {},
   "outputs": [
    {
     "data": {
      "text/plain": [
       "DecisionTreeRegressor(criterion='mse', max_depth=3, max_features=None,\n",
       "                      max_leaf_nodes=None, min_impurity_decrease=0.0,\n",
       "                      min_impurity_split=None, min_samples_leaf=1,\n",
       "                      min_samples_split=2, min_weight_fraction_leaf=0.0,\n",
       "                      presort=False, random_state=None, splitter='best')"
      ]
     },
     "execution_count": 17,
     "metadata": {},
     "output_type": "execute_result"
    }
   ],
   "source": [
    "tree_reg2 = DecisionTreeRegressor(max_depth=3)\n",
    "tree_reg2.fit(x_iris,y_iris)"
   ]
  },
  {
   "cell_type": "code",
   "execution_count": 18,
   "metadata": {},
   "outputs": [
    {
     "data": {
      "text/plain": [
       "<matplotlib.axes._subplots.AxesSubplot at 0x20622f18ef0>"
      ]
     },
     "execution_count": 18,
     "metadata": {},
     "output_type": "execute_result"
    },
    {
     "data": {
      "image/png": "[encoded data removed]",
      "text/plain": [
       "<Figure size 432x288 with 1 Axes>"
      ]
     },
     "metadata": {
      "needs_background": "light"
     },
     "output_type": "display_data"
    }
   ],
   "source": [
    "plot_decision_regions(x_iris,y_iris,tree_reg2)"
   ]
  },
  {
   "cell_type": "markdown",
   "metadata": {},
   "source": [
    "### 练习：对\tmoons\t数据集进行决策树训练并优化模型。\n"
   ]
  },
  {
   "cell_type": "code",
   "execution_count": 19,
   "metadata": {},
   "outputs": [],
   "source": [
    "from sklearn import datasets\n",
    "from sklearn.model_selection import train_test_split\n",
    "from sklearn.model_selection import GridSearchCV\n",
    "from sklearn.model_selection import KFold\n",
    "from sklearn .model_selection import cross_validate"
   ]
  },
  {
   "cell_type": "markdown",
   "metadata": {},
   "source": [
    "__1、通过语句\tmake_moons(n_samples=10000,\tnoise=0.4)\t生成\tmoons\t数据集__"
   ]
  },
  {
   "cell_type": "code",
   "execution_count": 20,
   "metadata": {},
   "outputs": [],
   "source": [
    "x,y = datasets.make_moons(n_samples=10000, noise=0.4)"
   ]
  },
  {
   "cell_type": "markdown",
   "metadata": {},
   "source": [
    "__2、通过\ttrain_test_split()\t将数据集分割为训练集和测试集__"
   ]
  },
  {
   "cell_type": "code",
   "execution_count": 21,
   "metadata": {},
   "outputs": [],
   "source": [
    "x_train,x_test,y_train,y_test = train_test_split(x,y,test_size = 0.3)"
   ]
  },
  {
   "cell_type": "markdown",
   "metadata": {},
   "source": [
    "__3、进行交叉验证，并使用网格搜索法寻找最好的超参数值（使用\tGridSearchCV)__\n",
    "\n",
    "提示:\t尝试各种各样的\tmax_leaf_nodes\t值\n",
    "\n",
    "KFold:\n",
    "* 提供训练/测试索引以将数据拆分为训练/测试集。将数据集拆分为k个连续的折叠（默认情况下不进行混洗）。\n",
    "\n",
    "\n",
    "* 然后将每个折叠用作一次验证，而剩下的k-1个折叠形成训练集。"
   ]
  },
  {
   "cell_type": "code",
   "execution_count": 22,
   "metadata": {},
   "outputs": [],
   "source": [
    "cv_split = KFold(10,shuffle=False,random_state=42)\n",
    "param_grid = {'max_leaf_nodes':[3,5,8,10,15,25,40]}"
   ]
  },
  {
   "cell_type": "code",
   "execution_count": 23,
   "metadata": {},
   "outputs": [],
   "source": [
    "dtree_clf = DecisionTreeClassifier()"
   ]
  },
  {
   "cell_type": "code",
   "execution_count": 24,
   "metadata": {},
   "outputs": [
    {
     "data": {
      "text/plain": [
       "GridSearchCV(cv=KFold(n_splits=10, random_state=42, shuffle=False),\n",
       "             error_score='raise-deprecating',\n",
       "             estimator=DecisionTreeClassifier(class_weight=None,\n",
       "                                              criterion='gini', max_depth=None,\n",
       "                                              max_features=None,\n",
       "                                              max_leaf_nodes=None,\n",
       "                                              min_impurity_decrease=0.0,\n",
       "                                              min_impurity_split=None,\n",
       "                                              min_samples_leaf=1,\n",
       "                                              min_samples_split=2,\n",
       "                                              min_weight_fraction_leaf=0.0,\n",
       "                                              presort=False, random_state=None,\n",
       "                                              splitter='best'),\n",
       "             iid='warn', n_jobs=None,\n",
       "             param_grid={'max_leaf_nodes': [3, 5, 8, 10, 15, 25, 40]},\n",
       "             pre_dispatch='2*n_jobs', refit=True, return_train_score=True,\n",
       "             scoring='roc_auc', verbose=0)"
      ]
     },
     "execution_count": 24,
     "metadata": {},
     "output_type": "execute_result"
    }
   ],
   "source": [
    "grid_model = GridSearchCV(dtree_clf,param_grid=param_grid,scoring='roc_auc',cv=cv_split,return_train_score=True)\n",
    "grid_model.fit(x_train,y_train)"
   ]
  },
  {
   "cell_type": "code",
   "execution_count": 25,
   "metadata": {},
   "outputs": [
    {
     "name": "stdout",
     "output_type": "stream",
     "text": [
      "After DT Parameters {'max_leaf_nodes': 25}\n",
      "AFTER DT Training w/bin score mean: 0.93\n",
      "AFTER DT Test w/bin score mean: 0.92\n",
      "AFTER DT Test w/bin score 3*std: +/- {:.2f} 0.01266550195795254\n"
     ]
    }
   ],
   "source": [
    "print('After DT Parameters',grid_model.best_params_)\n",
    "print('AFTER DT Training w/bin score mean: {:.2f}'.format(grid_model.cv_results_['mean_train_score'][grid_model.best_index_]))\n",
    "print('AFTER DT Test w/bin score mean: {:.2f}'.format(grid_model.cv_results_['mean_test_score'][grid_model.best_index_]))\n",
    "print('AFTER DT Test w/bin score 3*std: +/- {:.2f}',grid_model.cv_results_['std_test_score'][grid_model.best_index_])\n",
    "grid_model = grid_model.best_estimator_"
   ]
  },
  {
   "cell_type": "code",
   "execution_count": 26,
   "metadata": {},
   "outputs": [],
   "source": [
    "cv_result = cross_validate(grid_model,x_test,y_test,cv = 5,scoring='roc_auc',return_train_score=True)"
   ]
  },
  {
   "cell_type": "code",
   "execution_count": 27,
   "metadata": {},
   "outputs": [
    {
     "name": "stdout",
     "output_type": "stream",
     "text": [
      "MLA Train Accuracy Mean 0.9413454810269544\n",
      "MLA Test Accuracy Mean 0.9155239948098188\n",
      "MLA Test std*3  0.033885446019134936\n"
     ]
    }
   ],
   "source": [
    "print('MLA Train Accuracy Mean',cv_result['train_score'].mean())\n",
    "print('MLA Test Accuracy Mean',cv_result['test_score'].mean())\n",
    "print('MLA Test std*3 ',cv_result['test_score'].std()*3)"
   ]
  },
  {
   "cell_type": "markdown",
   "metadata": {},
   "source": [
    "# 随机森林\n",
    "\n",
    "如果你合并了一组 分类器的预测（像分类或者回归），你也会得到一个比单一分类器更好的预测结果。这一组分类器就叫做集成；因此，这个技术就叫做集成学习，一个集成学习算法就叫做集成方法。\n",
    "\n",
    "* __决策树的集成就叫做随机森林。__\n",
    "\n",
    "### 注意：\n",
    "\n",
    "__集成出来的分类器比原来的分类器效果要好__ 是建立在所有的分类器都 __独立运行__ ， __不会发生有相关性的错误__ 的情况下。然而 __每一个分类器都在同一个数据集上训练__ ，导致其很可能会发生这样的错误。他们 __可能会犯同一种错误__ ，所以也会有很多票投给了错误类别导致集成的 __准确率下降__。\n",
    "\n",
    "\n",
    "如果使每一个分类器都独立自主的分类，那么集成模型会工作的很好。 __去得到多样的分类器的方法之一__ 就是 __用完全不同的算法__ ，这会使它们会做出不同种类的错误，这会提高集成的正确率\n"
   ]
  },
  {
   "cell_type": "markdown",
   "metadata": {},
   "source": [
    "### 投票决策\n",
    "\n",
    "* __硬投票：__ 整合每一个分类器的预测然后经过投票去预测分类。这种分类器就叫做硬投票分类器。__（直接用类别值，少数服从多数。）__\n",
    "\n",
    "\n",
    "* __软投票：__ 以最高的类概率来预测这个类，平均在所有的分类器上。这种方式叫做软投票。他经常比硬投票表现的更好，因为它给予高自信的投票更大的权重。__（各自分类器的概率值进行加权平均）__\n",
    "\n",
    "__软投票__，他经常比硬投票表现的更好，因为它给予高自信的投票更大的权重。你可以通过把 __voting=\"hard\"__ 设置为 __voting=\"soft\"__ 来保证分类器可以预测类别概率。\n",
    "\n"
   ]
  },
  {
   "cell_type": "code",
   "execution_count": 28,
   "metadata": {},
   "outputs": [],
   "source": [
    "from sklearn.ensemble import RandomForestClassifier\n",
    "from sklearn.ensemble import VotingClassifier\n",
    "from sklearn.svm import SVC\n",
    "from sklearn.linear_model import LogisticRegression"
   ]
  },
  {
   "cell_type": "code",
   "execution_count": 29,
   "metadata": {},
   "outputs": [],
   "source": [
    "# x_train_iris,x_iris_test,y_iris_train,y_iris_test = train_test_split(x_iris,y_iris,test_size = 0.3)"
   ]
  },
  {
   "cell_type": "code",
   "execution_count": 30,
   "metadata": {},
   "outputs": [
    {
     "name": "stderr",
     "output_type": "stream",
     "text": [
      "D:\\python\\lib\\site-packages\\sklearn\\linear_model\\logistic.py:432: FutureWarning: Default solver will be changed to 'lbfgs' in 0.22. Specify a solver to silence this warning.\n",
      "  FutureWarning)\n",
      "D:\\python\\lib\\site-packages\\sklearn\\ensemble\\forest.py:245: FutureWarning: The default value of n_estimators will change from 10 in version 0.20 to 100 in 0.22.\n",
      "  \"10 in version 0.20 to 100 in 0.22.\", FutureWarning)\n",
      "D:\\python\\lib\\site-packages\\sklearn\\svm\\base.py:193: FutureWarning: The default value of gamma will change from 'auto' to 'scale' in version 0.22 to account better for unscaled features. Set gamma explicitly to 'auto' or 'scale' to avoid this warning.\n",
      "  \"avoid this warning.\", FutureWarning)\n"
     ]
    },
    {
     "data": {
      "text/plain": [
       "VotingClassifier(estimators=[('lr',\n",
       "                              LogisticRegression(C=1.0, class_weight=None,\n",
       "                                                 dual=False, fit_intercept=True,\n",
       "                                                 intercept_scaling=1,\n",
       "                                                 l1_ratio=None, max_iter=100,\n",
       "                                                 multi_class='warn',\n",
       "                                                 n_jobs=None, penalty='l2',\n",
       "                                                 random_state=None,\n",
       "                                                 solver='warn', tol=0.0001,\n",
       "                                                 verbose=0, warm_start=False)),\n",
       "                             ('rdf',\n",
       "                              RandomForestClassifier(bootstrap=True,\n",
       "                                                     class_weight=None,\n",
       "                                                     criterion='gini'...\n",
       "                                                     oob_score=False,\n",
       "                                                     random_state=None,\n",
       "                                                     verbose=0,\n",
       "                                                     warm_start=False)),\n",
       "                             ('svm_clf',\n",
       "                              SVC(C=1.0, cache_size=200, class_weight=None,\n",
       "                                  coef0=0.0, decision_function_shape='ovr',\n",
       "                                  degree=3, gamma='auto_deprecated',\n",
       "                                  kernel='rbf', max_iter=-1, probability=False,\n",
       "                                  random_state=None, shrinking=True, tol=0.001,\n",
       "                                  verbose=False))],\n",
       "                 flatten_transform=True, n_jobs=None, voting='hard',\n",
       "                 weights=None)"
      ]
     },
     "execution_count": 30,
     "metadata": {},
     "output_type": "execute_result"
    }
   ],
   "source": [
    "rdf_clf = RandomForestClassifier() \n",
    "log_clf = LogisticRegression()\n",
    "svm_clf = SVC()\n",
    "\n",
    "voting_clf = VotingClassifier(estimators=[('lr',log_clf),('rdf',rdf_clf),('svm_clf',svm_clf)],voting='hard')\n",
    "voting_clf.fit(x_train,y_train)"
   ]
  },
  {
   "cell_type": "markdown",
   "metadata": {},
   "source": [
    "#### 测试模型的准确率"
   ]
  },
  {
   "cell_type": "code",
   "execution_count": 31,
   "metadata": {},
   "outputs": [],
   "source": [
    "from sklearn.metrics import accuracy_score"
   ]
  },
  {
   "cell_type": "code",
   "execution_count": 32,
   "metadata": {},
   "outputs": [
    {
     "name": "stderr",
     "output_type": "stream",
     "text": [
      "D:\\python\\lib\\site-packages\\sklearn\\ensemble\\forest.py:245: FutureWarning: The default value of n_estimators will change from 10 in version 0.20 to 100 in 0.22.\n",
      "  \"10 in version 0.20 to 100 in 0.22.\", FutureWarning)\n",
      "D:\\python\\lib\\site-packages\\sklearn\\linear_model\\logistic.py:432: FutureWarning: Default solver will be changed to 'lbfgs' in 0.22. Specify a solver to silence this warning.\n",
      "  FutureWarning)\n",
      "D:\\python\\lib\\site-packages\\sklearn\\svm\\base.py:193: FutureWarning: The default value of gamma will change from 'auto' to 'scale' in version 0.22 to account better for unscaled features. Set gamma explicitly to 'auto' or 'scale' to avoid this warning.\n",
      "  \"avoid this warning.\", FutureWarning)\n"
     ]
    },
    {
     "name": "stdout",
     "output_type": "stream",
     "text": [
      "RandomForestClassifier 0.8393333333333334\n",
      "LogisticRegression 0.8323333333333334\n",
      "SVC 0.8576666666666667\n"
     ]
    },
    {
     "name": "stderr",
     "output_type": "stream",
     "text": [
      "D:\\python\\lib\\site-packages\\sklearn\\linear_model\\logistic.py:432: FutureWarning: Default solver will be changed to 'lbfgs' in 0.22. Specify a solver to silence this warning.\n",
      "  FutureWarning)\n",
      "D:\\python\\lib\\site-packages\\sklearn\\svm\\base.py:193: FutureWarning: The default value of gamma will change from 'auto' to 'scale' in version 0.22 to account better for unscaled features. Set gamma explicitly to 'auto' or 'scale' to avoid this warning.\n",
      "  \"avoid this warning.\", FutureWarning)\n"
     ]
    },
    {
     "name": "stdout",
     "output_type": "stream",
     "text": [
      "VotingClassifier 0.8493333333333334\n"
     ]
    }
   ],
   "source": [
    "for clf in (rdf_clf,log_clf,svm_clf,voting_clf):\n",
    "    clf.fit(x_train,y_train)\n",
    "    y_pred = clf.predict(x_test)\n",
    "    print(clf.__class__.__name__,accuracy_score(y_test,y_pred))"
   ]
  },
  {
   "cell_type": "markdown",
   "metadata": {},
   "source": [
    "### 提示：\n",
    "\n",
    "如果所有的分类器都能够预测类别的概率 (例如他们有一个\t__predict_proba()__\t方法)，那么你就可以让 sklearn\t以最高的类概率来预测这个类，平均在所有的分类器上。这是__软投票__。\n",
    "\n",
    "\n",
    "然而这不是 SVC 类的分类器默认的选项，所以你需要把它的\tprobability\thyperparameter\t设置为 True（这会 使\tSVC\t使用交叉验证去预测类别概率，其降低了训练速度，但会添加\tpredict_proba()\t方法）\n"
   ]
  },
  {
   "cell_type": "code",
   "execution_count": 33,
   "metadata": {},
   "outputs": [
    {
     "name": "stderr",
     "output_type": "stream",
     "text": [
      "D:\\python\\lib\\site-packages\\sklearn\\linear_model\\logistic.py:432: FutureWarning: Default solver will be changed to 'lbfgs' in 0.22. Specify a solver to silence this warning.\n",
      "  FutureWarning)\n",
      "D:\\python\\lib\\site-packages\\sklearn\\ensemble\\forest.py:245: FutureWarning: The default value of n_estimators will change from 10 in version 0.20 to 100 in 0.22.\n",
      "  \"10 in version 0.20 to 100 in 0.22.\", FutureWarning)\n",
      "D:\\python\\lib\\site-packages\\sklearn\\svm\\base.py:193: FutureWarning: The default value of gamma will change from 'auto' to 'scale' in version 0.22 to account better for unscaled features. Set gamma explicitly to 'auto' or 'scale' to avoid this warning.\n",
      "  \"avoid this warning.\", FutureWarning)\n"
     ]
    },
    {
     "data": {
      "text/plain": [
       "VotingClassifier(estimators=[('lr',\n",
       "                              LogisticRegression(C=1.0, class_weight=None,\n",
       "                                                 dual=False, fit_intercept=True,\n",
       "                                                 intercept_scaling=1,\n",
       "                                                 l1_ratio=None, max_iter=100,\n",
       "                                                 multi_class='warn',\n",
       "                                                 n_jobs=None, penalty='l2',\n",
       "                                                 random_state=None,\n",
       "                                                 solver='warn', tol=0.0001,\n",
       "                                                 verbose=0, warm_start=False)),\n",
       "                             ('rdf',\n",
       "                              RandomForestClassifier(bootstrap=True,\n",
       "                                                     class_weight=None,\n",
       "                                                     criterion='gini'...\n",
       "                                                     oob_score=False,\n",
       "                                                     random_state=None,\n",
       "                                                     verbose=0,\n",
       "                                                     warm_start=False)),\n",
       "                             ('svm_clf2',\n",
       "                              SVC(C=1.0, cache_size=200, class_weight=None,\n",
       "                                  coef0=0.0, decision_function_shape='ovr',\n",
       "                                  degree=3, gamma='auto_deprecated',\n",
       "                                  kernel='rbf', max_iter=-1, probability=True,\n",
       "                                  random_state=None, shrinking=True, tol=0.001,\n",
       "                                  verbose=False))],\n",
       "                 flatten_transform=True, n_jobs=None, voting='soft',\n",
       "                 weights=None)"
      ]
     },
     "execution_count": 33,
     "metadata": {},
     "output_type": "execute_result"
    }
   ],
   "source": [
    "rdf_clf = RandomForestClassifier() \n",
    "log_clf = LogisticRegression()\n",
    "svm_clf2 = SVC(probability=True)  # probability 否启用概率估计。必须在调用之前启用它，这fit会减慢该方法的速度。\n",
    "\n",
    "voting_clf = VotingClassifier(estimators=[('lr',log_clf),('rdf',rdf_clf),('svm_clf2',svm_clf2)],voting='soft')\n",
    "voting_clf.fit(x_train,y_train)"
   ]
  },
  {
   "cell_type": "code",
   "execution_count": 34,
   "metadata": {},
   "outputs": [
    {
     "name": "stderr",
     "output_type": "stream",
     "text": [
      "D:\\python\\lib\\site-packages\\sklearn\\ensemble\\forest.py:245: FutureWarning: The default value of n_estimators will change from 10 in version 0.20 to 100 in 0.22.\n",
      "  \"10 in version 0.20 to 100 in 0.22.\", FutureWarning)\n",
      "D:\\python\\lib\\site-packages\\sklearn\\linear_model\\logistic.py:432: FutureWarning: Default solver will be changed to 'lbfgs' in 0.22. Specify a solver to silence this warning.\n",
      "  FutureWarning)\n",
      "D:\\python\\lib\\site-packages\\sklearn\\svm\\base.py:193: FutureWarning: The default value of gamma will change from 'auto' to 'scale' in version 0.22 to account better for unscaled features. Set gamma explicitly to 'auto' or 'scale' to avoid this warning.\n",
      "  \"avoid this warning.\", FutureWarning)\n"
     ]
    },
    {
     "name": "stdout",
     "output_type": "stream",
     "text": [
      "RandomForestClassifier 0.842\n",
      "LogisticRegression 0.8323333333333334\n",
      "SVC 0.8576666666666667\n"
     ]
    },
    {
     "name": "stderr",
     "output_type": "stream",
     "text": [
      "D:\\python\\lib\\site-packages\\sklearn\\linear_model\\logistic.py:432: FutureWarning: Default solver will be changed to 'lbfgs' in 0.22. Specify a solver to silence this warning.\n",
      "  FutureWarning)\n",
      "D:\\python\\lib\\site-packages\\sklearn\\svm\\base.py:193: FutureWarning: The default value of gamma will change from 'auto' to 'scale' in version 0.22 to account better for unscaled features. Set gamma explicitly to 'auto' or 'scale' to avoid this warning.\n",
      "  \"avoid this warning.\", FutureWarning)\n"
     ]
    },
    {
     "name": "stdout",
     "output_type": "stream",
     "text": [
      "VotingClassifier 0.8573333333333333\n"
     ]
    }
   ],
   "source": [
    "for clf in (rdf_clf,log_clf,svm_clf2,voting_clf):\n",
    "    clf.fit(x_train,y_train)\n",
    "    y_pred = clf.predict(x_test)\n",
    "    print(clf.__class__.__name__,accuracy_score(y_test,y_pred))"
   ]
  },
  {
   "cell_type": "markdown",
   "metadata": {},
   "source": [
    "## Bagging 和 Pasting\n",
    "\n",
    "__对每一个分类器都使用相同的训练算法，但是在 不同的训练集上 去训练它们 Bagging和Pasting：__\n",
    "\n",
    "* __Bagging：__ 有放回采样被 称为装袋（Bagging，是\tbootstrap\taggregating\t的缩写）\n",
    "\n",
    "* __pasting：__ 无放回采样称为粘贴 （pasting）\n",
    "\n",
    "换句话说，__Bagging__\t和\t__Pasting__\t都允许在多个分类器上对训练集进行多次采样，但只有 __Bagging__\t允许对同一种分类器上对训练集进行进行__多次采样__。\n",
    "\n",
    "#### 聚合\n",
    "\n",
    "当所有的分类器被训练后，集成可以通过对所有分类器结果的简单__聚合__(合并所有模型)来对新的实例进行预测。\n",
    "\n",
    "聚合函数通常对__分类__是__统计模式__（例如硬投票分类器）或者对__回归__是__平均__。\n",
    "\n",
    "每一个单独的分类器在如果在原始训练集上都是高偏差，但是__聚合降低了偏差和方差__。通常情况下，集成的结果是有一个相似的偏差，但是对比与在原始训练集上的单一分类器来讲有更小的方差，聚合之后模型通常更优。"
   ]
  },
  {
   "cell_type": "code",
   "execution_count": 40,
   "metadata": {},
   "outputs": [],
   "source": [
    "from sklearn.model_selection import train_test_split"
   ]
  },
  {
   "cell_type": "code",
   "execution_count": 69,
   "metadata": {},
   "outputs": [],
   "source": [
    "x,y = datasets.make_moons(n_samples=500, noise=0.2)\n",
    "\n",
    "x_train,x_test,y_train,y_test = train_test_split(x,y,test_size = 0.3)"
   ]
  },
  {
   "cell_type": "code",
   "execution_count": 39,
   "metadata": {},
   "outputs": [],
   "source": [
    "from sklearn.ensemble import BaggingClassifier\n",
    "from sklearn.tree import DecisionTreeClassifier"
   ]
  },
  {
   "cell_type": "code",
   "execution_count": 70,
   "metadata": {},
   "outputs": [
    {
     "data": {
      "text/plain": [
       "DecisionTreeClassifier(class_weight=None, criterion='gini', max_depth=None,\n",
       "                       max_features=None, max_leaf_nodes=None,\n",
       "                       min_impurity_decrease=0.0, min_impurity_split=None,\n",
       "                       min_samples_leaf=1, min_samples_split=2,\n",
       "                       min_weight_fraction_leaf=0.0, presort=False,\n",
       "                       random_state=None, splitter='best')"
      ]
     },
     "execution_count": 70,
     "metadata": {},
     "output_type": "execute_result"
    }
   ],
   "source": [
    "dt_clf = DecisionTreeClassifier()\n",
    "dt_clf.fit(x_train,y_train)"
   ]
  },
  {
   "cell_type": "code",
   "execution_count": 71,
   "metadata": {},
   "outputs": [
    {
     "data": {
      "text/plain": [
       "<matplotlib.axes._subplots.AxesSubplot at 0x2062a336ac8>"
      ]
     },
     "execution_count": 71,
     "metadata": {},
     "output_type": "execute_result"
    },
    {
     "data": {
      "image/png": "[encoded data removed]",
      "text/plain": [
       "<Figure size 432x288 with 1 Axes>"
      ]
     },
     "metadata": {
      "needs_background": "light"
     },
     "output_type": "display_data"
    }
   ],
   "source": [
    "plot_decision_regions(x_train,y_train,dt_clf)"
   ]
  },
  {
   "cell_type": "markdown",
   "metadata": {},
   "source": [
    "#### BaggingClassifier\n",
    "\n",
    "* n_estimators=500：集成 500 个子模型；\n",
    "* max_samples=100：每个子模型看 100 个样本数据；\n",
    "* bootstrap=True：表示采用 Bagging 的方式从样本数据中取样；（默认方式）\n",
    "* bootstrap=False：表示采用 Pasting 的方式从样本数据中取样；\n",
    "* oob_score = True : 使用oob进行模型的自动评估；\n",
    "* splitter：用于在每个节点上选择拆分的策略。支持的策略是“best”(最佳) 选择最佳拆分，“random”(随机) 选择最佳随机拆分。"
   ]
  },
  {
   "cell_type": "code",
   "execution_count": 72,
   "metadata": {},
   "outputs": [],
   "source": [
    "bagging_dt_clf = BaggingClassifier(DecisionTreeClassifier(),n_estimators=500,max_samples=100,bootstrap=True,n_jobs=1)\n",
    "bagging_dt_clf.fit(x_train,y_train)\n",
    "y_pred = bagging_dt_clf.predict(x_test)"
   ]
  },
  {
   "cell_type": "code",
   "execution_count": 73,
   "metadata": {},
   "outputs": [
    {
     "data": {
      "text/plain": [
       "<matplotlib.axes._subplots.AxesSubplot at 0x2062a243208>"
      ]
     },
     "execution_count": 73,
     "metadata": {},
     "output_type": "execute_result"
    },
    {
     "data": {
      "image/png": "[encoded data removed]",
      "text/plain": [
       "<Figure size 432x288 with 1 Axes>"
      ]
     },
     "metadata": {
      "needs_background": "light"
     },
     "output_type": "display_data"
    }
   ],
   "source": [
    "plot_decision_regions(x_train,y_train,bagging_dt_clf)"
   ]
  },
  {
   "cell_type": "markdown",
   "metadata": {},
   "source": [
    "可以从决策边界看出bagging的效果更好些，总体而言， Bagging\t通常会导致更好的模型，这就解释了为什么它通常是首选的。"
   ]
  },
  {
   "cell_type": "markdown",
   "metadata": {},
   "source": [
    "### Out of bag (袋外数据)\n",
    "\n",
    "随机森林有一个重要的优点就是，没有必要对它进行交叉验证或者用一个独立的测试集来获得误差的一个无偏估计。它可以在内部进行评估，也就是说在生成的过程中就可以对误差建立一个无偏估计。\n",
    "\n",
    "随机森铃在生成每颗决策树时，会随机且__有放回的抽取样本__，每棵决策树会有大概1/3的样本未抽取到，这些样本就是每棵树的oob样本。具体计算过程如下：\n",
    "\n",
    "<img width=\"400\" height=\"100\" src=\"6.jpg\"/>\n",
    "\n",
    "* 1/N是某个样本被抽到的概率，1=1/N 表示不被抽到的概率。\n",
    "\n",
    "* 其中 N 是训练集的大小，这意味着平均下来只有63%的训练实例被每 个分类器采样，__剩下的37%个没有被采样的训练实例就叫做 Out-of-Bag 实例__。\n",
    "\n",
    "包外估计是对集成分类器泛化误差的无偏估计. 在随机森林算法中数据集属性的重要性、分类器集强度和分类器间相关性计算都依赖于袋外数据（Out-of-Bag）"
   ]
  },
  {
   "cell_type": "code",
   "execution_count": 76,
   "metadata": {},
   "outputs": [
    {
     "data": {
      "text/plain": [
       "BaggingClassifier(base_estimator=DecisionTreeClassifier(class_weight=None,\n",
       "                                                        criterion='gini',\n",
       "                                                        max_depth=None,\n",
       "                                                        max_features=None,\n",
       "                                                        max_leaf_nodes=None,\n",
       "                                                        min_impurity_decrease=0.0,\n",
       "                                                        min_impurity_split=None,\n",
       "                                                        min_samples_leaf=1,\n",
       "                                                        min_samples_split=2,\n",
       "                                                        min_weight_fraction_leaf=0.0,\n",
       "                                                        presort=False,\n",
       "                                                        random_state=None,\n",
       "                                                        splitter='best'),\n",
       "                  bootstrap=True, bootstrap_features=False, max_features=1.0,\n",
       "                  max_samples=100, n_estimators=500, n_jobs=1, oob_score=True,\n",
       "                  random_state=None, verbose=0, warm_start=False)"
      ]
     },
     "execution_count": 76,
     "metadata": {},
     "output_type": "execute_result"
    }
   ],
   "source": [
    "bagging_dt_clf2 = BaggingClassifier(DecisionTreeClassifier(),n_estimators=500,max_samples=100,n_jobs=1,oob_score=True,bootstrap=True)\n",
    "bagging_dt_clf2.fit(x_train,y_train)"
   ]
  },
  {
   "cell_type": "code",
   "execution_count": 81,
   "metadata": {},
   "outputs": [],
   "source": [
    "from sklearn.metrics import accuracy_score"
   ]
  },
  {
   "cell_type": "code",
   "execution_count": 87,
   "metadata": {},
   "outputs": [
    {
     "name": "stdout",
     "output_type": "stream",
     "text": [
      "oob 计算得到分数为： 0.9457142857142857\n",
      "\n",
      "模型的精确率为： 0.9466666666666667\n"
     ]
    }
   ],
   "source": [
    "print('oob 计算得到分数为：',bagging_dt_clf2.oob_score_)\n",
    "print('\\n模型的精确率为：',accuracy_score(y_test,y_pred))"
   ]
  },
  {
   "cell_type": "markdown",
   "metadata": {},
   "source": [
    "#### oob_decision\\_function\\_\n",
    "\n",
    "* 需要 oob_score = True 时才能被调用。\n",
    "\n",
    "对于每个训练实例\toob\t决策函数也可通过\toob_decision\\_function\\_ \t变量来展示。在这种情况 下（当基决策器有\tpredict_proba()\t时）决策函数会对每个训练实例返回类别概率。\n",
    "\n",
    "例如， oob\t评估预测第4个训练实例有 85% 的概率属于正类（14.9%\t属于负类）："
   ]
  },
  {
   "cell_type": "code",
   "execution_count": 92,
   "metadata": {},
   "outputs": [
    {
     "data": {
      "text/plain": [
       "array([[0.00269542, 0.99730458],\n",
       "       [1.        , 0.        ],\n",
       "       [0.        , 1.        ],\n",
       "       [0.85066667, 0.14933333],\n",
       "       [0.9867374 , 0.0132626 ],\n",
       "       [0.9403794 , 0.0596206 ],\n",
       "       [0.00558659, 0.99441341],\n",
       "       [0.04336043, 0.95663957],\n",
       "       [0.94162437, 0.05837563],\n",
       "       [1.        , 0.        ]])"
      ]
     },
     "execution_count": 92,
     "metadata": {},
     "output_type": "execute_result"
    }
   ],
   "source": [
    "bagging_dt_clf2.oob_decision_function_[:10]"
   ]
  },
  {
   "cell_type": "code",
   "execution_count": 93,
   "metadata": {},
   "outputs": [
    {
     "data": {
      "text/plain": [
       "array([0, 1, 1, 1, 1, 0, 0, 0, 0, 0, 1, 1, 0, 1, 1, 1, 0, 1, 0, 0, 1, 0,\n",
       "       1, 0, 1, 1, 1, 1, 0, 0, 0, 0, 1, 1, 0, 0, 1, 1, 1, 0, 1, 1, 1, 0,\n",
       "       0, 0, 1, 0, 0, 0, 0, 0, 0, 0, 1, 1, 0, 1, 1, 0, 1, 0, 0, 1, 0, 1,\n",
       "       0, 1, 0, 0, 0, 1, 0, 1, 0, 0, 0, 0, 1, 0, 1, 0, 1, 0, 1, 1, 1, 0,\n",
       "       0, 0, 1, 1, 0, 1, 1, 0, 0, 0, 0, 1, 1, 0, 0, 0, 1, 1, 0, 1, 1, 0,\n",
       "       0, 1, 0, 1, 1, 1, 1, 1, 0, 0, 0, 1, 0, 1, 1, 0, 1, 1, 1, 1, 1, 1,\n",
       "       1, 0, 1, 1, 1, 0, 1, 0, 0, 0, 0, 1, 1, 0, 1, 1, 0, 0], dtype=int64)"
      ]
     },
     "execution_count": 93,
     "metadata": {},
     "output_type": "execute_result"
    }
   ],
   "source": [
    "y_pred"
   ]
  },
  {
   "cell_type": "markdown",
   "metadata": {},
   "source": [
    "## 随机森林\n",
    "\n",
    "随机森林算法在树生长时引入了额外的随机"
   ]
  },
  {
   "cell_type": "code",
   "execution_count": null,
   "metadata": {},
   "outputs": [],
   "source": []
  }
 ],
 "metadata": {
  "kernelspec": {
   "display_name": "Python 3",
   "language": "python",
   "name": "python3"
  },
  "language_info": {
   "codemirror_mode": {
    "name": "ipython",
    "version": 3
   },
   "file_extension": ".py",
   "mimetype": "text/x-python",
   "name": "python",
   "nbconvert_exporter": "python",
   "pygments_lexer": "ipython3",
   "version": "3.6.4"
  }
 },
 "nbformat": 4,
 "nbformat_minor": 2
}
